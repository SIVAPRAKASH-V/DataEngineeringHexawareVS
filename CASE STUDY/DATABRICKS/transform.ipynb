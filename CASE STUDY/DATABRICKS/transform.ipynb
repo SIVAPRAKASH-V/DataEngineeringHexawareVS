{
 "cells": [
  {
   "cell_type": "code",
   "execution_count": 0,
   "metadata": {
    "application/vnd.databricks.v1+cell": {
     "cellMetadata": {},
     "inputWidgets": {},
     "nuid": "f3e8f5c5-e56e-4475-bfdc-27037b940c4f",
     "showTitle": false,
     "tableResultSettingsMap": {},
     "title": ""
    }
   },
   "outputs": [],
   "source": [
    "# notebook2.py\n",
    "# Access the DataFrame from Notebook1 using the global temporary view\n",
    "df_from_notebook1 = spark.sql(\"SELECT * FROM global_temp.global_temp_sales_data\")\n",
    "\n",
    "# Drop the specified columns\n",
    "columns_to_drop = [\"Date\", \"Day\", \"Customer_Age\"]\n",
    "transformed_df = df_from_notebook1.drop(*columns_to_drop)\n",
    "\n",
    "# Drop duplicate records from the DataFrame\n",
    "deduplicated_df = transformed_df.dropDuplicates()\n",
    "\n",
    "# Save the result to a temporary table (Global temporary view) to pass to Notebook 3\n",
    "deduplicated_df.createOrReplaceGlobalTempView(\"global_temp_deduplicated_data\")"
   ]
  }
 ],
 "metadata": {
  "application/vnd.databricks.v1+notebook": {
   "dashboards": [],
   "environmentMetadata": {
    "base_environment": "",
    "client": "1"
   },
   "language": "python",
   "notebookMetadata": {
    "pythonIndentUnit": 4
   },
   "notebookName": "transform",
   "widgets": {}
  },
  "language_info": {
   "name": "python"
  }
 },
 "nbformat": 4,
 "nbformat_minor": 0
}
