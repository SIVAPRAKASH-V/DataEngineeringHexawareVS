{
 "cells": [
  {
   "cell_type": "code",
   "execution_count": null,
   "id": "9ff82b27",
   "metadata": {},
   "outputs": [],
   "source": []
  },
  {
   "cell_type": "code",
   "execution_count": 2,
   "id": "5463c677-c409-4530-96a0-d629178b2f90",
   "metadata": {},
   "outputs": [
    {
     "name": "stdout",
     "output_type": "stream",
     "text": [
      "<class 'dict'>\n",
      "{'Name': 'Java Foundation', 'Created by': 'Hexa', 'Content': ['Java Core', 'JSP', 'Servlets', 'Collections']}\n",
      "{'Name': 'Data Structures', 'Created by': 'Hexaware', 'also known as': 'Interview Preparation Course', 'Topics': ['Trees', 'Graphs', 'Maps']}\n",
      "Namelist: Java Foundation\n",
      "created by: Hexa\n",
      "Namelist: Data Structures\n",
      "created by: Hexaware\n"
     ]
    }
   ],
   "source": [
    "import  json\n",
    "with open('data.json')  as json_file:\n",
    "    data = json.load(json_file)\n",
    "    print(type(data))\n",
    "    print(data['Courses'][0])\n",
    "    print(data['Courses'][1])\n",
    "    \n",
    "    for i in data['Courses']:\n",
    "        print(\"Namelist:\", i['Name'])\n",
    "        print(\"created by:\", i[\"Created by\"])"
   ]
  },
  {
   "cell_type": "code",
   "execution_count": 3,
   "id": "3f76f207-50cc-41d3-8098-3f12c88b67d8",
   "metadata": {},
   "outputs": [
    {
     "name": "stdout",
     "output_type": "stream",
     "text": [
      "     Employee Name  Salary\n",
      "0         John Doe   50000\n",
      "1       Jane Smith   60000\n",
      "2  Michael Johnson   45000\n",
      "3      Emily Davis   55000\n",
      "     Employee Name  Salary\n",
      "0         John Doe   50000\n",
      "1       Jane Smith   60000\n",
      "2  Michael Johnson   45000\n",
      "3      Emily Davis   55000\n"
     ]
    }
   ],
   "source": [
    "import pandas as pd \n",
    "filepath= \"salary.csv\"\n",
    "data= pd.read_csv(filepath)\n",
    "print(data)\n",
    "print(data)\n"
   ]
  },
  {
   "cell_type": "code",
   "execution_count": 6,
   "id": "7e95cb34-6c9e-4560-8053-14fe91f2d025",
   "metadata": {},
   "outputs": [
    {
     "name": "stdout",
     "output_type": "stream",
     "text": [
      "0    1\n",
      "1    2\n",
      "2    3\n",
      "3    4\n",
      "dtype: int64\n"
     ]
    }
   ],
   "source": [
    "# import pandas as pd\n",
    "import pandas as pd# simple array\n",
    "data = [1, 2, 3, 4]\n",
    "ser = pd.Series(data)\n",
    "print(ser)"
   ]
  }
 ],
 "metadata": {
  "kernelspec": {
   "display_name": "Python 3",
   "language": "python",
   "name": "python3"
  },
  "language_info": {
   "codemirror_mode": {
    "name": "ipython",
    "version": 3
   },
   "file_extension": ".py",
   "mimetype": "text/x-python",
   "name": "python",
   "nbconvert_exporter": "python",
   "pygments_lexer": "ipython3",
   "version": "3.11.2"
  }
 },
 "nbformat": 4,
 "nbformat_minor": 5
}
