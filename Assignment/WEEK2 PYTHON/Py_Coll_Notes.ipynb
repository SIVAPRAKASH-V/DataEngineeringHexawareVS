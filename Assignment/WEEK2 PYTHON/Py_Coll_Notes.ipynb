{
 "cells": [
  {
   "cell_type": "markdown",
   "metadata": {},
   "source": [
    "# Python Collection for Data Engineering"
   ]
  },
  {
   "cell_type": "markdown",
   "metadata": {},
   "source": [
    "## File IO using Python"
   ]
  },
  {
   "cell_type": "markdown",
   "metadata": {},
   "source": [
    "Writing to a file"
   ]
  },
  {
   "cell_type": "code",
   "execution_count": 1,
   "metadata": {},
   "outputs": [],
   "source": [
    "# Writing to a text file\n",
    "with open(\"example.txt\", \"w\") as file:\n",
    "    file.write(\"Hello, World!\\n\")\n",
    "    file.write(\"Python File I/O is easy!\\n\")"
   ]
  },
  {
   "cell_type": "markdown",
   "metadata": {},
   "source": [
    "Appending to a File"
   ]
  },
  {
   "cell_type": "code",
   "execution_count": 2,
   "metadata": {},
   "outputs": [],
   "source": [
    "# Appending data to a file\n",
    "with open(\"example.txt\", \"a\") as file:\n",
    "    file.write(\"This line is appended.\\n\")"
   ]
  },
  {
   "cell_type": "markdown",
   "metadata": {},
   "source": [
    "Reading from a File"
   ]
  },
  {
   "cell_type": "code",
   "execution_count": 3,
   "metadata": {},
   "outputs": [
    {
     "name": "stdout",
     "output_type": "stream",
     "text": [
      "Hello, World!\n",
      "Python File I/O is easy!\n",
      "This line is appended.\n",
      "\n"
     ]
    }
   ],
   "source": [
    "# Reading the entire file\n",
    "with open(\"example.txt\", \"r\") as file:\n",
    "    content = file.read()\n",
    "    print(content)\n"
   ]
  },
  {
   "cell_type": "markdown",
   "metadata": {},
   "source": [
    "Reading Line-by-Line"
   ]
  },
  {
   "cell_type": "code",
   "execution_count": 4,
   "metadata": {},
   "outputs": [
    {
     "name": "stdout",
     "output_type": "stream",
     "text": [
      "Hello, World!\n",
      "Python File I/O is easy!\n",
      "This line is appended.\n"
     ]
    }
   ],
   "source": [
    "# Reading file line-by-line\n",
    "with open(\"example.txt\", \"r\") as file:\n",
    "    for line in file:\n",
    "        print(line.strip())  # strip() removes the newline character"
   ]
  },
  {
   "cell_type": "markdown",
   "metadata": {},
   "source": [
    "## Reading Data from a CSV File into a Python List"
   ]
  },
  {
   "cell_type": "markdown",
   "metadata": {},
   "source": [
    "Reading CSV Data into a List of Lists"
   ]
  },
  {
   "cell_type": "code",
   "execution_count": 5,
   "metadata": {},
   "outputs": [
    {
     "name": "stdout",
     "output_type": "stream",
     "text": [
      "[['Name', 'Age', 'City'], ['Alice', '30', 'New York'], ['Bob', '25', 'Los Angeles'], ['Charlie', '35', 'Chicago']]\n"
     ]
    }
   ],
   "source": [
    "import csv\n",
    "\n",
    "with open(\"data.csv\", \"r\") as file:\n",
    "    reader = csv.reader(file)\n",
    "    data = list(reader)  # Convert the reader object to a list\n",
    "\n",
    "print(data)"
   ]
  },
  {
   "cell_type": "markdown",
   "metadata": {},
   "source": [
    "Skipping the Header Row"
   ]
  },
  {
   "cell_type": "code",
   "execution_count": 6,
   "metadata": {},
   "outputs": [
    {
     "name": "stdout",
     "output_type": "stream",
     "text": [
      "[['Alice', '30', 'New York'], ['Bob', '25', 'Los Angeles'], ['Charlie', '35', 'Chicago']]\n"
     ]
    }
   ],
   "source": [
    "import csv\n",
    "\n",
    "with open(\"data.csv\", \"r\") as file:\n",
    "    reader = csv.reader(file)\n",
    "    next(reader)  # Skip header\n",
    "    data = list(reader)\n",
    "\n",
    "print(data)"
   ]
  },
  {
   "cell_type": "markdown",
   "metadata": {},
   "source": [
    "## Processing Python Lists"
   ]
  },
  {
   "cell_type": "markdown",
   "metadata": {},
   "source": [
    "Creating and Accessing List Elements"
   ]
  },
  {
   "cell_type": "code",
   "execution_count": 7,
   "metadata": {},
   "outputs": [
    {
     "name": "stdout",
     "output_type": "stream",
     "text": [
      "['Alice', '30', 'New York']\n",
      "25\n"
     ]
    }
   ],
   "source": [
    "data = [['Alice', '30', 'New York'], ['Bob', '25', 'Los Angeles'], ['Charlie', '35', 'Chicago']]\n",
    "\n",
    "# Accessing elements\n",
    "print(data[0])         \n",
    "print(data[1][1])      "
   ]
  },
  {
   "cell_type": "markdown",
   "metadata": {},
   "source": [
    "Slicing Lists"
   ]
  },
  {
   "cell_type": "code",
   "execution_count": 8,
   "metadata": {},
   "outputs": [
    {
     "name": "stdout",
     "output_type": "stream",
     "text": [
      "[['Alice', '30', 'New York'], ['Bob', '25', 'Los Angeles']]\n"
     ]
    }
   ],
   "source": [
    "# Slicing to get first two rows\n",
    "print(data[:2])\n"
   ]
  },
  {
   "cell_type": "markdown",
   "metadata": {},
   "source": [
    "Adding Elements to a List"
   ]
  },
  {
   "cell_type": "code",
   "execution_count": 9,
   "metadata": {},
   "outputs": [
    {
     "name": "stdout",
     "output_type": "stream",
     "text": [
      "[['Alice', '30', 'New York'], ['Bob', '25', 'Los Angeles'], ['Charlie', '35', 'Chicago'], ['Dave', '40', 'Boston']]\n"
     ]
    }
   ],
   "source": [
    "# Adding a new row to the data\n",
    "data.append(['Dave', '40', 'Boston'])\n",
    "print(data)  \n"
   ]
  },
  {
   "cell_type": "markdown",
   "metadata": {},
   "source": [
    "Removing Elements from a List"
   ]
  },
  {
   "cell_type": "code",
   "execution_count": 10,
   "metadata": {},
   "outputs": [
    {
     "name": "stdout",
     "output_type": "stream",
     "text": [
      "[['Alice', '30', 'New York'], ['Charlie', '35', 'Chicago'], ['Dave', '40', 'Boston']]\n"
     ]
    }
   ],
   "source": [
    "# Removing a specific row\n",
    "data.remove(['Bob', '25', 'Los Angeles'])\n",
    "print(data)\n"
   ]
  },
  {
   "cell_type": "markdown",
   "metadata": {},
   "source": [
    "List Comprehensions for Processing Data"
   ]
  },
  {
   "cell_type": "code",
   "execution_count": 11,
   "metadata": {},
   "outputs": [
    {
     "name": "stdout",
     "output_type": "stream",
     "text": [
      "['Alice', 'Charlie', 'Dave']\n",
      "[['Charlie', '35', 'Chicago'], ['Dave', '40', 'Boston']]\n"
     ]
    }
   ],
   "source": [
    "# Get only the names\n",
    "names = [row[0] for row in data]\n",
    "print(names)  \n",
    "\n",
    "# Filter rows where Age > 30\n",
    "older_than_30 = [row for row in data if int(row[1]) > 30]\n",
    "print(older_than_30)  \n"
   ]
  },
  {
   "cell_type": "markdown",
   "metadata": {},
   "source": [
    "Aggregating List Data"
   ]
  },
  {
   "cell_type": "code",
   "execution_count": 12,
   "metadata": {},
   "outputs": [
    {
     "name": "stdout",
     "output_type": "stream",
     "text": [
      "Total Age: 105\n",
      "Average Age: 35.0\n"
     ]
    }
   ],
   "source": [
    "ages = [int(row[1]) for row in data]\n",
    "print(\"Total Age:\", sum(ages))        # Sum of ages\n",
    "print(\"Average Age:\", sum(ages) / len(ages))  # Average of ages\n"
   ]
  },
  {
   "cell_type": "markdown",
   "metadata": {},
   "source": [
    "### Example Workflow - read CSV data as list\n",
    "* Let’s combine all of these operations in a simple workflow."
   ]
  },
  {
   "cell_type": "code",
   "execution_count": 13,
   "metadata": {},
   "outputs": [
    {
     "name": "stdout",
     "output_type": "stream",
     "text": [
      "Names: ['Alice', 'Charlie']\n",
      "[['Alice', '30', 'New York'], ['Bob', '25', 'Los Angeles'], ['Charlie', '35', 'Chicago'], ['Eve', '28', 'Miami']]\n",
      "['Alice', '30', 'New York']\n",
      "['Bob', '25', 'Los Angeles']\n",
      "['Charlie', '35', 'Chicago']\n",
      "['Eve', '28', 'Miami']\n"
     ]
    }
   ],
   "source": [
    "import csv\n",
    "\n",
    "# Read data from CSV as list reader\n",
    "with open(\"data.csv\", \"r\") as file:\n",
    "    reader = csv.reader(file)\n",
    "    next(reader)  # Skip header\n",
    "    data = list(reader)\n",
    "\n",
    "# Process data\n",
    "# 1. Add a new entry\n",
    "data.append(['Eve', '28', 'Miami'])\n",
    "\n",
    "# 2. Filter out entries where age < 30\n",
    "filtered_data = [row for row in data if int(row[1]) >= 30]\n",
    "\n",
    "# 3. Extract just the names\n",
    "names = [row[0] for row in filtered_data]\n",
    "\n",
    "print(\"Names:\", names)\n",
    "print(data)\n",
    "# print one by one\n",
    "for x in data:\n",
    "    print(x)"
   ]
  },
  {
   "cell_type": "markdown",
   "metadata": {},
   "source": [
    "## Lambda Functions in Python"
   ]
  },
  {
   "cell_type": "markdown",
   "metadata": {},
   "source": [
    "1. Basic Lambda Function\n"
   ]
  },
  {
   "cell_type": "code",
   "execution_count": 14,
   "metadata": {},
   "outputs": [
    {
     "name": "stdout",
     "output_type": "stream",
     "text": [
      "8\n"
     ]
    }
   ],
   "source": [
    "add_lambda = lambda x, y: x + y\n",
    "\n",
    "print(add_lambda(3, 5))"
   ]
  },
  {
   "cell_type": "markdown",
   "metadata": {},
   "source": [
    "2. Lambda Function with One Argument"
   ]
  },
  {
   "cell_type": "code",
   "execution_count": 15,
   "metadata": {},
   "outputs": [
    {
     "name": "stdout",
     "output_type": "stream",
     "text": [
      "16\n"
     ]
    }
   ],
   "source": [
    "square = lambda x: x ** 2\n",
    "print(square(4))"
   ]
  },
  {
   "cell_type": "markdown",
   "metadata": {},
   "source": [
    "3. Lambda Function with No Arguments"
   ]
  },
  {
   "cell_type": "code",
   "execution_count": 16,
   "metadata": {},
   "outputs": [
    {
     "name": "stdout",
     "output_type": "stream",
     "text": [
      "Hello, World!\n"
     ]
    }
   ],
   "source": [
    "greet = lambda: \"Hello, World!\"\n",
    "print(greet())  "
   ]
  },
  {
   "cell_type": "markdown",
   "metadata": {},
   "source": [
    "4. Lambda in List Comprehensions"
   ]
  },
  {
   "cell_type": "code",
   "execution_count": null,
   "metadata": {},
   "outputs": [],
   "source": [
    "numbers = [1, 2, 3, 4, 5]\n",
    "squared_odd_numbers = [lambda x: x**2 for x in numbers if x % 2 != 0]\n",
    "print([f(3) for f in squared_odd_numbers]) "
   ]
  },
  {
   "cell_type": "markdown",
   "metadata": {},
   "source": [
    "5. Lambda for Multiple Arguments"
   ]
  },
  {
   "cell_type": "code",
   "execution_count": 22,
   "metadata": {},
   "outputs": [
    {
     "name": "stdout",
     "output_type": "stream",
     "text": [
      "20\n"
     ]
    }
   ],
   "source": [
    "# Lambda to find the maximum of three numbers\n",
    "max_of_three = lambda x, y, z: max(x, y, z)\n",
    "print(max_of_three(10, 20, 15))"
   ]
  },
  {
   "cell_type": "markdown",
   "metadata": {},
   "source": [
    "## Usage of Lambda Functions\n",
    "1. Using map() with Lambda\n",
    "2. Using filter() with Lambda\n",
    "3. Using sorted() with Lambda\n",
    "4. Using reduce() with Lambda\n",
    "5. Lambda Functions Inside Other Functions"
   ]
  },
  {
   "cell_type": "code",
   "execution_count": 17,
   "metadata": {},
   "outputs": [
    {
     "name": "stdout",
     "output_type": "stream",
     "text": [
      "[1, 4, 9, 16, 25]\n"
     ]
    }
   ],
   "source": [
    "# 1. Using map() with Lambda\n",
    "numbers = [1, 2, 3, 4, 5]\n",
    "squared = list(map(lambda x: x ** 2, numbers))\n",
    "print(squared) "
   ]
  },
  {
   "cell_type": "markdown",
   "metadata": {},
   "source": [
    "Filter Data in Python Lists using filter and lambda"
   ]
  },
  {
   "cell_type": "code",
   "execution_count": 18,
   "metadata": {},
   "outputs": [
    {
     "name": "stdout",
     "output_type": "stream",
     "text": [
      "[2, 4, 6]\n"
     ]
    }
   ],
   "source": [
    "# 2. Using filter() with Lambda\n",
    "numbers = [1, 2, 3, 4, 5, 6]\n",
    "evens = list(filter(lambda x: x % 2 == 0, numbers))\n",
    "print(evens)"
   ]
  },
  {
   "cell_type": "code",
   "execution_count": 19,
   "metadata": {},
   "outputs": [
    {
     "name": "stdout",
     "output_type": "stream",
     "text": [
      "[(3, 1), (1, 2), (2, 3)]\n"
     ]
    }
   ],
   "source": [
    "# 3. Using sorted() with Lambda\n",
    "points = [(2, 3), (1, 2), (3, 1)]\n",
    "sorted_points = sorted(points, key=lambda x: x[1])\n",
    "print(sorted_points)"
   ]
  },
  {
   "cell_type": "code",
   "execution_count": 20,
   "metadata": {},
   "outputs": [
    {
     "name": "stdout",
     "output_type": "stream",
     "text": [
      "24\n"
     ]
    }
   ],
   "source": [
    "# 4. Using reduce() with Lambda\n",
    "from functools import reduce\n",
    "\n",
    "numbers = [1, 2, 3, 4]\n",
    "product = reduce(lambda x, y: x * y, numbers)\n",
    "print(product) "
   ]
  },
  {
   "cell_type": "code",
   "execution_count": 21,
   "metadata": {},
   "outputs": [
    {
     "name": "stdout",
     "output_type": "stream",
     "text": [
      "['date', 'apple', 'banana', 'cherry']\n"
     ]
    }
   ],
   "source": [
    "# 5. Lambda Functions Inside Other Functions\n",
    "strings = [\"apple\", \"banana\", \"cherry\", \"date\"]\n",
    "sorted_strings = sorted(strings, key=lambda s: len(s))\n",
    "print(sorted_strings)"
   ]
  },
  {
   "cell_type": "markdown",
   "metadata": {},
   "source": [
    "## Get unique values from list using map and set"
   ]
  },
  {
   "cell_type": "code",
   "execution_count": 2,
   "metadata": {},
   "outputs": [
    {
     "name": "stdout",
     "output_type": "stream",
     "text": [
      "{1, 2, 3, 4, 5}\n",
      "[1, 2, 3, 4, 5]\n"
     ]
    }
   ],
   "source": [
    "my_list = [1, 2, 3, 2, 1, 4, 5, 4]\n",
    "unique_values = set(my_list)\n",
    "print(unique_values)\n",
    "print(list(unique_values))"
   ]
  },
  {
   "cell_type": "markdown",
   "metadata": {},
   "source": [
    "## Sort Python lists using key"
   ]
  },
  {
   "cell_type": "code",
   "execution_count": null,
   "metadata": {},
   "outputs": [
    {
     "name": "stdout",
     "output_type": "stream",
     "text": [
      "[1, 1, 2, 3, 3, 4, 5, 5, 8, 9]\n",
      "[9, 8, 6, 6, 4, 3, 2]\n",
      "[1, 3, 3, 4, 4, 6, 7, 9]\n",
      "[9, 7, 6, 4, 4, 3, 3, 1]\n"
     ]
    }
   ],
   "source": [
    "# sort without key\n",
    "numbers = [1,5,3,2,8,5,4,9,1,3]\n",
    "numbers.sort()\n",
    "print(numbers)\n",
    "# reverse\n",
    "number = [2,9,6,4,8,3,6]\n",
    "number.sort(reverse=True)\n",
    "print(number)\n",
    "num = [4,6,4,3,9,7,3,1]\n",
    "# Sorted\n",
    "print(sorted(num))\n",
    "print(sorted(num,reverse=True))"
   ]
  },
  {
   "cell_type": "code",
   "execution_count": 17,
   "metadata": {},
   "outputs": [
    {
     "name": "stdout",
     "output_type": "stream",
     "text": [
      "[(2, 1), (4, 2), (1, 3)]\n",
      "['a', 'r', 'cc', 'dd', 'eeee']\n",
      "['a', 'AA', 'AAA', 'cc', 'r', 'RER', 'SSS', 'Z']\n"
     ]
    }
   ],
   "source": [
    "# Sort with key\n",
    "my_list = [(1, 3), (4, 2), (2, 1)]\n",
    "\n",
    "# Sort by the second element of each tuple\n",
    "sorted_list = sorted(my_list, key=lambda x: x[1])\n",
    "print(sorted_list)\n",
    "\n",
    "strs = ['a','eeee','cc','dd','r']\n",
    "sorted_l = sorted(strs, key=len)\n",
    "print(sorted_l)\n",
    "\n",
    "strs = ['a','AA','cc','SSS','r','AAA','Z','RER']\n",
    "sorte_l = sorted(strs, key=str.lower)\n",
    "print(sorte_l)"
   ]
  },
  {
   "cell_type": "markdown",
   "metadata": {},
   "source": [
    "can pass our own function as key function"
   ]
  },
  {
   "cell_type": "code",
   "execution_count": 26,
   "metadata": {},
   "outputs": [
    {
     "name": "stdout",
     "output_type": "stream",
     "text": [
      "['sA', 'sR', 'WWa', 'Sb', 'Gc', 'Sr', 'GSt', 'gSt', 'av', 'Dz']\n"
     ]
    }
   ],
   "source": [
    "def myFun(strs):\n",
    "    return strs[-1]\n",
    "#  Sorting string based on last character\n",
    "strs=['av','Gc','WWa','Sb','Dz','sA','sR','Sr','GSt','gSt']\n",
    "print(sorted(strs,key=myFun))"
   ]
  },
  {
   "cell_type": "code",
   "execution_count": null,
   "metadata": {},
   "outputs": [],
   "source": []
  },
  {
   "cell_type": "markdown",
   "metadata": {},
   "source": [
    "# <center>  **JSON** <center>"
   ]
  },
  {
   "cell_type": "markdown",
   "metadata": {},
   "source": [
    "## Read JSON Strings to Python dicts or lists"
   ]
  },
  {
   "cell_type": "code",
   "execution_count": null,
   "metadata": {},
   "outputs": [
    {
     "name": "stdout",
     "output_type": "stream",
     "text": [
      "{'id': 121, 'name': 'Naveen', 'course': 'MERN Stack'}\n",
      "<class 'dict'>\n",
      "Naveen\n",
      "MERN Stack\n"
     ]
    }
   ],
   "source": [
    "import json\n",
    "\n",
    "jsonstring = '{ \"id\": 121, \"name\": \"Naveen\", \"course\": \"MERN Stack\"}'\n",
    " # convert string to python dict\n",
    "student_data =json.loads(jsonstring)\n",
    " \n",
    "print(student_data)\n",
    "print(type(student_data))\n",
    "print(student_data['name'])\n",
    "print(student_data['course'])\n",
    "\n"
   ]
  },
  {
   "cell_type": "code",
   "execution_count": 42,
   "metadata": {},
   "outputs": [
    {
     "name": "stdout",
     "output_type": "stream",
     "text": [
      "{'name': 'Jane Smith', 'age': 18, 'grade': 12, 'subjects': ['Physics', 'Chemistry', 'Biology', 'Computer Science'], 'marks': {'Physics': 95, 'Chemistry': 88, 'Biology': 92, 'Computer Science': 98}}\n",
      "<class 'dict'>\n",
      "18\n"
     ]
    }
   ],
   "source": [
    "# read as dict\n",
    "import json\n",
    "\n",
    "with open ('data_list.json','r') as data_set:\n",
    "    data_read = json.load(data_set)\n",
    "    print(data_read)\n",
    "    print(type(data_read))\n",
    "    print(data_read[\"age\"])"
   ]
  },
  {
   "cell_type": "code",
   "execution_count": 46,
   "metadata": {},
   "outputs": [
    {
     "name": "stdout",
     "output_type": "stream",
     "text": [
      "[{'name': 'John Doe', 'age': 20, 'grade': 10, 'subjects': ['Math', 'Science', 'English', 'History'], 'marks': {'Math': 85, 'Science': 92, 'English': 78, 'History': 88}}, {'name': 'Jane Smith', 'age': 18, 'grade': 12, 'subjects': ['Physics', 'Chemistry', 'Biology', 'Computer Science'], 'marks': {'Physics': 95, 'Chemistry': 88, 'Biology': 92, 'Computer Science': 98}}]\n",
      "<class 'list'>\n",
      "['Physics', 'Chemistry', 'Biology', 'Computer Science']\n"
     ]
    }
   ],
   "source": [
    "# read as list for multiple data present in json \n",
    "# This is also example for nested json\n",
    "import json\n",
    "\n",
    "with open ('data.json','r') as data_set:\n",
    "    data_read = json.load(data_set)\n",
    "    print(data_read)\n",
    "    print(type(data_read))\n",
    "    print(data_read[1][\"subjects\"])\n"
   ]
  },
  {
   "cell_type": "markdown",
   "metadata": {},
   "source": [
    "Convert python dict to JSON"
   ]
  },
  {
   "cell_type": "code",
   "execution_count": 51,
   "metadata": {},
   "outputs": [
    {
     "name": "stdout",
     "output_type": "stream",
     "text": [
      "<class 'dict'>\n",
      "{\n",
      "    \"id\": 3,\n",
      "    \"name\": \"Raja\",\n",
      "    \"dept\": [\n",
      "        \"IT\",\n",
      "        \"ICT\"\n",
      "    ]\n",
      "}\n",
      "<class 'str'>\n"
     ]
    }
   ],
   "source": [
    "import json\n",
    "\n",
    "dictionary_value = {\n",
    "    \"id\":3,\n",
    "    \"name\":\"Raja\",\n",
    "    \"dept\": [\"IT\",\"ICT\"]\n",
    "}\n",
    "print(type(dictionary_value))\n",
    "json_obj=json.dumps(dictionary_value,indent=4)\n",
    "print(json_obj)\n",
    "print(type(json_obj))"
   ]
  },
  {
   "cell_type": "code",
   "execution_count": 52,
   "metadata": {},
   "outputs": [],
   "source": [
    "import json\n",
    "dict_val = {\n",
    "    \"name\":\"ravi\",\n",
    "    \"roll\": 345,\n",
    "    \"mail\": \"ravi@examplr.com\"\n",
    "}\n",
    "\n",
    "with open(\"write_json.json\",'w') as out:\n",
    "    json.dump(dict_val,out)"
   ]
  },
  {
   "cell_type": "code",
   "execution_count": 59,
   "metadata": {},
   "outputs": [
    {
     "name": "stdout",
     "output_type": "stream",
     "text": [
      "{\n",
      "    \"mail\": \"ravi@examplr.com\",\n",
      "    \"name\": \"ravi\",\n",
      "    \"roll\": 345\n",
      "}\n"
     ]
    }
   ],
   "source": [
    "# To make it more readable\n",
    "import json\n",
    "dict_val = '{\"name\":\"ravi\", \"roll\": 345,\"mail\": \"ravi@examplr.com\"}'\n",
    "\n",
    "emp_dict = json.loads(dict_val)\n",
    "print(json.dumps(emp_dict,indent=4,sort_keys=True))\n",
    "# with open(\"write_json.json\",'w') as out:\n",
    "#     json.dump(dict_val,out)"
   ]
  }
 ],
 "metadata": {
  "kernelspec": {
   "display_name": "Python 3",
   "language": "python",
   "name": "python3"
  },
  "language_info": {
   "codemirror_mode": {
    "name": "ipython",
    "version": 3
   },
   "file_extension": ".py",
   "mimetype": "text/x-python",
   "name": "python",
   "nbconvert_exporter": "python",
   "pygments_lexer": "ipython3",
   "version": "3.11.2"
  }
 },
 "nbformat": 4,
 "nbformat_minor": 2
}
