{
 "cells": [
  {
   "cell_type": "markdown",
   "metadata": {},
   "source": [
    "# Python collection for Data engineering\n"
   ]
  },
  {
   "cell_type": "markdown",
   "metadata": {},
   "source": [
    "### CSV data"
   ]
  },
  {
   "cell_type": "code",
   "execution_count": 14,
   "metadata": {},
   "outputs": [
    {
     "name": "stdout",
     "output_type": "stream",
     "text": [
      "['YearsExperience', 'Salary']\n",
      "['1.1', '39343.00']\n",
      "['1.3', '46205.00']\n",
      "['1.5', '37731.00']\n",
      "['2.0', '43525.00']\n",
      "['2.2', '39891.00']\n",
      "['2.9', '56642.00']\n",
      "['3.0', '60150.00']\n",
      "['3.2', '54445.00']\n",
      "['3.2', '64445.00']\n",
      "['3.7', '57189.00']\n",
      "['3.9', '63218.00']\n",
      "['4.0', '55794.00']\n",
      "['4.0', '56957.00']\n",
      "['4.1', '57081.00']\n",
      "['4.5', '61111.00']\n",
      "['4.9', '67938.00']\n",
      "['5.1', '66029.00']\n",
      "['5.3', '83088.00']\n",
      "['5.9', '81363.00']\n",
      "['6.0', '93940.00']\n",
      "['6.8', '91738.00']\n",
      "['7.1', '98273.00']\n",
      "['7.9', '101302.00']\n",
      "['8.2', '113812.00']\n",
      "['8.7', '109431.00']\n",
      "['9.0', '105582.00']\n",
      "['9.5', '116969.00']\n",
      "['9.6', '112635.00']\n",
      "['10.3', '122391.00']\n",
      "['10.5', '121872.00']\n",
      "['YearsExperience,Salary\\n']\n",
      "['1.1,39343.00\\n', '1.3,46205.00\\n', '1.5,37731.00\\n', '2.0,43525.00\\n', '2.2,39891.00\\n', '2.9,56642.00\\n', '3.0,60150.00\\n', '3.2,54445.00\\n', '3.2,64445.00\\n', '3.7,57189.00\\n', '3.9,63218.00\\n', '4.0,55794.00\\n', '4.0,56957.00\\n', '4.1,57081.00\\n', '4.5,61111.00\\n', '4.9,67938.00\\n', '5.1,66029.00\\n', '5.3,83088.00\\n', '5.9,81363.00\\n', '6.0,93940.00\\n', '6.8,91738.00\\n', '7.1,98273.00\\n', '7.9,101302.00\\n', '8.2,113812.00\\n', '8.7,109431.00\\n', '9.0,105582.00\\n', '9.5,116969.00\\n', '9.6,112635.00\\n', '10.3,122391.00\\n', '10.5,121872.00\\n']\n"
     ]
    }
   ],
   "source": [
    "import csv\n",
    "csv_file_path='salary_data.csv'\n",
    "with open(csv_file_path,'r') as file:\n",
    "    csv_reader=csv.reader(file)\n",
    "    for row in csv_reader:\n",
    "        print(row) \n",
    "\n",
    "with open(csv_file_path) as file:\n",
    "    content = file.readlines()\n",
    "header = content[:1]\n",
    "rows = content[1:]\n",
    "print(header)\n",
    "print(rows)\n",
    "# for row in rows:\n",
    "#     print(row)\n"
   ]
  },
  {
   "cell_type": "markdown",
   "metadata": {},
   "source": [
    "Write data"
   ]
  },
  {
   "cell_type": "code",
   "execution_count": 4,
   "metadata": {},
   "outputs": [
    {
     "name": "stdout",
     "output_type": "stream",
     "text": [
      "writing had been completed\n"
     ]
    }
   ],
   "source": [
    "import csv\n",
    "filepath='Myfile.csv'\n",
    "with open(filepath,'w',newline=\"\") as file:#append mode 'a' not to overwrite data\n",
    "    csvwriter=csv.writer(file)\n",
    "    csvwriter.writerow([\"Id\",\"Name\",\"Age\",\"Courses_Enrolled\"])\n",
    "    data=[[1,\"Aparna\",20,3],\n",
    "         [2,\"Stella\",20,1],\n",
    "        [3,\"kishore\",21,4]]\n",
    "    csvwriter.writerows(data)\n",
    "print(\"writing had been completed\")\n",
    "    "
   ]
  },
  {
   "cell_type": "markdown",
   "metadata": {},
   "source": [
    "Appending data"
   ]
  },
  {
   "cell_type": "code",
   "execution_count": 3,
   "metadata": {},
   "outputs": [
    {
     "name": "stdout",
     "output_type": "stream",
     "text": [
      "myprogramisdone\n"
     ]
    }
   ],
   "source": [
    "import csv \n",
    "filepath='myfiles.csv'\n",
    "with open(filepath,'a',newline=\"\") as file:\n",
    "    csvwriter=csv.writer(file)\n",
    "    data=[[7,\"annrna\",20,3],\n",
    "         [7,\"emmlla\",20,1],\n",
    "        [7,\"shmdmvore\",21,4]]\n",
    "    csvwriter.writerows(data)\n",
    "    print(\"myprogramisdone\")"
   ]
  },
  {
   "cell_type": "markdown",
   "metadata": {},
   "source": [
    "### List Read"
   ]
  },
  {
   "cell_type": "code",
   "execution_count": 1,
   "metadata": {},
   "outputs": [
    {
     "name": "stdout",
     "output_type": "stream",
     "text": [
      "[['Id', 'Name', 'Age', 'Courses_Enrolled'], ['1', 'Aparna', '20', '3'], ['2', 'Stella', '20', '1'], ['3', 'kishore', '21', '4']]\n"
     ]
    }
   ],
   "source": [
    "import csv\n",
    "\n",
    "with open('Myfile.csv', 'r') as read_object:\n",
    "    csv_reader =csv.reader(read_object)\n",
    "    \n",
    "    list_data = list(csv_reader)\n",
    "    print(list_data)"
   ]
  },
  {
   "cell_type": "markdown",
   "metadata": {},
   "source": [
    "Row example"
   ]
  },
  {
   "cell_type": "code",
   "execution_count": 7,
   "metadata": {},
   "outputs": [
    {
     "name": "stdout",
     "output_type": "stream",
     "text": [
      "['Id', 'Name', 'Age', 'Courses_Enrolled']\n",
      "Id\n",
      "Id Name Age\n",
      "['1', 'Aparna', '20', '3']\n",
      "1\n",
      "1 Aparna 20\n",
      "['2', 'Stella', '20', '1']\n",
      "2\n",
      "2 Stella 20\n",
      "['3', 'kishore', '21', '4']\n",
      "3\n",
      "3 kishore 21\n"
     ]
    }
   ],
   "source": [
    "import csv\n",
    "\n",
    "with open('Myfile.csv', 'r') as csvfile:\n",
    "    csvread =csv.reader(csvfile, delimiter = ',')\n",
    "    \n",
    "    #for loop\n",
    "    for row in csvread:\n",
    "        print(row)\n",
    "        print(row[0])\n",
    "        print(row [0], row[1], row[2])"
   ]
  },
  {
   "cell_type": "markdown",
   "metadata": {},
   "source": [
    "### Lambda Function"
   ]
  },
  {
   "cell_type": "code",
   "execution_count": 17,
   "metadata": {},
   "outputs": [
    {
     "name": "stdout",
     "output_type": "stream",
     "text": [
      "hexaware\n",
      "10\n",
      "50\n"
     ]
    }
   ],
   "source": [
    "#lambda function(upper) to convert a string to its\n",
    "\n",
    "\n",
    "string1 = 'Hexaware'\n",
    "lowers = lambda string: string.lower()\n",
    "print(lowers(string1))\n",
    "\n",
    "is_event_list = [lambda arg=x: arg*10 for x in (1,5)]\n",
    "for item in is_event_list:\n",
    "    print(item())"
   ]
  },
  {
   "cell_type": "markdown",
   "metadata": {},
   "source": [
    "lambda function ex2\n"
   ]
  },
  {
   "cell_type": "code",
   "execution_count": 21,
   "metadata": {},
   "outputs": [
    {
     "name": "stdout",
     "output_type": "stream",
     "text": [
      "Usingfunctiondefinedwith`def`keyword,cube: 125\n",
      "Usinglambdafunction,cube: 125\n"
     ]
    }
   ],
   "source": [
    "def cube(y):\n",
    "    return y*y*y\n",
    "lambda_cube=lambda y:y*y*y\n",
    "print(\"Usingfunctiondefinedwith`def`keyword,cube:\",cube(5))\n",
    "print(\"Usinglambdafunction,cube:\", lambda_cube(5))"
   ]
  },
  {
   "cell_type": "code",
   "execution_count": 23,
   "metadata": {},
   "outputs": [
    {
     "name": "stdout",
     "output_type": "stream",
     "text": [
      "2\n"
     ]
    }
   ],
   "source": [
    "Max=lambda a,b:a if(a>b)else b\n",
    "print(Max(1,2))"
   ]
  },
  {
   "cell_type": "code",
   "execution_count": 24,
   "metadata": {},
   "outputs": [
    {
     "name": "stdout",
     "output_type": "stream",
     "text": [
      "[3, 16, 9]\n"
     ]
    }
   ],
   "source": [
    "List=[[2,3,4],[1,4,16,64],[3,6,9,12]]\n",
    "sortList=lambda x:(sorted(i)for i in x)\n",
    "secondLargest=lambda x, f : [y[len(y)-2]for y in f(x)]\n",
    "res=secondLargest(List,sortList)\n",
    "print(res)"
   ]
  },
  {
   "cell_type": "code",
   "execution_count": 25,
   "metadata": {},
   "outputs": [
    {
     "name": "stdout",
     "output_type": "stream",
     "text": [
      "[5, 7, 97, 77, 23, 73, 61]\n"
     ]
    }
   ],
   "source": [
    "li = [5, 7, 22, 97, 54, 62, 77, 23, 73, 61]\n",
    "final_list = list(filter(lambda x: (x % 2 != 0), li))\n",
    "print(final_list)"
   ]
  }
 ],
 "metadata": {
  "kernelspec": {
   "display_name": "Python 3",
   "language": "python",
   "name": "python3"
  },
  "language_info": {
   "codemirror_mode": {
    "name": "ipython",
    "version": 3
   },
   "file_extension": ".py",
   "mimetype": "text/x-python",
   "name": "python",
   "nbconvert_exporter": "python",
   "pygments_lexer": "ipython3",
   "version": "3.11.2"
  }
 },
 "nbformat": 4,
 "nbformat_minor": 2
}
