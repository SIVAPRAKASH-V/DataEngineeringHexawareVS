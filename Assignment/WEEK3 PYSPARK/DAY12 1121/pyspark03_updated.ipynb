{
 "cells": [
  {
   "cell_type": "markdown",
   "metadata": {
    "application/vnd.databricks.v1+cell": {
     "cellMetadata": {
      "byteLimit": 2048000,
      "rowLimit": 10000
     },
     "inputWidgets": {},
     "nuid": "15384274-5f9a-4260-bd73-cfff5d25dcdf",
     "showTitle": false,
     "tableResultSettingsMap": {},
     "title": ""
    }
   },
   "source": [
    "# PYSPARK [Aggregate fuctions, Joins, Spark Sql] NOV 21 2024"
   ]
  },
  {
   "cell_type": "markdown",
   "metadata": {
    "application/vnd.databricks.v1+cell": {
     "cellMetadata": {
      "byteLimit": 2048000,
      "rowLimit": 10000
     },
     "inputWidgets": {},
     "nuid": "4c7eb53a-07c6-4785-98a2-5a8645dfa4a6",
     "showTitle": false,
     "tableResultSettingsMap": {},
     "title": ""
    }
   },
   "source": [
    "# Manipulating, Droping, Sorting, Aggregations, Joining, GroupeBy DataFrames"
   ]
  },
  {
   "cell_type": "markdown",
   "metadata": {
    "application/vnd.databricks.v1+cell": {
     "cellMetadata": {},
     "inputWidgets": {},
     "nuid": "14439dc7-b5a3-4056-85b6-92fe9cf83e8d",
     "showTitle": false,
     "tableResultSettingsMap": {},
     "title": ""
    }
   },
   "source": [
    "## working with sample data"
   ]
  },
  {
   "cell_type": "markdown",
   "metadata": {
    "application/vnd.databricks.v1+cell": {
     "cellMetadata": {
      "byteLimit": 2048000,
      "rowLimit": 10000
     },
     "inputWidgets": {},
     "nuid": "d64b17ec-ba36-4386-9775-9dd5aa5dbb7e",
     "showTitle": false,
     "tableResultSettingsMap": {},
     "title": ""
    }
   },
   "source": [
    "### create data"
   ]
  },
  {
   "cell_type": "code",
   "execution_count": 0,
   "metadata": {
    "application/vnd.databricks.v1+cell": {
     "cellMetadata": {
      "byteLimit": 2048000,
      "rowLimit": 10000
     },
     "inputWidgets": {},
     "nuid": "24836c51-7113-43f2-8927-1b380a6a22d4",
     "showTitle": false,
     "tableResultSettingsMap": {},
     "title": ""
    }
   },
   "outputs": [
    {
     "output_type": "stream",
     "name": "stdout",
     "output_type": "stream",
     "text": [
      "root\n |-- employee_name: string (nullable = true)\n |-- department: string (nullable = true)\n |-- state: string (nullable = true)\n |-- salary: long (nullable = true)\n |-- age: long (nullable = true)\n |-- bonus: long (nullable = true)\n\n+-------------+----------+-----+------+---+-----+\n|employee_name|department|state|salary|age|bonus|\n+-------------+----------+-----+------+---+-----+\n|        James|     Sales|   NY| 90000| 34|10000|\n|      Michael|     Sales|   NY| 86000| 56|20000|\n|       Robert|     Sales|   CA| 81000| 30|23000|\n|        Maria|   Finance|   CA| 90000| 24|23000|\n|        Raman|   Finance|   CA| 99000| 40|24000|\n|        Scott|   Finance|   NY| 83000| 36|19000|\n|          Jen|   Finance|   NY| 79000| 53|15000|\n|         Jeff| Marketing|   CA| 80000| 25|18000|\n|        Kumar| Marketing|   NY| 91000| 50|21000|\n+-------------+----------+-----+------+---+-----+\n\n"
     ]
    }
   ],
   "source": [
    "from pyspark.sql import SparkSession\n",
    "\n",
    "\n",
    "# Initialize SparkSession\n",
    "spark = SparkSession.builder \\\n",
    ".appName(\"example\") \\\n",
    ".getOrCreate()\n",
    "# Data\n",
    "simpleData = [(\"James\",\"Sales\",\"NY\",90000,34,10000),\n",
    "(\"Michael\",\"Sales\",\"NY\",86000,56,20000),\n",
    "(\"Robert\",\"Sales\",\"CA\",81000,30,23000),\n",
    "(\"Maria\",\"Finance\",\"CA\",90000,24,23000),\n",
    "(\"Raman\",\"Finance\",\"CA\",99000,40,24000),\n",
    "(\"Scott\",\"Finance\",\"NY\",83000,36,19000),\n",
    "(\"Jen\",\"Finance\",\"NY\",79000,53,15000),\n",
    "(\"Jeff\",\"Marketing\",\"CA\",80000,25,18000),\n",
    "(\"Kumar\",\"Marketing\",\"NY\",91000,50,21000)\n",
    "]\n",
    "# Create DataFrame\n",
    "schema = [\"employee_name\",\"department\",\"state\",\"salary\",\"age\",\"bonus\"]\n",
    "df = spark.createDataFrame(data=simpleData, schema = schema)\n",
    "df.printSchema()\n",
    "df.show()"
   ]
  },
  {
   "cell_type": "markdown",
   "metadata": {
    "application/vnd.databricks.v1+cell": {
     "cellMetadata": {
      "byteLimit": 2048000,
      "rowLimit": 10000
     },
     "inputWidgets": {},
     "nuid": "da6b7424-99f1-4c99-a176-47dd7e25d395",
     "showTitle": false,
     "tableResultSettingsMap": {},
     "title": ""
    }
   },
   "source": [
    "### groupby()"
   ]
  },
  {
   "cell_type": "code",
   "execution_count": 0,
   "metadata": {
    "application/vnd.databricks.v1+cell": {
     "cellMetadata": {
      "byteLimit": 2048000,
      "rowLimit": 10000
     },
     "inputWidgets": {},
     "nuid": "823cc347-cd28-4259-844d-3bf88dee6bfb",
     "showTitle": false,
     "tableResultSettingsMap": {},
     "title": ""
    }
   },
   "outputs": [
    {
     "output_type": "stream",
     "name": "stdout",
     "output_type": "stream",
     "text": [
      "+----------+-----------+\n|department|sum(salary)|\n+----------+-----------+\n|     Sales|     257000|\n|   Finance|     351000|\n| Marketing|     171000|\n+----------+-----------+\n\n"
     ]
    }
   ],
   "source": [
    "# groupby with sum of salaries\n",
    "sumdata = df.groupBy(\"department\").sum(\"salary\")\n",
    "sumdata.show()"
   ]
  },
  {
   "cell_type": "markdown",
   "metadata": {
    "application/vnd.databricks.v1+cell": {
     "cellMetadata": {
      "byteLimit": 2048000,
      "rowLimit": 10000
     },
     "inputWidgets": {},
     "nuid": "d071d9d7-108b-4b1f-899a-34f62c2f4e00",
     "showTitle": false,
     "tableResultSettingsMap": {},
     "title": ""
    }
   },
   "source": [
    "#### groupby with single column"
   ]
  },
  {
   "cell_type": "code",
   "execution_count": 0,
   "metadata": {
    "application/vnd.databricks.v1+cell": {
     "cellMetadata": {
      "byteLimit": 2048000,
      "rowLimit": 10000
     },
     "inputWidgets": {},
     "nuid": "44524510-5817-475c-a857-1bfca92c5019",
     "showTitle": false,
     "tableResultSettingsMap": {},
     "title": ""
    }
   },
   "outputs": [
    {
     "output_type": "stream",
     "name": "stdout",
     "output_type": "stream",
     "text": [
      "+----------+-----------+\n|department|min(salary)|\n+----------+-----------+\n|     Sales|      81000|\n|   Finance|      79000|\n| Marketing|      80000|\n+----------+-----------+\n\n+----------+-----------+\n|department|max(salary)|\n+----------+-----------+\n|     Sales|      90000|\n|   Finance|      99000|\n| Marketing|      91000|\n+----------+-----------+\n\n+----------+-----------------+\n|department|      avg(salary)|\n+----------+-----------------+\n|     Sales|85666.66666666667|\n|   Finance|          87750.0|\n| Marketing|          85500.0|\n+----------+-----------------+\n\n+----------+-----------------+\n|department|      avg(salary)|\n+----------+-----------------+\n|     Sales|85666.66666666667|\n|   Finance|          87750.0|\n| Marketing|          85500.0|\n+----------+-----------------+\n\n+----------+-----+\n|department|count|\n+----------+-----+\n|     Sales|    3|\n|   Finance|    4|\n| Marketing|    2|\n+----------+-----+\n\n"
     ]
    }
   ],
   "source": [
    "df.groupBy(\"department\").min(\"salary\").show()\n",
    "df.groupBy(\"department\").max(\"salary\").show()\n",
    "df.groupBy(\"department\").avg(\"salary\").show()\n",
    "df.groupBy(\"department\").mean(\"salary\").show()\n",
    "df.groupBy(\"department\").count().show()"
   ]
  },
  {
   "cell_type": "markdown",
   "metadata": {
    "application/vnd.databricks.v1+cell": {
     "cellMetadata": {
      "byteLimit": 2048000,
      "rowLimit": 10000
     },
     "inputWidgets": {},
     "nuid": "04cd26d4-2278-4677-a521-33335c6cc083",
     "showTitle": false,
     "tableResultSettingsMap": {},
     "title": ""
    }
   },
   "source": [
    "#### grouping with multiple columns"
   ]
  },
  {
   "cell_type": "code",
   "execution_count": 0,
   "metadata": {
    "application/vnd.databricks.v1+cell": {
     "cellMetadata": {
      "byteLimit": 2048000,
      "rowLimit": 10000
     },
     "inputWidgets": {},
     "nuid": "13467a9d-22c7-49a4-b593-e883d9c8c85c",
     "showTitle": false,
     "tableResultSettingsMap": {},
     "title": ""
    }
   },
   "outputs": [
    {
     "output_type": "stream",
     "name": "stdout",
     "output_type": "stream",
     "text": [
      "+-------------+----------+-----------+\n|employee_name|department|min(salary)|\n+-------------+----------+-----------+\n|        James|     Sales|      90000|\n|      Michael|     Sales|      86000|\n|       Robert|     Sales|      81000|\n|        Maria|   Finance|      90000|\n|        Raman|   Finance|      99000|\n|        Scott|   Finance|      83000|\n|          Jen|   Finance|      79000|\n|         Jeff| Marketing|      80000|\n|        Kumar| Marketing|      91000|\n+-------------+----------+-----------+\n\n+-------------+----------+-----------+\n|employee_name|department|max(salary)|\n+-------------+----------+-----------+\n|        James|     Sales|      90000|\n|      Michael|     Sales|      86000|\n|       Robert|     Sales|      81000|\n|        Maria|   Finance|      90000|\n|        Raman|   Finance|      99000|\n|        Scott|   Finance|      83000|\n|          Jen|   Finance|      79000|\n|         Jeff| Marketing|      80000|\n|        Kumar| Marketing|      91000|\n+-------------+----------+-----------+\n\n+-------------+----------+-----------+\n|employee_name|department|avg(salary)|\n+-------------+----------+-----------+\n|        James|     Sales|    90000.0|\n|      Michael|     Sales|    86000.0|\n|       Robert|     Sales|    81000.0|\n|        Maria|   Finance|    90000.0|\n|        Raman|   Finance|    99000.0|\n|        Scott|   Finance|    83000.0|\n|          Jen|   Finance|    79000.0|\n|         Jeff| Marketing|    80000.0|\n|        Kumar| Marketing|    91000.0|\n+-------------+----------+-----------+\n\n+-------------+----------+-----------+\n|employee_name|department|avg(salary)|\n+-------------+----------+-----------+\n|        James|     Sales|    90000.0|\n|      Michael|     Sales|    86000.0|\n|       Robert|     Sales|    81000.0|\n|        Maria|   Finance|    90000.0|\n|        Raman|   Finance|    99000.0|\n|        Scott|   Finance|    83000.0|\n|          Jen|   Finance|    79000.0|\n|         Jeff| Marketing|    80000.0|\n|        Kumar| Marketing|    91000.0|\n+-------------+----------+-----------+\n\n+-------------+----------+-----+\n|employee_name|department|count|\n+-------------+----------+-----+\n|        James|     Sales|    1|\n|      Michael|     Sales|    1|\n|       Robert|     Sales|    1|\n|        Maria|   Finance|    1|\n|        Raman|   Finance|    1|\n|        Scott|   Finance|    1|\n|          Jen|   Finance|    1|\n|         Jeff| Marketing|    1|\n|        Kumar| Marketing|    1|\n+-------------+----------+-----+\n\n"
     ]
    }
   ],
   "source": [
    "#grouping by multiple columns\n",
    "df.groupBy(\"employee_name\",\"department\").min(\"salary\").show()\n",
    "df.groupBy(\"employee_name\",\"department\").max(\"salary\").show()\n",
    "df.groupBy(\"employee_name\",\"department\").avg(\"salary\").show()\n",
    "df.groupBy(\"employee_name\",\"department\").mean(\"salary\").show()\n",
    "df.groupBy(\"employee_name\",\"department\").count().show()"
   ]
  },
  {
   "cell_type": "markdown",
   "metadata": {
    "application/vnd.databricks.v1+cell": {
     "cellMetadata": {
      "byteLimit": 2048000,
      "rowLimit": 10000
     },
     "inputWidgets": {},
     "nuid": "6deab17b-653a-4829-b2b0-00fe9ac56310",
     "showTitle": false,
     "tableResultSettingsMap": {},
     "title": ""
    }
   },
   "source": [
    "### pivot()"
   ]
  },
  {
   "cell_type": "code",
   "execution_count": 0,
   "metadata": {
    "application/vnd.databricks.v1+cell": {
     "cellMetadata": {
      "byteLimit": 2048000,
      "rowLimit": 10000
     },
     "inputWidgets": {},
     "nuid": "402f61cb-f9c0-4641-8a4d-d32168d9fa3d",
     "showTitle": false,
     "tableResultSettingsMap": {},
     "title": ""
    }
   },
   "outputs": [
    {
     "output_type": "stream",
     "name": "stdout",
     "output_type": "stream",
     "text": [
      "+----------+-----------+\n|department|sum(salary)|\n+----------+-----------+\n|     Sales|     257000|\n|   Finance|     351000|\n| Marketing|     171000|\n+----------+-----------+\n\n+----------+-----+-----+-----+-----+-----+-------+-----+------+-----+\n|department|James| Jeff|  Jen|Kumar|Maria|Michael|Raman|Robert|Scott|\n+----------+-----+-----+-----+-----+-----+-------+-----+------+-----+\n|     Sales|90000| null| null| null| null|  86000| null| 81000| null|\n|   Finance| null| null|79000| null|90000|   null|99000|  null|83000|\n| Marketing| null|80000| null|91000| null|   null| null|  null| null|\n+----------+-----+-----+-----+-----+-----+-------+-----+------+-----+\n\n"
     ]
    }
   ],
   "source": [
    "#using pivot function\n",
    "df.groupBy(\"department\").sum(\"salary\").show()\n",
    "df.groupBy(\"department\").pivot(\"employee_name\").sum(\"salary\").show()"
   ]
  },
  {
   "cell_type": "markdown",
   "metadata": {
    "application/vnd.databricks.v1+cell": {
     "cellMetadata": {
      "byteLimit": 2048000,
      "rowLimit": 10000
     },
     "inputWidgets": {},
     "nuid": "ba8dbd43-a9a4-47a7-9fbc-c96522841ff2",
     "showTitle": false,
     "tableResultSettingsMap": {},
     "title": ""
    }
   },
   "source": [
    "### dropping null values"
   ]
  },
  {
   "cell_type": "code",
   "execution_count": 0,
   "metadata": {
    "application/vnd.databricks.v1+cell": {
     "cellMetadata": {
      "byteLimit": 2048000,
      "rowLimit": 10000
     },
     "inputWidgets": {},
     "nuid": "ef28d3b6-406f-41ef-b597-445cbe543e8b",
     "showTitle": false,
     "tableResultSettingsMap": {},
     "title": ""
    }
   },
   "outputs": [
    {
     "output_type": "stream",
     "name": "stdout",
     "output_type": "stream",
     "text": [
      "+-------------+----------+-----+------+----+-----+\n|employee_name|department|state|salary| age|bonus|\n+-------------+----------+-----+------+----+-----+\n|        James|     Sales|   NY| 90000|  34|10000|\n|      Michael|     Sales|   NY| 86000|  56|20000|\n|       Robert|     Sales|   CA| 81000|null|23000|\n|        Maria|   Finance|   CA| 90000|  24|23000|\n|        Raman|   Finance|   CA| 99000|  40| null|\n|        Scott|   Finance|   NY|  null|  36|44000|\n|          Jen|   Finance|   NY| 55000|  53|15000|\n|         Jeff|      null|   CA| 80000|  25|18000|\n|         null| Marketing|   NY| 91000|  50|21000|\n+-------------+----------+-----+------+----+-----+\n\n"
     ]
    }
   ],
   "source": [
    "from pyspark.sql import SparkSession\n",
    "# Initialize SparkSession\n",
    "spark = SparkSession.builder.appName(\"example\").getOrCreate()\n",
    "# Data\n",
    "simpleData = [(\"James\",\"Sales\",\"NY\",90000,34,10000),\n",
    "(\"Michael\",\"Sales\",\"NY\",86000,56,20000),(\"Robert\",\"Sales\",\"CA\",81000,None,23000),\n",
    "(\"Maria\",\"Finance\",\"CA\",90000,24,23000),(\"Raman\",\"Finance\",\"CA\",99000,40,None),\n",
    "(\"Scott\",\"Finance\",\"NY\",None,36,44000),(\"Jen\",\"Finance\",\"NY\",55000,53,15000),\n",
    "(\"Jeff\",None,\"CA\",80000,25,18000),(None,\"Marketing\",\"NY\",91000,50,21000)]\n",
    "# Create DataFrame\n",
    "schema = [\"employee_name\",\"department\",\"state\",\"salary\",\"age\",\"bonus\"]\n",
    "dfa = spark.createDataFrame(data=simpleData, schema = schema)\n",
    "dfa.show()"
   ]
  },
  {
   "cell_type": "code",
   "execution_count": 0,
   "metadata": {
    "application/vnd.databricks.v1+cell": {
     "cellMetadata": {
      "byteLimit": 2048000,
      "rowLimit": 10000
     },
     "inputWidgets": {},
     "nuid": "59386732-19ce-4d2f-a0f5-338dd05b1645",
     "showTitle": false,
     "tableResultSettingsMap": {},
     "title": ""
    }
   },
   "outputs": [
    {
     "output_type": "stream",
     "name": "stdout",
     "output_type": "stream",
     "text": [
      "+-------------+----------+-----+------+---+-----+\n|employee_name|department|state|salary|age|bonus|\n+-------------+----------+-----+------+---+-----+\n|        James|     Sales|   NY| 90000| 34|10000|\n|      Michael|     Sales|   NY| 86000| 56|20000|\n|        Maria|   Finance|   CA| 90000| 24|23000|\n|          Jen|   Finance|   NY| 55000| 53|15000|\n+-------------+----------+-----+------+---+-----+\n\n"
     ]
    }
   ],
   "source": [
    "# Initialize SparkSession\n",
    "spark = SparkSession.builder.appName(\"example\").getOrCreate()\n",
    "# Data\n",
    "simpleData = [(\"James\",\"Sales\",\"NY\",90000,34,10000),\n",
    "(\"Michael\",\"Sales\",\"NY\",86000,56,20000),(\"Robert\",\"Sales\",\"CA\",81000,None,23000),\n",
    "(\"Maria\",\"Finance\",\"CA\",90000,24,23000),(\"Raman\",\"Finance\",\"CA\",99000,40,None),\n",
    "(\"Scott\",\"Finance\",\"NY\",None,36,44000),(\"Jen\",\"Finance\",\"NY\",55000,53,15000),\n",
    "(\"Jeff\",None,\"CA\",80000,25,18000),(None,\"Marketing\",\"NY\",91000,50,21000)]\n",
    "# Create DataFrame\n",
    "schema = [\"employee_name\",\"department\",\"state\",\"salary\",\"age\",\"bonus\"]\n",
    "dfa = spark.createDataFrame(data=simpleData, schema = schema)\n",
    "dfa.na.drop().show()"
   ]
  },
  {
   "cell_type": "markdown",
   "metadata": {
    "application/vnd.databricks.v1+cell": {
     "cellMetadata": {},
     "inputWidgets": {},
     "nuid": "03121c23-3616-4ccc-9103-89b2335246b5",
     "showTitle": false,
     "tableResultSettingsMap": {},
     "title": ""
    }
   },
   "source": [
    "### salary aggregate sum before and after grouping"
   ]
  },
  {
   "cell_type": "code",
   "execution_count": 0,
   "metadata": {
    "application/vnd.databricks.v1+cell": {
     "cellMetadata": {
      "byteLimit": 2048000,
      "rowLimit": 10000
     },
     "inputWidgets": {},
     "nuid": "9b2e19f1-d721-4400-a4f4-c4a9fbd1bdf0",
     "showTitle": false,
     "tableResultSettingsMap": {},
     "title": ""
    }
   },
   "outputs": [
    {
     "output_type": "stream",
     "name": "stdout",
     "output_type": "stream",
     "text": [
      "+----------+-----------+\n|department|sum(salary)|\n+----------+-----------+\n|     Sales|     257000|\n|   Finance|     351000|\n| Marketing|     171000|\n+----------+-----------+\n\n+-----------+\n|sum(salary)|\n+-----------+\n|     779000|\n+-----------+\n\n"
     ]
    }
   ],
   "source": [
    "df.groupBy(\"department\").agg(({\"salary\":\"sum\"})).show()\n",
    "df.agg(({\"salary\":\"sum\"})).show()  # Without group using agg on salary colums"
   ]
  },
  {
   "cell_type": "markdown",
   "metadata": {
    "application/vnd.databricks.v1+cell": {
     "cellMetadata": {},
     "inputWidgets": {},
     "nuid": "cf8e2a29-e7b1-459b-a6ff-7bf85d9044ec",
     "showTitle": false,
     "tableResultSettingsMap": {},
     "title": ""
    }
   },
   "source": [
    "## Working with Employee.csv file"
   ]
  },
  {
   "cell_type": "markdown",
   "metadata": {
    "application/vnd.databricks.v1+cell": {
     "cellMetadata": {},
     "inputWidgets": {},
     "nuid": "93e65b7d-0409-4dbd-80fd-95db45203934",
     "showTitle": false,
     "tableResultSettingsMap": {},
     "title": ""
    }
   },
   "source": [
    "### create data"
   ]
  },
  {
   "cell_type": "code",
   "execution_count": 0,
   "metadata": {
    "application/vnd.databricks.v1+cell": {
     "cellMetadata": {
      "byteLimit": 2048000,
      "rowLimit": 10000
     },
     "inputWidgets": {},
     "nuid": "5c6e7920-78ea-4cb6-821c-1ad0a0cf0009",
     "showTitle": false,
     "tableResultSettingsMap": {},
     "title": ""
    }
   },
   "outputs": [
    {
     "output_type": "display_data",
     "data": {
      "text/html": [
       "<style scoped>\n",
       "  .table-result-container {\n",
       "    max-height: 300px;\n",
       "    overflow: auto;\n",
       "  }\n",
       "  table, th, td {\n",
       "    border: 1px solid black;\n",
       "    border-collapse: collapse;\n",
       "  }\n",
       "  th, td {\n",
       "    padding: 5px;\n",
       "  }\n",
       "  th {\n",
       "    text-align: left;\n",
       "  }\n",
       "</style><div class='table-result-container'><table class='table-result'><thead style='background-color: white'><tr><th>EmployeeID</th><th>Name</th><th>Age</th><th>Department</th><th>Salary</th></tr></thead><tbody><tr><td>1</td><td>Aarav</td><td>59</td><td>IT</td><td>90000</td></tr><tr><td>2</td><td>Vivaan</td><td>49</td><td>HR</td><td>60000</td></tr><tr><td>3</td><td>Aditya</td><td>35</td><td>IT</td><td>100000</td></tr><tr><td>4</td><td>Anaya</td><td>28</td><td>null</td><td>85000</td></tr><tr><td>5</td><td>Diya</td><td>41</td><td>null</td><td>110000</td></tr><tr><td>6</td><td>Krishna</td><td>59</td><td>Finance</td><td>95000</td></tr><tr><td>7</td><td>Arjun</td><td>39</td><td>null</td><td>85000</td></tr><tr><td>8</td><td>Ishaan</td><td>43</td><td>Finance</td><td>65000</td></tr><tr><td>9</td><td>Riya</td><td>31</td><td>null</td><td>95000</td></tr><tr><td>10</td><td>Saanvi</td><td>31</td><td>HR</td><td>85000</td></tr></tbody></table></div>"
      ]
     },
     "metadata": {
      "application/vnd.databricks.v1+output": {
       "addedWidgets": {},
       "aggData": [],
       "aggError": "",
       "aggOverflow": false,
       "aggSchema": [],
       "aggSeriesLimitReached": false,
       "aggType": "",
       "arguments": {},
       "columnCustomDisplayInfos": {},
       "data": [
        [
         1,
         "Aarav",
         59,
         "IT",
         90000
        ],
        [
         2,
         "Vivaan",
         49,
         "HR",
         60000
        ],
        [
         3,
         "Aditya",
         35,
         "IT",
         100000
        ],
        [
         4,
         "Anaya",
         28,
         null,
         85000
        ],
        [
         5,
         "Diya",
         41,
         null,
         110000
        ],
        [
         6,
         "Krishna",
         59,
         "Finance",
         95000
        ],
        [
         7,
         "Arjun",
         39,
         null,
         85000
        ],
        [
         8,
         "Ishaan",
         43,
         "Finance",
         65000
        ],
        [
         9,
         "Riya",
         31,
         null,
         95000
        ],
        [
         10,
         "Saanvi",
         31,
         "HR",
         85000
        ]
       ],
       "datasetInfos": [],
       "dbfsResultPath": null,
       "isJsonSchema": true,
       "metadata": {},
       "overflow": false,
       "plotOptions": {
        "customPlotOptions": {},
        "displayType": "table",
        "pivotAggregation": null,
        "pivotColumns": null,
        "xColumns": null,
        "yColumns": null
       },
       "removedWidgets": [],
       "schema": [
        {
         "metadata": "{}",
         "name": "EmployeeID",
         "type": "\"integer\""
        },
        {
         "metadata": "{}",
         "name": "Name",
         "type": "\"string\""
        },
        {
         "metadata": "{}",
         "name": "Age",
         "type": "\"integer\""
        },
        {
         "metadata": "{}",
         "name": "Department",
         "type": "\"string\""
        },
        {
         "metadata": "{}",
         "name": "Salary",
         "type": "\"integer\""
        }
       ],
       "type": "table"
      }
     },
     "output_type": "display_data"
    }
   ],
   "source": [
    "data_emp = spark.read.csv(\"/FileStore/tables/employee-4.csv\",inferSchema=True,header=True)\n",
    "\n",
    "data_emp.limit(10).display()"
   ]
  },
  {
   "cell_type": "markdown",
   "metadata": {
    "application/vnd.databricks.v1+cell": {
     "cellMetadata": {},
     "inputWidgets": {},
     "nuid": "cd9db555-8dd1-4e4e-a7b9-32d1d25ec105",
     "showTitle": false,
     "tableResultSettingsMap": {},
     "title": ""
    }
   },
   "source": [
    "### groupby()"
   ]
  },
  {
   "cell_type": "markdown",
   "metadata": {
    "application/vnd.databricks.v1+cell": {
     "cellMetadata": {},
     "inputWidgets": {},
     "nuid": "8dbc9e26-87cb-4141-977e-450fed403b24",
     "showTitle": false,
     "tableResultSettingsMap": {},
     "title": ""
    }
   },
   "source": [
    "#### single column"
   ]
  },
  {
   "cell_type": "code",
   "execution_count": 0,
   "metadata": {
    "application/vnd.databricks.v1+cell": {
     "cellMetadata": {
      "byteLimit": 2048000,
      "rowLimit": 10000
     },
     "inputWidgets": {},
     "nuid": "3b5bbfc4-d4bd-424b-8aac-5e957512cb74",
     "showTitle": false,
     "tableResultSettingsMap": {},
     "title": ""
    }
   },
   "outputs": [
    {
     "output_type": "stream",
     "name": "stdout",
     "output_type": "stream",
     "text": [
      "+----------+-----------+\n|Department|min(salary)|\n+----------+-----------+\n|        HR|      60000|\n|      null|      45000|\n|   Finance|      35000|\n|        IT|      30000|\n+----------+-----------+\n\n+---+-----------+\n|Age|max(salary)|\n+---+-----------+\n| 31|      95000|\n| 53|      35000|\n| 34|      35000|\n| 28|      85000|\n| 27|      30000|\n| 44|      75000|\n| 22|      60000|\n| 47|      55000|\n| 57|      80000|\n| 48|      65000|\n| 41|     110000|\n| 43|      65000|\n| 35|     100000|\n| 59|      95000|\n| 39|      85000|\n| 23|      60000|\n| 49|      60000|\n| 50|     115000|\n| 45|      70000|\n| 38|      35000|\n+---+-----------+\nonly showing top 20 rows\n\n+----------+-----------------+\n|Department|      avg(salary)|\n+----------+-----------------+\n|        HR|          72500.0|\n|      null|82727.27272727272|\n|   Finance|64285.71428571428|\n|        IT|60384.61538461538|\n+----------+-----------------+\n\n+---+-----------------+\n|Age|      avg(salary)|\n+---+-----------------+\n| 31|          90000.0|\n| 53|          35000.0|\n| 34|          35000.0|\n| 28|          85000.0|\n| 27|          30000.0|\n| 44|          70000.0|\n| 22|          60000.0|\n| 47|          55000.0|\n| 57|          80000.0|\n| 48|          65000.0|\n| 41|          72500.0|\n| 43|          65000.0|\n| 35|          82500.0|\n| 59|76666.66666666667|\n| 39|          85000.0|\n| 23|          60000.0|\n| 49|          60000.0|\n| 50|         115000.0|\n| 45|          65000.0|\n| 38|          35000.0|\n+---+-----------------+\nonly showing top 20 rows\n\n+----------+-----+\n|Department|count|\n+----------+-----+\n|        HR|    4|\n|      null|   13|\n|   Finance|    7|\n|        IT|   16|\n+----------+-----+\n\n"
     ]
    }
   ],
   "source": [
    "data_emp.groupBy(\"Department\").min(\"salary\").show()\n",
    "data_emp.groupBy(\"Age\").max(\"salary\").show()\n",
    "data_emp.groupBy(\"Department\").avg(\"salary\").show()\n",
    "data_emp.groupBy(\"Age\").mean(\"salary\").show()\n",
    "data_emp.groupBy(\"Department\").count().show()"
   ]
  },
  {
   "cell_type": "markdown",
   "metadata": {
    "application/vnd.databricks.v1+cell": {
     "cellMetadata": {},
     "inputWidgets": {},
     "nuid": "8ff98967-b3b5-426f-8623-eea6357736eb",
     "showTitle": false,
     "tableResultSettingsMap": {},
     "title": ""
    }
   },
   "source": [
    "#### multiple column"
   ]
  },
  {
   "cell_type": "code",
   "execution_count": 0,
   "metadata": {
    "application/vnd.databricks.v1+cell": {
     "cellMetadata": {
      "byteLimit": 2048000,
      "rowLimit": 10000
     },
     "inputWidgets": {},
     "nuid": "f87ece7f-3650-4635-ac29-04ae15a88b2a",
     "showTitle": false,
     "tableResultSettingsMap": {},
     "title": ""
    }
   },
   "outputs": [
    {
     "output_type": "stream",
     "name": "stdout",
     "output_type": "stream",
     "text": [
      "+---+----------+-----------+\n|Age|department|min(salary)|\n+---+----------+-----------+\n| 31|      null|      95000|\n| 35|        IT|      65000|\n| 28|      null|      85000|\n| 24|   Finance|      80000|\n| 44|      null|       null|\n| 29|        IT|     100000|\n| 31|        HR|      85000|\n| 44|   Finance|      65000|\n| 22|      null|      60000|\n| 49|        HR|      60000|\n| 38|        IT|      35000|\n| 27|        IT|      30000|\n| 42|        IT|      45000|\n| 34|   Finance|      35000|\n| 57|      null|      80000|\n| 56|   Finance|      55000|\n| 59|   Finance|      95000|\n| 41|      null|     110000|\n| 59|        IT|      90000|\n| 44|        IT|      75000|\n+---+----------+-----------+\nonly showing top 20 rows\n\n+---+----------+-----------+\n|Age|department|max(salary)|\n+---+----------+-----------+\n| 31|      null|      95000|\n| 35|        IT|     100000|\n| 28|      null|      85000|\n| 24|   Finance|      80000|\n| 44|      null|       null|\n| 29|        IT|     100000|\n| 31|        HR|      85000|\n| 44|   Finance|      65000|\n| 22|      null|      60000|\n| 49|        HR|      60000|\n| 38|        IT|      35000|\n| 27|        IT|      30000|\n| 42|        IT|      45000|\n| 34|   Finance|      35000|\n| 57|      null|      80000|\n| 56|   Finance|      55000|\n| 59|   Finance|      95000|\n| 41|      null|     110000|\n| 59|        IT|      90000|\n| 44|        IT|      75000|\n+---+----------+-----------+\nonly showing top 20 rows\n\n+----------+---+-----------+\n|department|Age|avg(salary)|\n+----------+---+-----------+\n|      null| 31|    95000.0|\n|        IT| 42|    45000.0|\n|      null| 28|    85000.0|\n|      null| 44|       null|\n|        IT| 59|    90000.0|\n|      null| 22|    60000.0|\n|        IT| 22|    60000.0|\n|        HR| 42|    80000.0|\n|   Finance| 59|    95000.0|\n|      null| 57|    80000.0|\n|      null| 41|   110000.0|\n|        IT| 23|    60000.0|\n|   Finance| 56|    55000.0|\n|        HR| 48|    65000.0|\n|        IT| 41|    35000.0|\n|        IT| 32|       null|\n|      null| 59|    45000.0|\n|      null| 39|    85000.0|\n|        IT| 29|   100000.0|\n|        IT| 38|    35000.0|\n+----------+---+-----------+\nonly showing top 20 rows\n\n+-------+----------+-----------+\n|   Name|department|avg(salary)|\n+-------+----------+-----------+\n|   Diya|      null|   110000.0|\n| Vikram|        IT|    35000.0|\n|  Ankur|      null|    80000.0|\n|   Neha|        IT|    65000.0|\n|Krishna|   Finance|    95000.0|\n|  Pooja|        IT|    30000.0|\n|  Aarav|        IT|    90000.0|\n|  Rohan|        IT|    75000.0|\n|  Anaya|      null|    85000.0|\n| Aditya|        IT|   100000.0|\n| Shreya|   Finance|    35000.0|\n|  Kabir|      null|       null|\n|  Sneha|      null|    70000.0|\n|  Meera|        IT|       null|\n|    Raj|        IT|    60000.0|\n|   Riya|      null|    95000.0|\n| Sameer|      null|    45000.0|\n|    Dev|      null|   105000.0|\n| Saanvi|        HR|    85000.0|\n|  Nisha|      null|   115000.0|\n+-------+----------+-----------+\nonly showing top 20 rows\n\n+---+----------+-----+\n|Age|department|count|\n+---+----------+-----+\n| 31|      null|    1|\n| 35|        IT|    2|\n| 28|      null|    1|\n| 24|   Finance|    1|\n| 44|      null|    1|\n| 29|        IT|    1|\n| 31|        HR|    1|\n| 44|   Finance|    1|\n| 22|      null|    1|\n| 49|        HR|    1|\n| 38|        IT|    1|\n| 27|        IT|    1|\n| 42|        IT|    1|\n| 34|   Finance|    1|\n| 57|      null|    1|\n| 56|   Finance|    1|\n| 59|   Finance|    1|\n| 41|      null|    1|\n| 59|        IT|    1|\n| 44|        IT|    1|\n+---+----------+-----+\nonly showing top 20 rows\n\n"
     ]
    }
   ],
   "source": [
    "#grouping by multiple columns\n",
    "data_emp.groupBy(\"Age\",\"department\").min(\"salary\").show()\n",
    "data_emp.groupBy(\"Age\",\"department\").max(\"salary\").show()\n",
    "data_emp.groupBy(\"department\",\"Age\").avg(\"salary\").show()\n",
    "data_emp.groupBy(\"Name\",\"department\").mean(\"salary\").show()\n",
    "data_emp.groupBy(\"Age\",\"department\").count().show()"
   ]
  },
  {
   "cell_type": "markdown",
   "metadata": {
    "application/vnd.databricks.v1+cell": {
     "cellMetadata": {},
     "inputWidgets": {},
     "nuid": "bc977361-a429-4fb2-8c19-c47867c57de7",
     "showTitle": false,
     "tableResultSettingsMap": {},
     "title": ""
    }
   },
   "source": [
    "### dropping null value"
   ]
  },
  {
   "cell_type": "code",
   "execution_count": 0,
   "metadata": {
    "application/vnd.databricks.v1+cell": {
     "cellMetadata": {
      "byteLimit": 2048000,
      "rowLimit": 10000
     },
     "inputWidgets": {},
     "nuid": "08060fad-b21d-46b6-b5f2-85fb413b1df4",
     "showTitle": false,
     "tableResultSettingsMap": {},
     "title": ""
    }
   },
   "outputs": [
    {
     "output_type": "display_data",
     "data": {
      "text/html": [
       "<style scoped>\n",
       "  .table-result-container {\n",
       "    max-height: 300px;\n",
       "    overflow: auto;\n",
       "  }\n",
       "  table, th, td {\n",
       "    border: 1px solid black;\n",
       "    border-collapse: collapse;\n",
       "  }\n",
       "  th, td {\n",
       "    padding: 5px;\n",
       "  }\n",
       "  th {\n",
       "    text-align: left;\n",
       "  }\n",
       "</style><div class='table-result-container'><table class='table-result'><thead style='background-color: white'><tr><th>EmployeeID</th><th>Name</th><th>Age</th><th>Department</th><th>Salary</th></tr></thead><tbody><tr><td>1</td><td>Aarav</td><td>59</td><td>IT</td><td>90000</td></tr><tr><td>2</td><td>Vivaan</td><td>49</td><td>HR</td><td>60000</td></tr><tr><td>3</td><td>Aditya</td><td>35</td><td>IT</td><td>100000</td></tr><tr><td>6</td><td>Krishna</td><td>59</td><td>Finance</td><td>95000</td></tr><tr><td>8</td><td>Ishaan</td><td>43</td><td>Finance</td><td>65000</td></tr><tr><td>10</td><td>Saanvi</td><td>31</td><td>HR</td><td>85000</td></tr><tr><td>12</td><td>Aditi</td><td>56</td><td>Finance</td><td>55000</td></tr><tr><td>13</td><td>Tanish</td><td>44</td><td>Finance</td><td>65000</td></tr><tr><td>15</td><td>Priya</td><td>42</td><td>HR</td><td>80000</td></tr><tr><td>17</td><td>Rohan</td><td>44</td><td>IT</td><td>75000</td></tr></tbody></table></div>"
      ]
     },
     "metadata": {
      "application/vnd.databricks.v1+output": {
       "addedWidgets": {},
       "aggData": [],
       "aggError": "",
       "aggOverflow": false,
       "aggSchema": [],
       "aggSeriesLimitReached": false,
       "aggType": "",
       "arguments": {},
       "columnCustomDisplayInfos": {},
       "data": [
        [
         1,
         "Aarav",
         59,
         "IT",
         90000
        ],
        [
         2,
         "Vivaan",
         49,
         "HR",
         60000
        ],
        [
         3,
         "Aditya",
         35,
         "IT",
         100000
        ],
        [
         6,
         "Krishna",
         59,
         "Finance",
         95000
        ],
        [
         8,
         "Ishaan",
         43,
         "Finance",
         65000
        ],
        [
         10,
         "Saanvi",
         31,
         "HR",
         85000
        ],
        [
         12,
         "Aditi",
         56,
         "Finance",
         55000
        ],
        [
         13,
         "Tanish",
         44,
         "Finance",
         65000
        ],
        [
         15,
         "Priya",
         42,
         "HR",
         80000
        ],
        [
         17,
         "Rohan",
         44,
         "IT",
         75000
        ]
       ],
       "datasetInfos": [],
       "dbfsResultPath": null,
       "isJsonSchema": true,
       "metadata": {},
       "overflow": false,
       "plotOptions": {
        "customPlotOptions": {},
        "displayType": "table",
        "pivotAggregation": null,
        "pivotColumns": null,
        "xColumns": null,
        "yColumns": null
       },
       "removedWidgets": [],
       "schema": [
        {
         "metadata": "{}",
         "name": "EmployeeID",
         "type": "\"integer\""
        },
        {
         "metadata": "{}",
         "name": "Name",
         "type": "\"string\""
        },
        {
         "metadata": "{}",
         "name": "Age",
         "type": "\"integer\""
        },
        {
         "metadata": "{}",
         "name": "Department",
         "type": "\"string\""
        },
        {
         "metadata": "{}",
         "name": "Salary",
         "type": "\"integer\""
        }
       ],
       "type": "table"
      }
     },
     "output_type": "display_data"
    }
   ],
   "source": [
    "data_copy = data_emp\n",
    "df_clean = data_copy.na.drop()\n",
    "df_clean.limit(10).display()"
   ]
  },
  {
   "cell_type": "markdown",
   "metadata": {
    "application/vnd.databricks.v1+cell": {
     "cellMetadata": {},
     "inputWidgets": {},
     "nuid": "dbdfe180-bc3e-425b-918b-204ad7b19d6e",
     "showTitle": false,
     "tableResultSettingsMap": {},
     "title": ""
    }
   },
   "source": [
    "### groupby after dropping null"
   ]
  },
  {
   "cell_type": "code",
   "execution_count": 0,
   "metadata": {
    "application/vnd.databricks.v1+cell": {
     "cellMetadata": {
      "byteLimit": 2048000,
      "rowLimit": 10000
     },
     "inputWidgets": {},
     "nuid": "5b4c3521-e728-4e59-b44d-95f0d910fd64",
     "showTitle": false,
     "tableResultSettingsMap": {},
     "title": ""
    }
   },
   "outputs": [
    {
     "output_type": "stream",
     "name": "stdout",
     "output_type": "stream",
     "text": [
      "+---+-----------+\n|Age|max(salary)|\n+---+-----------+\n| 22|      60000|\n| 23|      60000|\n| 24|      80000|\n| 27|      30000|\n| 29|     100000|\n| 31|      85000|\n| 34|      35000|\n| 35|     100000|\n| 36|      55000|\n| 38|      35000|\n| 41|      35000|\n| 42|      80000|\n| 43|      65000|\n| 44|      75000|\n| 47|      55000|\n| 48|      65000|\n| 49|      60000|\n| 53|      35000|\n| 56|      55000|\n| 59|      95000|\n+---+-----------+\n\n+----------+---+-----------+\n|department|Age|avg(salary)|\n+----------+---+-----------+\n|        IT| 42|    45000.0|\n|        IT| 59|    90000.0|\n|        IT| 22|    60000.0|\n|        HR| 42|    80000.0|\n|   Finance| 59|    95000.0|\n|        IT| 23|    60000.0|\n|   Finance| 56|    55000.0|\n|        HR| 48|    65000.0|\n|        IT| 41|    35000.0|\n|        IT| 29|   100000.0|\n|        IT| 38|    35000.0|\n|   Finance| 43|    65000.0|\n|        HR| 31|    85000.0|\n|        IT| 53|    35000.0|\n|   Finance| 24|    80000.0|\n|        IT| 47|    55000.0|\n|   Finance| 44|    65000.0|\n|   Finance| 36|    55000.0|\n|        IT| 27|    30000.0|\n|   Finance| 34|    35000.0|\n+----------+---+-----------+\nonly showing top 20 rows\n\n+---+----------+-----+\n|Age|department|count|\n+---+----------+-----+\n| 35|        IT|    2|\n| 24|   Finance|    1|\n| 29|        IT|    1|\n| 31|        HR|    1|\n| 44|   Finance|    1|\n| 49|        HR|    1|\n| 38|        IT|    1|\n| 27|        IT|    1|\n| 42|        IT|    1|\n| 34|   Finance|    1|\n| 56|   Finance|    1|\n| 59|   Finance|    1|\n| 59|        IT|    1|\n| 44|        IT|    1|\n| 22|        IT|    1|\n| 23|        IT|    1|\n| 41|        IT|    1|\n| 43|   Finance|    1|\n| 53|        IT|    1|\n| 47|        IT|    1|\n+---+----------+-----+\nonly showing top 20 rows\n\n"
     ]
    }
   ],
   "source": [
    "#grouping by multiple columns\n",
    "df_clean.groupBy(\"Age\").max(\"salary\").orderBy(\"Age\").show()\n",
    "df_clean.groupBy(\"department\",\"Age\").avg(\"salary\").show()\n",
    "df_clean.groupBy(\"Age\",\"department\").count().show()"
   ]
  },
  {
   "cell_type": "markdown",
   "metadata": {
    "application/vnd.databricks.v1+cell": {
     "cellMetadata": {},
     "inputWidgets": {},
     "nuid": "f5046eef-9851-4ded-ac84-6d4a453e398a",
     "showTitle": false,
     "tableResultSettingsMap": {},
     "title": ""
    }
   },
   "source": [
    "## Working with Loan Data"
   ]
  },
  {
   "cell_type": "markdown",
   "metadata": {
    "application/vnd.databricks.v1+cell": {
     "cellMetadata": {},
     "inputWidgets": {},
     "nuid": "cd9d1919-fa6b-43ab-9cd4-402706dd7c92",
     "showTitle": false,
     "tableResultSettingsMap": {},
     "title": ""
    }
   },
   "source": [
    "### Create data"
   ]
  },
  {
   "cell_type": "code",
   "execution_count": 0,
   "metadata": {
    "application/vnd.databricks.v1+cell": {
     "cellMetadata": {
      "byteLimit": 2048000,
      "rowLimit": 10000
     },
     "inputWidgets": {},
     "nuid": "381f7442-29ca-47c2-afa2-9e0e5630505b",
     "showTitle": false,
     "tableResultSettingsMap": {},
     "title": ""
    }
   },
   "outputs": [],
   "source": [
    "data_loan = spark.read.csv(\"/FileStore/tables/LoanData-2.csv\",inferSchema=True,header=True)"
   ]
  },
  {
   "cell_type": "markdown",
   "metadata": {
    "application/vnd.databricks.v1+cell": {
     "cellMetadata": {},
     "inputWidgets": {},
     "nuid": "439f5443-dbba-4f2a-8899-2db1cd282a77",
     "showTitle": false,
     "tableResultSettingsMap": {},
     "title": ""
    }
   },
   "source": [
    "### data exploration"
   ]
  },
  {
   "cell_type": "code",
   "execution_count": 0,
   "metadata": {
    "application/vnd.databricks.v1+cell": {
     "cellMetadata": {
      "byteLimit": 2048000,
      "rowLimit": 10000
     },
     "inputWidgets": {},
     "nuid": "a644e9fe-6231-444f-b7ab-0ad62215786f",
     "showTitle": false,
     "tableResultSettingsMap": {},
     "title": ""
    }
   },
   "outputs": [
    {
     "output_type": "display_data",
     "data": {
      "text/html": [
       "<style scoped>\n",
       "  .table-result-container {\n",
       "    max-height: 300px;\n",
       "    overflow: auto;\n",
       "  }\n",
       "  table, th, td {\n",
       "    border: 1px solid black;\n",
       "    border-collapse: collapse;\n",
       "  }\n",
       "  th, td {\n",
       "    padding: 5px;\n",
       "  }\n",
       "  th {\n",
       "    text-align: left;\n",
       "  }\n",
       "</style><div class='table-result-container'><table class='table-result'><thead style='background-color: white'><tr><th>Loan_ID</th><th>Gender</th><th>Married</th><th>Dependents</th><th>Education</th><th>Self_Employed</th><th>ApplicantIncome</th><th>CoapplicantIncome</th><th>LoanAmount</th><th>Loan_Amount_Term</th><th>Credit_History</th><th>Property_Area</th><th>Loan_Status</th></tr></thead><tbody><tr><td>LP001002</td><td>Male</td><td>No</td><td>0</td><td>Graduate</td><td>No</td><td>5849</td><td>0.0</td><td>null</td><td>360</td><td>1</td><td>Urban</td><td>Y</td></tr><tr><td>LP001003</td><td>Male</td><td>Yes</td><td>1</td><td>Graduate</td><td>No</td><td>4583</td><td>1508.0</td><td>128</td><td>360</td><td>1</td><td>Rural</td><td>N</td></tr><tr><td>LP001005</td><td>Male</td><td>Yes</td><td>0</td><td>Graduate</td><td>Yes</td><td>3000</td><td>0.0</td><td>66</td><td>360</td><td>1</td><td>Urban</td><td>Y</td></tr><tr><td>LP001006</td><td>Male</td><td>Yes</td><td>0</td><td>Not Graduate</td><td>No</td><td>2583</td><td>2358.0</td><td>120</td><td>360</td><td>1</td><td>Urban</td><td>Y</td></tr><tr><td>LP001008</td><td>Male</td><td>No</td><td>0</td><td>Graduate</td><td>No</td><td>6000</td><td>0.0</td><td>141</td><td>360</td><td>1</td><td>Urban</td><td>Y</td></tr><tr><td>LP001011</td><td>Male</td><td>Yes</td><td>2</td><td>Graduate</td><td>Yes</td><td>5417</td><td>4196.0</td><td>267</td><td>360</td><td>1</td><td>Urban</td><td>Y</td></tr><tr><td>LP001013</td><td>Male</td><td>Yes</td><td>0</td><td>Not Graduate</td><td>No</td><td>2333</td><td>1516.0</td><td>95</td><td>360</td><td>1</td><td>Urban</td><td>Y</td></tr><tr><td>LP001014</td><td>Male</td><td>Yes</td><td>3+</td><td>Graduate</td><td>No</td><td>3036</td><td>2504.0</td><td>158</td><td>360</td><td>0</td><td>Semiurban</td><td>N</td></tr><tr><td>LP001018</td><td>Male</td><td>Yes</td><td>2</td><td>Graduate</td><td>No</td><td>4006</td><td>1526.0</td><td>168</td><td>360</td><td>1</td><td>Urban</td><td>Y</td></tr><tr><td>LP001020</td><td>Male</td><td>Yes</td><td>1</td><td>Graduate</td><td>No</td><td>12841</td><td>10968.0</td><td>349</td><td>360</td><td>1</td><td>Semiurban</td><td>N</td></tr></tbody></table></div>"
      ]
     },
     "metadata": {
      "application/vnd.databricks.v1+output": {
       "addedWidgets": {},
       "aggData": [],
       "aggError": "",
       "aggOverflow": false,
       "aggSchema": [],
       "aggSeriesLimitReached": false,
       "aggType": "",
       "arguments": {},
       "columnCustomDisplayInfos": {},
       "data": [
        [
         "LP001002",
         "Male",
         "No",
         "0",
         "Graduate",
         "No",
         5849,
         0.0,
         null,
         360,
         1,
         "Urban",
         "Y"
        ],
        [
         "LP001003",
         "Male",
         "Yes",
         "1",
         "Graduate",
         "No",
         4583,
         1508.0,
         128,
         360,
         1,
         "Rural",
         "N"
        ],
        [
         "LP001005",
         "Male",
         "Yes",
         "0",
         "Graduate",
         "Yes",
         3000,
         0.0,
         66,
         360,
         1,
         "Urban",
         "Y"
        ],
        [
         "LP001006",
         "Male",
         "Yes",
         "0",
         "Not Graduate",
         "No",
         2583,
         2358.0,
         120,
         360,
         1,
         "Urban",
         "Y"
        ],
        [
         "LP001008",
         "Male",
         "No",
         "0",
         "Graduate",
         "No",
         6000,
         0.0,
         141,
         360,
         1,
         "Urban",
         "Y"
        ],
        [
         "LP001011",
         "Male",
         "Yes",
         "2",
         "Graduate",
         "Yes",
         5417,
         4196.0,
         267,
         360,
         1,
         "Urban",
         "Y"
        ],
        [
         "LP001013",
         "Male",
         "Yes",
         "0",
         "Not Graduate",
         "No",
         2333,
         1516.0,
         95,
         360,
         1,
         "Urban",
         "Y"
        ],
        [
         "LP001014",
         "Male",
         "Yes",
         "3+",
         "Graduate",
         "No",
         3036,
         2504.0,
         158,
         360,
         0,
         "Semiurban",
         "N"
        ],
        [
         "LP001018",
         "Male",
         "Yes",
         "2",
         "Graduate",
         "No",
         4006,
         1526.0,
         168,
         360,
         1,
         "Urban",
         "Y"
        ],
        [
         "LP001020",
         "Male",
         "Yes",
         "1",
         "Graduate",
         "No",
         12841,
         10968.0,
         349,
         360,
         1,
         "Semiurban",
         "N"
        ]
       ],
       "datasetInfos": [],
       "dbfsResultPath": null,
       "isJsonSchema": true,
       "metadata": {},
       "overflow": false,
       "plotOptions": {
        "customPlotOptions": {},
        "displayType": "table",
        "pivotAggregation": null,
        "pivotColumns": null,
        "xColumns": null,
        "yColumns": null
       },
       "removedWidgets": [],
       "schema": [
        {
         "metadata": "{}",
         "name": "Loan_ID",
         "type": "\"string\""
        },
        {
         "metadata": "{}",
         "name": "Gender",
         "type": "\"string\""
        },
        {
         "metadata": "{}",
         "name": "Married",
         "type": "\"string\""
        },
        {
         "metadata": "{}",
         "name": "Dependents",
         "type": "\"string\""
        },
        {
         "metadata": "{}",
         "name": "Education",
         "type": "\"string\""
        },
        {
         "metadata": "{}",
         "name": "Self_Employed",
         "type": "\"string\""
        },
        {
         "metadata": "{}",
         "name": "ApplicantIncome",
         "type": "\"integer\""
        },
        {
         "metadata": "{}",
         "name": "CoapplicantIncome",
         "type": "\"double\""
        },
        {
         "metadata": "{}",
         "name": "LoanAmount",
         "type": "\"integer\""
        },
        {
         "metadata": "{}",
         "name": "Loan_Amount_Term",
         "type": "\"integer\""
        },
        {
         "metadata": "{}",
         "name": "Credit_History",
         "type": "\"integer\""
        },
        {
         "metadata": "{}",
         "name": "Property_Area",
         "type": "\"string\""
        },
        {
         "metadata": "{}",
         "name": "Loan_Status",
         "type": "\"string\""
        }
       ],
       "type": "table"
      }
     },
     "output_type": "display_data"
    }
   ],
   "source": [
    "data_loan.limit(10).display()"
   ]
  },
  {
   "cell_type": "code",
   "execution_count": 0,
   "metadata": {
    "application/vnd.databricks.v1+cell": {
     "cellMetadata": {
      "byteLimit": 2048000,
      "rowLimit": 10000
     },
     "inputWidgets": {},
     "nuid": "6565496a-f16f-4c38-b113-b65d6e28b048",
     "showTitle": false,
     "tableResultSettingsMap": {},
     "title": ""
    }
   },
   "outputs": [
    {
     "output_type": "stream",
     "name": "stdout",
     "output_type": "stream",
     "text": [
      "root\n |-- Loan_ID: string (nullable = true)\n |-- Gender: string (nullable = true)\n |-- Married: string (nullable = true)\n |-- Dependents: string (nullable = true)\n |-- Education: string (nullable = true)\n |-- Self_Employed: string (nullable = true)\n |-- ApplicantIncome: integer (nullable = true)\n |-- CoapplicantIncome: double (nullable = true)\n |-- LoanAmount: integer (nullable = true)\n |-- Loan_Amount_Term: integer (nullable = true)\n |-- Credit_History: integer (nullable = true)\n |-- Property_Area: string (nullable = true)\n |-- Loan_Status: string (nullable = true)\n\n(614, 13)\n"
     ]
    }
   ],
   "source": [
    "data_loan.printSchema()\n",
    "print((data_loan.count(), len(data_loan.columns)))"
   ]
  },
  {
   "cell_type": "markdown",
   "metadata": {
    "application/vnd.databricks.v1+cell": {
     "cellMetadata": {},
     "inputWidgets": {},
     "nuid": "f635c4ee-0a9e-445c-991b-c18c8d3b32b3",
     "showTitle": false,
     "tableResultSettingsMap": {},
     "title": ""
    }
   },
   "source": [
    "### groupby"
   ]
  },
  {
   "cell_type": "code",
   "execution_count": 0,
   "metadata": {
    "application/vnd.databricks.v1+cell": {
     "cellMetadata": {
      "byteLimit": 2048000,
      "rowLimit": 10000
     },
     "inputWidgets": {},
     "nuid": "16a8b09e-3517-4444-a6a2-aaaf3fa14e64",
     "showTitle": false,
     "tableResultSettingsMap": {},
     "title": ""
    }
   },
   "outputs": [
    {
     "output_type": "stream",
     "name": "stdout",
     "output_type": "stream",
     "text": [
      "+------------+--------------------+\n|   Education|min(ApplicantIncome)|\n+------------+--------------------+\n|Not Graduate|                 210|\n|    Graduate|                 150|\n+------------+--------------------+\n\n+-------+----------------------+\n|Married|avg(CoapplicantIncome)|\n+-------+----------------------+\n|   null|    251.33333333333334|\n|     No|    1316.5586854460093|\n|    Yes|     1794.632964795578|\n+-------+----------------------+\n\n+-----------+-----+\n|Loan_Status|count|\n+-----------+-----+\n|          Y|  422|\n|          N|  192|\n+-----------+-----+\n\n"
     ]
    }
   ],
   "source": [
    "data_loan.groupBy(\"Education\").min(\"ApplicantIncome\").show()\n",
    "data_loan.groupBy(\"Married\").avg(\"CoapplicantIncome\").show()\n",
    "data_loan.groupBy(\"Loan_Status\").count().show()"
   ]
  },
  {
   "cell_type": "code",
   "execution_count": 0,
   "metadata": {
    "application/vnd.databricks.v1+cell": {
     "cellMetadata": {
      "byteLimit": 2048000,
      "rowLimit": 10000
     },
     "inputWidgets": {},
     "nuid": "c2ad1b03-785e-4647-8d6d-097b47364ec9",
     "showTitle": false,
     "tableResultSettingsMap": {},
     "title": ""
    }
   },
   "outputs": [
    {
     "output_type": "stream",
     "name": "stdout",
     "output_type": "stream",
     "text": [
      "+------------+-----------+-------+----------------------+\n|   Education|Loan_Status|Married|min(CoapplicantIncome)|\n+------------+-----------+-------+----------------------+\n|Not Graduate|          Y|     No|                   0.0|\n|    Graduate|          N|    Yes|                   0.0|\n|Not Graduate|          N|    Yes|                   0.0|\n|Not Graduate|          N|     No|                   0.0|\n|    Graduate|          N|     No|                   0.0|\n|    Graduate|          Y|   null|                   0.0|\n|Not Graduate|          Y|    Yes|                   0.0|\n|    Graduate|          Y|    Yes|                   0.0|\n|    Graduate|          Y|     No|                   0.0|\n+------------+-----------+-------+----------------------+\n\n+-----------+------------+--------------------+\n|Loan_Status|   Education|avg(ApplicantIncome)|\n+-----------+------------+--------------------+\n|          Y|    Graduate|   5751.576470588236|\n|          N|Not Graduate|  3646.4423076923076|\n|          N|    Graduate|  6114.5142857142855|\n|          Y|Not Graduate|   3860.256097560976|\n+-----------+------------+--------------------+\n\n+-------+------------+-----+\n|Married|   Education|count|\n+-------+------------+-----+\n|    Yes|    Graduate|  309|\n|    Yes|Not Graduate|   89|\n|     No|Not Graduate|   45|\n|     No|    Graduate|  168|\n|   null|    Graduate|    3|\n+-------+------------+-----+\n\n"
     ]
    }
   ],
   "source": [
    "\n",
    "data_loan.groupBy(\"Education\",\"Loan_Status\",\"Married\").min(\"CoapplicantIncome\").show()\n",
    "data_loan.groupBy(\"Loan_Status\",\"Education\").mean(\"ApplicantIncome\").show()\n",
    "data_loan.groupBy(\"Married\",\"Education\").count().show()"
   ]
  },
  {
   "cell_type": "markdown",
   "metadata": {
    "application/vnd.databricks.v1+cell": {
     "cellMetadata": {},
     "inputWidgets": {},
     "nuid": "a753e236-6879-4544-adde-cfac7478d3d2",
     "showTitle": false,
     "tableResultSettingsMap": {},
     "title": ""
    }
   },
   "source": [
    "### drop null()"
   ]
  },
  {
   "cell_type": "code",
   "execution_count": 0,
   "metadata": {
    "application/vnd.databricks.v1+cell": {
     "cellMetadata": {
      "byteLimit": 2048000,
      "rowLimit": 10000
     },
     "inputWidgets": {},
     "nuid": "a851ae6c-d5c4-436b-ac68-12b580654f4c",
     "showTitle": false,
     "tableResultSettingsMap": {},
     "title": ""
    }
   },
   "outputs": [],
   "source": [
    "loan_copy = data_loan\n",
    "loan_clean = loan_copy.na.drop()\n"
   ]
  },
  {
   "cell_type": "markdown",
   "metadata": {
    "application/vnd.databricks.v1+cell": {
     "cellMetadata": {},
     "inputWidgets": {},
     "nuid": "2fe6b30e-24c3-4165-90b0-bd974d956958",
     "showTitle": false,
     "tableResultSettingsMap": {},
     "title": ""
    }
   },
   "source": [
    "### data after dropping null"
   ]
  },
  {
   "cell_type": "code",
   "execution_count": 0,
   "metadata": {
    "application/vnd.databricks.v1+cell": {
     "cellMetadata": {
      "byteLimit": 2048000,
      "rowLimit": 10000
     },
     "inputWidgets": {},
     "nuid": "43c90ec4-a5f8-4780-94fe-e286c357189a",
     "showTitle": false,
     "tableResultSettingsMap": {},
     "title": ""
    }
   },
   "outputs": [
    {
     "output_type": "stream",
     "name": "stdout",
     "output_type": "stream",
     "text": [
      "(614, 13)\n(480, 13)\n"
     ]
    }
   ],
   "source": [
    "print((data_loan.count(), len(data_loan.columns)))\n",
    "print((loan_clean.count(), len(loan_clean.columns)))"
   ]
  },
  {
   "cell_type": "markdown",
   "metadata": {
    "application/vnd.databricks.v1+cell": {
     "cellMetadata": {},
     "inputWidgets": {},
     "nuid": "f2593950-f9ef-476f-aa9d-d2a62a62abb8",
     "showTitle": false,
     "tableResultSettingsMap": {},
     "title": ""
    }
   },
   "source": [
    "### groupby after null drop"
   ]
  },
  {
   "cell_type": "code",
   "execution_count": 0,
   "metadata": {
    "application/vnd.databricks.v1+cell": {
     "cellMetadata": {
      "byteLimit": 2048000,
      "rowLimit": 10000
     },
     "inputWidgets": {},
     "nuid": "0b35f039-b94d-4c46-aaca-eea1d7ce2c3d",
     "showTitle": false,
     "tableResultSettingsMap": {},
     "title": ""
    }
   },
   "outputs": [
    {
     "output_type": "stream",
     "name": "stdout",
     "output_type": "stream",
     "text": [
      "+------------+--------------------+\n|   Education|min(ApplicantIncome)|\n+------------+--------------------+\n|Not Graduate|                1442|\n|    Graduate|                 150|\n+------------+--------------------+\n\n+-------+----------------------+\n|Married|avg(CoapplicantIncome)|\n+-------+----------------------+\n|     No|    1215.8934911242604|\n|    Yes|    1779.5463665229581|\n+-------+----------------------+\n\n+-----------+-----+\n|Loan_Status|count|\n+-----------+-----+\n|          Y|  332|\n|          N|  148|\n+-----------+-----+\n\n+------------+-----------+-------+----------------------+\n|   Education|Loan_Status|Married|min(CoapplicantIncome)|\n+------------+-----------+-------+----------------------+\n|Not Graduate|          Y|     No|                   0.0|\n|    Graduate|          N|    Yes|                   0.0|\n|Not Graduate|          N|    Yes|                   0.0|\n|Not Graduate|          N|     No|                   0.0|\n|    Graduate|          N|     No|                   0.0|\n|Not Graduate|          Y|    Yes|                   0.0|\n|    Graduate|          Y|    Yes|                   0.0|\n|    Graduate|          Y|     No|                   0.0|\n+------------+-----------+-------+----------------------+\n\n+-----------+------------+--------------------+\n|Loan_Status|   Education|avg(ApplicantIncome)|\n+-----------+------------+--------------------+\n|          Y|    Graduate|    5465.49446494465|\n|          N|Not Graduate|  3654.3333333333335|\n|          N|    Graduate|   6397.428571428572|\n|          Y|Not Graduate|  4026.4590163934427|\n+-----------+------------+--------------------+\n\n+-------+------------+-----+\n|Married|   Education|count|\n+-------+------------+-----+\n|    Yes|    Graduate|  248|\n|    Yes|Not Graduate|   63|\n|     No|Not Graduate|   34|\n|     No|    Graduate|  135|\n+-------+------------+-----+\n\n"
     ]
    }
   ],
   "source": [
    "loan_clean.groupBy(\"Education\").min(\"ApplicantIncome\").show()\n",
    "loan_clean.groupBy(\"Married\").avg(\"CoapplicantIncome\").show()\n",
    "loan_clean.groupBy(\"Loan_Status\").count().show()\n",
    "\n",
    "loan_clean.groupBy(\"Education\",\"Loan_Status\",\"Married\").min(\"CoapplicantIncome\").show()\n",
    "loan_clean.groupBy(\"Loan_Status\",\"Education\").mean(\"ApplicantIncome\").show()\n",
    "loan_clean.groupBy(\"Married\",\"Education\").count().show()"
   ]
  },
  {
   "cell_type": "markdown",
   "metadata": {
    "application/vnd.databricks.v1+cell": {
     "cellMetadata": {},
     "inputWidgets": {},
     "nuid": "472544c7-765a-446e-b68b-da9744d1030e",
     "showTitle": false,
     "tableResultSettingsMap": {},
     "title": ""
    }
   },
   "source": [
    "# Joins"
   ]
  },
  {
   "cell_type": "markdown",
   "metadata": {
    "application/vnd.databricks.v1+cell": {
     "cellMetadata": {},
     "inputWidgets": {},
     "nuid": "b0c00070-f1cc-4eb5-b337-c2148c47d1dd",
     "showTitle": false,
     "tableResultSettingsMap": {},
     "title": ""
    }
   },
   "source": [
    "### Data creation"
   ]
  },
  {
   "cell_type": "code",
   "execution_count": 0,
   "metadata": {
    "application/vnd.databricks.v1+cell": {
     "cellMetadata": {
      "byteLimit": 2048000,
      "rowLimit": 10000
     },
     "inputWidgets": {},
     "nuid": "19712725-19f7-4722-9c7e-3972c51da893",
     "showTitle": false,
     "tableResultSettingsMap": {},
     "title": ""
    }
   },
   "outputs": [
    {
     "output_type": "stream",
     "name": "stdout",
     "output_type": "stream",
     "text": [
      "root\n |-- emp_id: long (nullable = true)\n |-- name: string (nullable = true)\n |-- superior_emp_id: long (nullable = true)\n |-- year_joined: string (nullable = true)\n |-- emp_dept_id: string (nullable = true)\n |-- gender: string (nullable = true)\n |-- salary: long (nullable = true)\n\n+------+--------+---------------+-----------+-----------+------+------+\n|emp_id|    name|superior_emp_id|year_joined|emp_dept_id|gender|salary|\n+------+--------+---------------+-----------+-----------+------+------+\n|     1|   Smith|             -1|       2018|         10|     M|  3000|\n|     2|    Rose|              1|       2010|         20|     M|  4000|\n|     3|Williams|              1|       2010|         10|     M|  1000|\n|     4|   Jones|              2|       2005|         10|     F|  2000|\n|     5|   Brown|              2|       2010|         40|      |    -1|\n|     6|   Brown|              2|       2010|         50|      |    -1|\n+------+--------+---------------+-----------+-----------+------+------+\n\nroot\n |-- dept_name: string (nullable = true)\n |-- dept_id: long (nullable = true)\n\n+---------+-------+\n|dept_name|dept_id|\n+---------+-------+\n|  Finance|     10|\n|Marketing|     20|\n|    Sales|     30|\n|       IT|     40|\n+---------+-------+\n\n"
     ]
    }
   ],
   "source": [
    "from pyspark.sql import SparkSession\n",
    "\n",
    "\n",
    "# Initialize SparkSession\n",
    "spark = SparkSession.builder \\\n",
    ".appName(\"example\") \\\n",
    ".getOrCreate()\n",
    "# Data\n",
    "emp = [(1,\"Smith\",-1,\"2018\",\"10\",\"M\",3000),(2, \"Rose\",1 , \"2010\", \"20\",\"M\", 4000),(3,\"Williams\",1,\"2010\",\"10\",\"M\",1000),(4, \"Jones\",2 ,\"2005\",\"10\",\"F\",2000),(5,\"Brown\",2,\"2010\",\"40\",\"\",-1),(6, \"Brown\", 2, \"2010\",\"50\",\"\",-1)]\n",
    "empColumns = [\"emp_id\",\"name\",\"superior_emp_id\",\"year_joined\", \"emp_dept_id\",\"gender\",\"salary\"]\n",
    "\n",
    "empDF = spark.createDataFrame(data=emp, schema = empColumns)\n",
    "empDF.printSchema()\n",
    "empDF.show()\n",
    "\n",
    "dept = [(\"Finance\",10),(\"Marketing\",20),(\"Sales\",30),(\"IT\",40)]\n",
    "deptColumns = [\"dept_name\",\"dept_id\"]\n",
    "deptDF = spark.createDataFrame(data=dept, schema = deptColumns)\n",
    "deptDF.printSchema()\n",
    "deptDF.show()"
   ]
  },
  {
   "cell_type": "markdown",
   "metadata": {
    "application/vnd.databricks.v1+cell": {
     "cellMetadata": {},
     "inputWidgets": {},
     "nuid": "f910ea31-a0e6-45c9-82a5-4be5631012db",
     "showTitle": false,
     "tableResultSettingsMap": {},
     "title": ""
    }
   },
   "source": [
    "### Inner, Outer, Full"
   ]
  },
  {
   "cell_type": "code",
   "execution_count": 0,
   "metadata": {
    "application/vnd.databricks.v1+cell": {
     "cellMetadata": {
      "byteLimit": 2048000,
      "rowLimit": 10000
     },
     "inputWidgets": {},
     "nuid": "b43f095b-8892-4267-a0dd-b312566b107e",
     "showTitle": false,
     "tableResultSettingsMap": {},
     "title": ""
    }
   },
   "outputs": [
    {
     "output_type": "stream",
     "name": "stdout",
     "output_type": "stream",
     "text": [
      "+------+--------+---------------+-----------+-----------+------+------+---------+-------+\n|emp_id|    name|superior_emp_id|year_joined|emp_dept_id|gender|salary|dept_name|dept_id|\n+------+--------+---------------+-----------+-----------+------+------+---------+-------+\n|     1|   Smith|             -1|       2018|         10|     M|  3000|  Finance|     10|\n|     3|Williams|              1|       2010|         10|     M|  1000|  Finance|     10|\n|     4|   Jones|              2|       2005|         10|     F|  2000|  Finance|     10|\n|     2|    Rose|              1|       2010|         20|     M|  4000|Marketing|     20|\n|     5|   Brown|              2|       2010|         40|      |    -1|       IT|     40|\n+------+--------+---------------+-----------+-----------+------+------+---------+-------+\n\n"
     ]
    }
   ],
   "source": [
    "#Inner join\n",
    "empDF.join(deptDF,empDF.emp_dept_id == deptDF.dept_id, \"inner\").show()"
   ]
  },
  {
   "cell_type": "code",
   "execution_count": 0,
   "metadata": {
    "application/vnd.databricks.v1+cell": {
     "cellMetadata": {
      "byteLimit": 2048000,
      "rowLimit": 10000
     },
     "inputWidgets": {},
     "nuid": "341d606a-82ac-4119-9b3e-ea912e2a524e",
     "showTitle": false,
     "tableResultSettingsMap": {},
     "title": ""
    }
   },
   "outputs": [
    {
     "output_type": "stream",
     "name": "stdout",
     "output_type": "stream",
     "text": [
      "+------+--------+---------------+-----------+-----------+------+------+---------+-------+\n|emp_id|    name|superior_emp_id|year_joined|emp_dept_id|gender|salary|dept_name|dept_id|\n+------+--------+---------------+-----------+-----------+------+------+---------+-------+\n|     1|   Smith|             -1|       2018|         10|     M|  3000|  Finance|     10|\n|     3|Williams|              1|       2010|         10|     M|  1000|  Finance|     10|\n|     4|   Jones|              2|       2005|         10|     F|  2000|  Finance|     10|\n|     2|    Rose|              1|       2010|         20|     M|  4000|Marketing|     20|\n|  null|    null|           null|       null|       null|  null|  null|    Sales|     30|\n|     5|   Brown|              2|       2010|         40|      |    -1|       IT|     40|\n|     6|   Brown|              2|       2010|         50|      |    -1|     null|   null|\n+------+--------+---------------+-----------+-----------+------+------+---------+-------+\n\n"
     ]
    }
   ],
   "source": [
    "#outer join\n",
    "empDF.join(deptDF,empDF.emp_dept_id == deptDF.dept_id, \"outer\").show()"
   ]
  },
  {
   "cell_type": "code",
   "execution_count": 0,
   "metadata": {
    "application/vnd.databricks.v1+cell": {
     "cellMetadata": {
      "byteLimit": 2048000,
      "rowLimit": 10000
     },
     "inputWidgets": {},
     "nuid": "bc005b59-c0c7-40ea-9ab2-4cb7a168e1a5",
     "showTitle": false,
     "tableResultSettingsMap": {},
     "title": ""
    }
   },
   "outputs": [
    {
     "output_type": "stream",
     "name": "stdout",
     "output_type": "stream",
     "text": [
      "+------+--------+---------------+-----------+-----------+------+------+---------+-------+\n|emp_id|    name|superior_emp_id|year_joined|emp_dept_id|gender|salary|dept_name|dept_id|\n+------+--------+---------------+-----------+-----------+------+------+---------+-------+\n|     1|   Smith|             -1|       2018|         10|     M|  3000|  Finance|     10|\n|     3|Williams|              1|       2010|         10|     M|  1000|  Finance|     10|\n|     4|   Jones|              2|       2005|         10|     F|  2000|  Finance|     10|\n|     2|    Rose|              1|       2010|         20|     M|  4000|Marketing|     20|\n|  null|    null|           null|       null|       null|  null|  null|    Sales|     30|\n|     5|   Brown|              2|       2010|         40|      |    -1|       IT|     40|\n|     6|   Brown|              2|       2010|         50|      |    -1|     null|   null|\n+------+--------+---------------+-----------+-----------+------+------+---------+-------+\n\n"
     ]
    }
   ],
   "source": [
    "#full join\n",
    "empDF.join(deptDF,empDF.emp_dept_id == deptDF.dept_id, \"full\").show()"
   ]
  },
  {
   "cell_type": "markdown",
   "metadata": {
    "application/vnd.databricks.v1+cell": {
     "cellMetadata": {},
     "inputWidgets": {},
     "nuid": "73fb47a3-85bd-4d56-a7ff-264e8228115c",
     "showTitle": false,
     "tableResultSettingsMap": {},
     "title": ""
    }
   },
   "source": [
    "### left, left outer"
   ]
  },
  {
   "cell_type": "code",
   "execution_count": 0,
   "metadata": {
    "application/vnd.databricks.v1+cell": {
     "cellMetadata": {
      "byteLimit": 2048000,
      "rowLimit": 10000
     },
     "inputWidgets": {},
     "nuid": "296fb199-a30b-48e6-96dc-81bb738d9466",
     "showTitle": false,
     "tableResultSettingsMap": {},
     "title": ""
    }
   },
   "outputs": [
    {
     "output_type": "stream",
     "name": "stdout",
     "output_type": "stream",
     "text": [
      "+------+--------+---------------+-----------+-----------+------+------+---------+-------+\n|emp_id|    name|superior_emp_id|year_joined|emp_dept_id|gender|salary|dept_name|dept_id|\n+------+--------+---------------+-----------+-----------+------+------+---------+-------+\n|     1|   Smith|             -1|       2018|         10|     M|  3000|  Finance|     10|\n|     2|    Rose|              1|       2010|         20|     M|  4000|Marketing|     20|\n|     3|Williams|              1|       2010|         10|     M|  1000|  Finance|     10|\n|     4|   Jones|              2|       2005|         10|     F|  2000|  Finance|     10|\n|     5|   Brown|              2|       2010|         40|      |    -1|       IT|     40|\n|     6|   Brown|              2|       2010|         50|      |    -1|     null|   null|\n+------+--------+---------------+-----------+-----------+------+------+---------+-------+\n\n"
     ]
    }
   ],
   "source": [
    "#Left join\n",
    "empDF.join(deptDF,empDF.emp_dept_id == deptDF.dept_id, \"left\").show()"
   ]
  },
  {
   "cell_type": "code",
   "execution_count": 0,
   "metadata": {
    "application/vnd.databricks.v1+cell": {
     "cellMetadata": {
      "byteLimit": 2048000,
      "rowLimit": 10000
     },
     "inputWidgets": {},
     "nuid": "e904620e-6121-49de-9f2a-05287642bf95",
     "showTitle": false,
     "tableResultSettingsMap": {},
     "title": ""
    }
   },
   "outputs": [
    {
     "output_type": "stream",
     "name": "stdout",
     "output_type": "stream",
     "text": [
      "+------+--------+---------------+-----------+-----------+------+------+---------+-------+\n|emp_id|    name|superior_emp_id|year_joined|emp_dept_id|gender|salary|dept_name|dept_id|\n+------+--------+---------------+-----------+-----------+------+------+---------+-------+\n|     1|   Smith|             -1|       2018|         10|     M|  3000|  Finance|     10|\n|     2|    Rose|              1|       2010|         20|     M|  4000|Marketing|     20|\n|     3|Williams|              1|       2010|         10|     M|  1000|  Finance|     10|\n|     4|   Jones|              2|       2005|         10|     F|  2000|  Finance|     10|\n|     5|   Brown|              2|       2010|         40|      |    -1|       IT|     40|\n|     6|   Brown|              2|       2010|         50|      |    -1|     null|   null|\n+------+--------+---------------+-----------+-----------+------+------+---------+-------+\n\n"
     ]
    }
   ],
   "source": [
    "#Left join\n",
    "empDF.join(deptDF,empDF.emp_dept_id == deptDF.dept_id, \"leftouter\").show()"
   ]
  },
  {
   "cell_type": "markdown",
   "metadata": {
    "application/vnd.databricks.v1+cell": {
     "cellMetadata": {},
     "inputWidgets": {},
     "nuid": "28566357-88c8-4cbb-8811-d08a4efc9863",
     "showTitle": false,
     "tableResultSettingsMap": {},
     "title": ""
    }
   },
   "source": [
    "### Right, Right Outer"
   ]
  },
  {
   "cell_type": "code",
   "execution_count": 0,
   "metadata": {
    "application/vnd.databricks.v1+cell": {
     "cellMetadata": {
      "byteLimit": 2048000,
      "rowLimit": 10000
     },
     "inputWidgets": {},
     "nuid": "88dd018b-4b2d-43a1-8f1a-b8d5d7688990",
     "showTitle": false,
     "tableResultSettingsMap": {},
     "title": ""
    }
   },
   "outputs": [
    {
     "output_type": "stream",
     "name": "stdout",
     "output_type": "stream",
     "text": [
      "+------+--------+---------------+-----------+-----------+------+------+---------+-------+\n|emp_id|    name|superior_emp_id|year_joined|emp_dept_id|gender|salary|dept_name|dept_id|\n+------+--------+---------------+-----------+-----------+------+------+---------+-------+\n|     4|   Jones|              2|       2005|         10|     F|  2000|  Finance|     10|\n|     3|Williams|              1|       2010|         10|     M|  1000|  Finance|     10|\n|     1|   Smith|             -1|       2018|         10|     M|  3000|  Finance|     10|\n|     2|    Rose|              1|       2010|         20|     M|  4000|Marketing|     20|\n|  null|    null|           null|       null|       null|  null|  null|    Sales|     30|\n|     5|   Brown|              2|       2010|         40|      |    -1|       IT|     40|\n+------+--------+---------------+-----------+-----------+------+------+---------+-------+\n\n"
     ]
    }
   ],
   "source": [
    "#right join\n",
    "empDF.join(deptDF,empDF.emp_dept_id == deptDF.dept_id, \"right\").show()"
   ]
  },
  {
   "cell_type": "code",
   "execution_count": 0,
   "metadata": {
    "application/vnd.databricks.v1+cell": {
     "cellMetadata": {
      "byteLimit": 2048000,
      "rowLimit": 10000
     },
     "inputWidgets": {},
     "nuid": "5139c240-081f-4023-bde7-5a353184612c",
     "showTitle": false,
     "tableResultSettingsMap": {},
     "title": ""
    }
   },
   "outputs": [
    {
     "output_type": "stream",
     "name": "stdout",
     "output_type": "stream",
     "text": [
      "+------+--------+---------------+-----------+-----------+------+------+---------+-------+\n|emp_id|    name|superior_emp_id|year_joined|emp_dept_id|gender|salary|dept_name|dept_id|\n+------+--------+---------------+-----------+-----------+------+------+---------+-------+\n|     4|   Jones|              2|       2005|         10|     F|  2000|  Finance|     10|\n|     3|Williams|              1|       2010|         10|     M|  1000|  Finance|     10|\n|     1|   Smith|             -1|       2018|         10|     M|  3000|  Finance|     10|\n|     2|    Rose|              1|       2010|         20|     M|  4000|Marketing|     20|\n|  null|    null|           null|       null|       null|  null|  null|    Sales|     30|\n|     5|   Brown|              2|       2010|         40|      |    -1|       IT|     40|\n+------+--------+---------------+-----------+-----------+------+------+---------+-------+\n\n"
     ]
    }
   ],
   "source": [
    "#right outer join\n",
    "empDF.join(deptDF,empDF.emp_dept_id == deptDF.dept_id, \"rightouter\").show()"
   ]
  },
  {
   "cell_type": "markdown",
   "metadata": {
    "application/vnd.databricks.v1+cell": {
     "cellMetadata": {},
     "inputWidgets": {},
     "nuid": "6ff494b6-9b75-46f6-80f8-91ba32af812c",
     "showTitle": false,
     "tableResultSettingsMap": {},
     "title": ""
    }
   },
   "source": [
    "### LeftSemi LeftAnti"
   ]
  },
  {
   "cell_type": "code",
   "execution_count": 0,
   "metadata": {
    "application/vnd.databricks.v1+cell": {
     "cellMetadata": {
      "byteLimit": 2048000,
      "rowLimit": 10000
     },
     "inputWidgets": {},
     "nuid": "44b98371-eb55-4588-b927-054d101a099e",
     "showTitle": false,
     "tableResultSettingsMap": {},
     "title": ""
    }
   },
   "outputs": [
    {
     "output_type": "stream",
     "name": "stdout",
     "output_type": "stream",
     "text": [
      "+------+--------+---------------+-----------+-----------+------+------+\n|emp_id|    name|superior_emp_id|year_joined|emp_dept_id|gender|salary|\n+------+--------+---------------+-----------+-----------+------+------+\n|     1|   Smith|             -1|       2018|         10|     M|  3000|\n|     3|Williams|              1|       2010|         10|     M|  1000|\n|     4|   Jones|              2|       2005|         10|     F|  2000|\n|     2|    Rose|              1|       2010|         20|     M|  4000|\n|     5|   Brown|              2|       2010|         40|      |    -1|\n+------+--------+---------------+-----------+-----------+------+------+\n\n"
     ]
    }
   ],
   "source": [
    "#leftsemijoin\n",
    "empDF.join(deptDF,empDF.emp_dept_id == deptDF.dept_id, \"leftsemi\").show()"
   ]
  },
  {
   "cell_type": "code",
   "execution_count": 0,
   "metadata": {
    "application/vnd.databricks.v1+cell": {
     "cellMetadata": {
      "byteLimit": 2048000,
      "rowLimit": 10000
     },
     "inputWidgets": {},
     "nuid": "65b6e5cb-ce16-4b77-a234-601d9850eae7",
     "showTitle": false,
     "tableResultSettingsMap": {},
     "title": ""
    }
   },
   "outputs": [
    {
     "output_type": "stream",
     "name": "stdout",
     "output_type": "stream",
     "text": [
      "+------+-----+---------------+-----------+-----------+------+------+\n|emp_id| name|superior_emp_id|year_joined|emp_dept_id|gender|salary|\n+------+-----+---------------+-----------+-----------+------+------+\n|     6|Brown|              2|       2010|         50|      |    -1|\n+------+-----+---------------+-----------+-----------+------+------+\n\n"
     ]
    }
   ],
   "source": [
    "#leftanti\n",
    "empDF.join(deptDF,empDF.emp_dept_id == deptDF.dept_id, \"leftanti\").show()"
   ]
  },
  {
   "cell_type": "markdown",
   "metadata": {
    "application/vnd.databricks.v1+cell": {
     "cellMetadata": {},
     "inputWidgets": {},
     "nuid": "3e377d36-bcd3-4590-90d9-3c958007e5d0",
     "showTitle": false,
     "tableResultSettingsMap": {},
     "title": ""
    }
   },
   "source": [
    "# Spark SQL using Loan Data (Clean)"
   ]
  },
  {
   "cell_type": "markdown",
   "metadata": {
    "application/vnd.databricks.v1+cell": {
     "cellMetadata": {},
     "inputWidgets": {},
     "nuid": "fc502c57-6b6c-42fe-ba20-92f77a6e024a",
     "showTitle": false,
     "tableResultSettingsMap": {},
     "title": ""
    }
   },
   "source": [
    "### Create View"
   ]
  },
  {
   "cell_type": "code",
   "execution_count": 0,
   "metadata": {
    "application/vnd.databricks.v1+cell": {
     "cellMetadata": {
      "byteLimit": 2048000,
      "rowLimit": 10000
     },
     "inputWidgets": {},
     "nuid": "3c2f1bbb-5e0c-4d7d-b59e-c58a80ff10f3",
     "showTitle": false,
     "tableResultSettingsMap": {},
     "title": ""
    }
   },
   "outputs": [
    {
     "output_type": "stream",
     "name": "stdout",
     "output_type": "stream",
     "text": [
      "root\n |-- Loan_ID: string (nullable = true)\n |-- Gender: string (nullable = true)\n |-- Married: string (nullable = true)\n |-- Dependents: string (nullable = true)\n |-- Education: string (nullable = true)\n |-- Self_Employed: string (nullable = true)\n |-- ApplicantIncome: integer (nullable = true)\n |-- CoapplicantIncome: double (nullable = true)\n |-- LoanAmount: integer (nullable = true)\n |-- Loan_Amount_Term: integer (nullable = true)\n |-- Credit_History: integer (nullable = true)\n |-- Property_Area: string (nullable = true)\n |-- Loan_Status: string (nullable = true)\n\n"
     ]
    }
   ],
   "source": [
    "loan_clean.createOrReplaceTempView(\"loan\")\n",
    "loan_clean.printSchema()"
   ]
  },
  {
   "cell_type": "markdown",
   "metadata": {
    "application/vnd.databricks.v1+cell": {
     "cellMetadata": {},
     "inputWidgets": {},
     "nuid": "1ce77636-f972-452f-8531-6e4c902621b7",
     "showTitle": false,
     "tableResultSettingsMap": {},
     "title": ""
    }
   },
   "source": [
    "###  Select query"
   ]
  },
  {
   "cell_type": "code",
   "execution_count": 0,
   "metadata": {
    "application/vnd.databricks.v1+cell": {
     "cellMetadata": {
      "byteLimit": 2048000,
      "rowLimit": 10000
     },
     "inputWidgets": {},
     "nuid": "f973b17e-6865-47b2-9d9a-7a3936e6edc4",
     "showTitle": false,
     "tableResultSettingsMap": {},
     "title": ""
    }
   },
   "outputs": [
    {
     "output_type": "display_data",
     "data": {
      "text/html": [
       "<style scoped>\n",
       "  .table-result-container {\n",
       "    max-height: 300px;\n",
       "    overflow: auto;\n",
       "  }\n",
       "  table, th, td {\n",
       "    border: 1px solid black;\n",
       "    border-collapse: collapse;\n",
       "  }\n",
       "  th, td {\n",
       "    padding: 5px;\n",
       "  }\n",
       "  th {\n",
       "    text-align: left;\n",
       "  }\n",
       "</style><div class='table-result-container'><table class='table-result'><thead style='background-color: white'><tr><th>Loan_ID</th><th>Gender</th><th>Married</th><th>Dependents</th><th>Education</th><th>Self_Employed</th><th>ApplicantIncome</th><th>CoapplicantIncome</th><th>LoanAmount</th><th>Loan_Amount_Term</th><th>Credit_History</th><th>Property_Area</th><th>Loan_Status</th></tr></thead><tbody><tr><td>LP001003</td><td>Male</td><td>Yes</td><td>1</td><td>Graduate</td><td>No</td><td>4583</td><td>1508.0</td><td>128</td><td>360</td><td>1</td><td>Rural</td><td>N</td></tr><tr><td>LP001005</td><td>Male</td><td>Yes</td><td>0</td><td>Graduate</td><td>Yes</td><td>3000</td><td>0.0</td><td>66</td><td>360</td><td>1</td><td>Urban</td><td>Y</td></tr><tr><td>LP001006</td><td>Male</td><td>Yes</td><td>0</td><td>Not Graduate</td><td>No</td><td>2583</td><td>2358.0</td><td>120</td><td>360</td><td>1</td><td>Urban</td><td>Y</td></tr><tr><td>LP001008</td><td>Male</td><td>No</td><td>0</td><td>Graduate</td><td>No</td><td>6000</td><td>0.0</td><td>141</td><td>360</td><td>1</td><td>Urban</td><td>Y</td></tr><tr><td>LP001011</td><td>Male</td><td>Yes</td><td>2</td><td>Graduate</td><td>Yes</td><td>5417</td><td>4196.0</td><td>267</td><td>360</td><td>1</td><td>Urban</td><td>Y</td></tr><tr><td>LP001013</td><td>Male</td><td>Yes</td><td>0</td><td>Not Graduate</td><td>No</td><td>2333</td><td>1516.0</td><td>95</td><td>360</td><td>1</td><td>Urban</td><td>Y</td></tr><tr><td>LP001014</td><td>Male</td><td>Yes</td><td>3+</td><td>Graduate</td><td>No</td><td>3036</td><td>2504.0</td><td>158</td><td>360</td><td>0</td><td>Semiurban</td><td>N</td></tr><tr><td>LP001018</td><td>Male</td><td>Yes</td><td>2</td><td>Graduate</td><td>No</td><td>4006</td><td>1526.0</td><td>168</td><td>360</td><td>1</td><td>Urban</td><td>Y</td></tr><tr><td>LP001020</td><td>Male</td><td>Yes</td><td>1</td><td>Graduate</td><td>No</td><td>12841</td><td>10968.0</td><td>349</td><td>360</td><td>1</td><td>Semiurban</td><td>N</td></tr><tr><td>LP001024</td><td>Male</td><td>Yes</td><td>2</td><td>Graduate</td><td>No</td><td>3200</td><td>700.0</td><td>70</td><td>360</td><td>1</td><td>Urban</td><td>Y</td></tr></tbody></table></div>"
      ]
     },
     "metadata": {
      "application/vnd.databricks.v1+output": {
       "addedWidgets": {},
       "aggData": [],
       "aggError": "",
       "aggOverflow": false,
       "aggSchema": [],
       "aggSeriesLimitReached": false,
       "aggType": "",
       "arguments": {},
       "columnCustomDisplayInfos": {},
       "data": [
        [
         "LP001003",
         "Male",
         "Yes",
         "1",
         "Graduate",
         "No",
         4583,
         1508.0,
         128,
         360,
         1,
         "Rural",
         "N"
        ],
        [
         "LP001005",
         "Male",
         "Yes",
         "0",
         "Graduate",
         "Yes",
         3000,
         0.0,
         66,
         360,
         1,
         "Urban",
         "Y"
        ],
        [
         "LP001006",
         "Male",
         "Yes",
         "0",
         "Not Graduate",
         "No",
         2583,
         2358.0,
         120,
         360,
         1,
         "Urban",
         "Y"
        ],
        [
         "LP001008",
         "Male",
         "No",
         "0",
         "Graduate",
         "No",
         6000,
         0.0,
         141,
         360,
         1,
         "Urban",
         "Y"
        ],
        [
         "LP001011",
         "Male",
         "Yes",
         "2",
         "Graduate",
         "Yes",
         5417,
         4196.0,
         267,
         360,
         1,
         "Urban",
         "Y"
        ],
        [
         "LP001013",
         "Male",
         "Yes",
         "0",
         "Not Graduate",
         "No",
         2333,
         1516.0,
         95,
         360,
         1,
         "Urban",
         "Y"
        ],
        [
         "LP001014",
         "Male",
         "Yes",
         "3+",
         "Graduate",
         "No",
         3036,
         2504.0,
         158,
         360,
         0,
         "Semiurban",
         "N"
        ],
        [
         "LP001018",
         "Male",
         "Yes",
         "2",
         "Graduate",
         "No",
         4006,
         1526.0,
         168,
         360,
         1,
         "Urban",
         "Y"
        ],
        [
         "LP001020",
         "Male",
         "Yes",
         "1",
         "Graduate",
         "No",
         12841,
         10968.0,
         349,
         360,
         1,
         "Semiurban",
         "N"
        ],
        [
         "LP001024",
         "Male",
         "Yes",
         "2",
         "Graduate",
         "No",
         3200,
         700.0,
         70,
         360,
         1,
         "Urban",
         "Y"
        ]
       ],
       "datasetInfos": [],
       "dbfsResultPath": null,
       "isJsonSchema": true,
       "metadata": {},
       "overflow": false,
       "plotOptions": {
        "customPlotOptions": {},
        "displayType": "table",
        "pivotAggregation": null,
        "pivotColumns": null,
        "xColumns": null,
        "yColumns": null
       },
       "removedWidgets": [],
       "schema": [
        {
         "metadata": "{}",
         "name": "Loan_ID",
         "type": "\"string\""
        },
        {
         "metadata": "{}",
         "name": "Gender",
         "type": "\"string\""
        },
        {
         "metadata": "{}",
         "name": "Married",
         "type": "\"string\""
        },
        {
         "metadata": "{}",
         "name": "Dependents",
         "type": "\"string\""
        },
        {
         "metadata": "{}",
         "name": "Education",
         "type": "\"string\""
        },
        {
         "metadata": "{}",
         "name": "Self_Employed",
         "type": "\"string\""
        },
        {
         "metadata": "{}",
         "name": "ApplicantIncome",
         "type": "\"integer\""
        },
        {
         "metadata": "{}",
         "name": "CoapplicantIncome",
         "type": "\"double\""
        },
        {
         "metadata": "{}",
         "name": "LoanAmount",
         "type": "\"integer\""
        },
        {
         "metadata": "{}",
         "name": "Loan_Amount_Term",
         "type": "\"integer\""
        },
        {
         "metadata": "{}",
         "name": "Credit_History",
         "type": "\"integer\""
        },
        {
         "metadata": "{}",
         "name": "Property_Area",
         "type": "\"string\""
        },
        {
         "metadata": "{}",
         "name": "Loan_Status",
         "type": "\"string\""
        }
       ],
       "type": "table"
      }
     },
     "output_type": "display_data"
    },
    {
     "output_type": "stream",
     "name": "stdout",
     "output_type": "stream",
     "text": [
      "+--------+---------------+-----------+\n| Loan_ID|ApplicantIncome|Loan_Status|\n+--------+---------------+-----------+\n|LP001003|           4583|          N|\n|LP001005|           3000|          Y|\n|LP001006|           2583|          Y|\n|LP001008|           6000|          Y|\n|LP001011|           5417|          Y|\n+--------+---------------+-----------+\nonly showing top 5 rows\n\n"
     ]
    }
   ],
   "source": [
    "spark.sql(\"select * from loan\").limit(10).display()\n",
    "loan_clean.select(\"Loan_ID\",\"ApplicantIncome\",\"Loan_Status\").show(5)"
   ]
  },
  {
   "cell_type": "markdown",
   "metadata": {
    "application/vnd.databricks.v1+cell": {
     "cellMetadata": {},
     "inputWidgets": {},
     "nuid": "91d28d5f-7c3d-43d0-8d79-f2d901041005",
     "showTitle": false,
     "tableResultSettingsMap": {},
     "title": ""
    }
   },
   "source": [
    "### filter based on data"
   ]
  },
  {
   "cell_type": "code",
   "execution_count": 0,
   "metadata": {
    "application/vnd.databricks.v1+cell": {
     "cellMetadata": {
      "byteLimit": 2048000,
      "rowLimit": 10000
     },
     "inputWidgets": {},
     "nuid": "89f6d7af-bfd5-415c-8e1e-340c0ab05d62",
     "showTitle": false,
     "tableResultSettingsMap": {},
     "title": ""
    }
   },
   "outputs": [
    {
     "output_type": "display_data",
     "data": {
      "text/html": [
       "<style scoped>\n",
       "  .table-result-container {\n",
       "    max-height: 300px;\n",
       "    overflow: auto;\n",
       "  }\n",
       "  table, th, td {\n",
       "    border: 1px solid black;\n",
       "    border-collapse: collapse;\n",
       "  }\n",
       "  th, td {\n",
       "    padding: 5px;\n",
       "  }\n",
       "  th {\n",
       "    text-align: left;\n",
       "  }\n",
       "</style><div class='table-result-container'><table class='table-result'><thead style='background-color: white'><tr><th>Loan_ID</th><th>Gender</th><th>Married</th><th>Dependents</th><th>Education</th><th>Self_Employed</th><th>ApplicantIncome</th><th>CoapplicantIncome</th><th>LoanAmount</th><th>Loan_Amount_Term</th><th>Credit_History</th><th>Property_Area</th><th>Loan_Status</th></tr></thead><tbody><tr><td>LP001003</td><td>Male</td><td>Yes</td><td>1</td><td>Graduate</td><td>No</td><td>4583</td><td>1508.0</td><td>128</td><td>360</td><td>1</td><td>Rural</td><td>N</td></tr><tr><td>LP001005</td><td>Male</td><td>Yes</td><td>0</td><td>Graduate</td><td>Yes</td><td>3000</td><td>0.0</td><td>66</td><td>360</td><td>1</td><td>Urban</td><td>Y</td></tr><tr><td>LP001006</td><td>Male</td><td>Yes</td><td>0</td><td>Not Graduate</td><td>No</td><td>2583</td><td>2358.0</td><td>120</td><td>360</td><td>1</td><td>Urban</td><td>Y</td></tr><tr><td>LP001013</td><td>Male</td><td>Yes</td><td>0</td><td>Not Graduate</td><td>No</td><td>2333</td><td>1516.0</td><td>95</td><td>360</td><td>1</td><td>Urban</td><td>Y</td></tr><tr><td>LP001014</td><td>Male</td><td>Yes</td><td>3+</td><td>Graduate</td><td>No</td><td>3036</td><td>2504.0</td><td>158</td><td>360</td><td>0</td><td>Semiurban</td><td>N</td></tr><tr><td>LP001018</td><td>Male</td><td>Yes</td><td>2</td><td>Graduate</td><td>No</td><td>4006</td><td>1526.0</td><td>168</td><td>360</td><td>1</td><td>Urban</td><td>Y</td></tr><tr><td>LP001024</td><td>Male</td><td>Yes</td><td>2</td><td>Graduate</td><td>No</td><td>3200</td><td>700.0</td><td>70</td><td>360</td><td>1</td><td>Urban</td><td>Y</td></tr><tr><td>LP001028</td><td>Male</td><td>Yes</td><td>2</td><td>Graduate</td><td>No</td><td>3073</td><td>8106.0</td><td>200</td><td>360</td><td>1</td><td>Urban</td><td>Y</td></tr><tr><td>LP001029</td><td>Male</td><td>No</td><td>0</td><td>Graduate</td><td>No</td><td>1853</td><td>2840.0</td><td>114</td><td>360</td><td>1</td><td>Rural</td><td>N</td></tr><tr><td>LP001030</td><td>Male</td><td>Yes</td><td>2</td><td>Graduate</td><td>No</td><td>1299</td><td>1086.0</td><td>17</td><td>120</td><td>1</td><td>Urban</td><td>Y</td></tr></tbody></table></div>"
      ]
     },
     "metadata": {
      "application/vnd.databricks.v1+output": {
       "addedWidgets": {},
       "aggData": [],
       "aggError": "",
       "aggOverflow": false,
       "aggSchema": [],
       "aggSeriesLimitReached": false,
       "aggType": "",
       "arguments": {},
       "columnCustomDisplayInfos": {},
       "data": [
        [
         "LP001003",
         "Male",
         "Yes",
         "1",
         "Graduate",
         "No",
         4583,
         1508.0,
         128,
         360,
         1,
         "Rural",
         "N"
        ],
        [
         "LP001005",
         "Male",
         "Yes",
         "0",
         "Graduate",
         "Yes",
         3000,
         0.0,
         66,
         360,
         1,
         "Urban",
         "Y"
        ],
        [
         "LP001006",
         "Male",
         "Yes",
         "0",
         "Not Graduate",
         "No",
         2583,
         2358.0,
         120,
         360,
         1,
         "Urban",
         "Y"
        ],
        [
         "LP001013",
         "Male",
         "Yes",
         "0",
         "Not Graduate",
         "No",
         2333,
         1516.0,
         95,
         360,
         1,
         "Urban",
         "Y"
        ],
        [
         "LP001014",
         "Male",
         "Yes",
         "3+",
         "Graduate",
         "No",
         3036,
         2504.0,
         158,
         360,
         0,
         "Semiurban",
         "N"
        ],
        [
         "LP001018",
         "Male",
         "Yes",
         "2",
         "Graduate",
         "No",
         4006,
         1526.0,
         168,
         360,
         1,
         "Urban",
         "Y"
        ],
        [
         "LP001024",
         "Male",
         "Yes",
         "2",
         "Graduate",
         "No",
         3200,
         700.0,
         70,
         360,
         1,
         "Urban",
         "Y"
        ],
        [
         "LP001028",
         "Male",
         "Yes",
         "2",
         "Graduate",
         "No",
         3073,
         8106.0,
         200,
         360,
         1,
         "Urban",
         "Y"
        ],
        [
         "LP001029",
         "Male",
         "No",
         "0",
         "Graduate",
         "No",
         1853,
         2840.0,
         114,
         360,
         1,
         "Rural",
         "N"
        ],
        [
         "LP001030",
         "Male",
         "Yes",
         "2",
         "Graduate",
         "No",
         1299,
         1086.0,
         17,
         120,
         1,
         "Urban",
         "Y"
        ]
       ],
       "datasetInfos": [],
       "dbfsResultPath": null,
       "isJsonSchema": true,
       "metadata": {},
       "overflow": false,
       "plotOptions": {
        "customPlotOptions": {},
        "displayType": "table",
        "pivotAggregation": null,
        "pivotColumns": null,
        "xColumns": null,
        "yColumns": null
       },
       "removedWidgets": [],
       "schema": [
        {
         "metadata": "{}",
         "name": "Loan_ID",
         "type": "\"string\""
        },
        {
         "metadata": "{}",
         "name": "Gender",
         "type": "\"string\""
        },
        {
         "metadata": "{}",
         "name": "Married",
         "type": "\"string\""
        },
        {
         "metadata": "{}",
         "name": "Dependents",
         "type": "\"string\""
        },
        {
         "metadata": "{}",
         "name": "Education",
         "type": "\"string\""
        },
        {
         "metadata": "{}",
         "name": "Self_Employed",
         "type": "\"string\""
        },
        {
         "metadata": "{}",
         "name": "ApplicantIncome",
         "type": "\"integer\""
        },
        {
         "metadata": "{}",
         "name": "CoapplicantIncome",
         "type": "\"double\""
        },
        {
         "metadata": "{}",
         "name": "LoanAmount",
         "type": "\"integer\""
        },
        {
         "metadata": "{}",
         "name": "Loan_Amount_Term",
         "type": "\"integer\""
        },
        {
         "metadata": "{}",
         "name": "Credit_History",
         "type": "\"integer\""
        },
        {
         "metadata": "{}",
         "name": "Property_Area",
         "type": "\"string\""
        },
        {
         "metadata": "{}",
         "name": "Loan_Status",
         "type": "\"string\""
        }
       ],
       "type": "table"
      }
     },
     "output_type": "display_data"
    }
   ],
   "source": [
    "spark.sql(\"\"\"SELECT * From loan WHERE ApplicantIncome<5000\"\"\").limit(10).display()"
   ]
  },
  {
   "cell_type": "markdown",
   "metadata": {
    "application/vnd.databricks.v1+cell": {
     "cellMetadata": {},
     "inputWidgets": {},
     "nuid": "e03702f6-2434-47f4-a667-e0e913be6a84",
     "showTitle": false,
     "tableResultSettingsMap": {},
     "title": ""
    }
   },
   "source": [
    "### order by"
   ]
  },
  {
   "cell_type": "code",
   "execution_count": 0,
   "metadata": {
    "application/vnd.databricks.v1+cell": {
     "cellMetadata": {
      "byteLimit": 2048000,
      "rowLimit": 10000
     },
     "inputWidgets": {},
     "nuid": "640ef97f-abcd-4061-b350-fb0c4b2b19e2",
     "showTitle": false,
     "tableResultSettingsMap": {},
     "title": ""
    }
   },
   "outputs": [
    {
     "output_type": "display_data",
     "data": {
      "text/html": [
       "<style scoped>\n",
       "  .table-result-container {\n",
       "    max-height: 300px;\n",
       "    overflow: auto;\n",
       "  }\n",
       "  table, th, td {\n",
       "    border: 1px solid black;\n",
       "    border-collapse: collapse;\n",
       "  }\n",
       "  th, td {\n",
       "    padding: 5px;\n",
       "  }\n",
       "  th {\n",
       "    text-align: left;\n",
       "  }\n",
       "</style><div class='table-result-container'><table class='table-result'><thead style='background-color: white'><tr><th>Loan_ID</th><th>Gender</th><th>Married</th><th>Dependents</th><th>Education</th><th>Self_Employed</th><th>ApplicantIncome</th><th>CoapplicantIncome</th><th>LoanAmount</th><th>Loan_Amount_Term</th><th>Credit_History</th><th>Property_Area</th><th>Loan_Status</th></tr></thead><tbody><tr><td>LP001199</td><td>Male</td><td>Yes</td><td>2</td><td>Not Graduate</td><td>No</td><td>3357</td><td>2859.0</td><td>144</td><td>360</td><td>1</td><td>Urban</td><td>Y</td></tr><tr><td>LP001491</td><td>Male</td><td>Yes</td><td>2</td><td>Graduate</td><td>Yes</td><td>3316</td><td>3500.0</td><td>88</td><td>360</td><td>1</td><td>Urban</td><td>Y</td></tr><tr><td>LP001245</td><td>Male</td><td>Yes</td><td>2</td><td>Not Graduate</td><td>Yes</td><td>1875</td><td>1875.0</td><td>97</td><td>360</td><td>1</td><td>Semiurban</td><td>Y</td></tr><tr><td>LP001018</td><td>Male</td><td>Yes</td><td>2</td><td>Graduate</td><td>No</td><td>4006</td><td>1526.0</td><td>168</td><td>360</td><td>1</td><td>Urban</td><td>Y</td></tr><tr><td>LP001267</td><td>Female</td><td>Yes</td><td>2</td><td>Graduate</td><td>No</td><td>1378</td><td>1881.0</td><td>167</td><td>360</td><td>1</td><td>Urban</td><td>N</td></tr><tr><td>LP001024</td><td>Male</td><td>Yes</td><td>2</td><td>Graduate</td><td>No</td><td>3200</td><td>700.0</td><td>70</td><td>360</td><td>1</td><td>Urban</td><td>Y</td></tr><tr><td>LP001318</td><td>Male</td><td>Yes</td><td>2</td><td>Graduate</td><td>No</td><td>6250</td><td>5654.0</td><td>188</td><td>180</td><td>1</td><td>Semiurban</td><td>Y</td></tr><tr><td>LP001030</td><td>Male</td><td>Yes</td><td>2</td><td>Graduate</td><td>No</td><td>1299</td><td>1086.0</td><td>17</td><td>120</td><td>1</td><td>Urban</td><td>Y</td></tr><tr><td>LP001319</td><td>Male</td><td>Yes</td><td>2</td><td>Not Graduate</td><td>No</td><td>3273</td><td>1820.0</td><td>81</td><td>360</td><td>1</td><td>Urban</td><td>Y</td></tr><tr><td>LP001179</td><td>Male</td><td>Yes</td><td>2</td><td>Graduate</td><td>No</td><td>4616</td><td>0.0</td><td>134</td><td>360</td><td>1</td><td>Urban</td><td>N</td></tr></tbody></table></div>"
      ]
     },
     "metadata": {
      "application/vnd.databricks.v1+output": {
       "addedWidgets": {},
       "aggData": [],
       "aggError": "",
       "aggOverflow": false,
       "aggSchema": [],
       "aggSeriesLimitReached": false,
       "aggType": "",
       "arguments": {},
       "columnCustomDisplayInfos": {},
       "data": [
        [
         "LP001199",
         "Male",
         "Yes",
         "2",
         "Not Graduate",
         "No",
         3357,
         2859.0,
         144,
         360,
         1,
         "Urban",
         "Y"
        ],
        [
         "LP001491",
         "Male",
         "Yes",
         "2",
         "Graduate",
         "Yes",
         3316,
         3500.0,
         88,
         360,
         1,
         "Urban",
         "Y"
        ],
        [
         "LP001245",
         "Male",
         "Yes",
         "2",
         "Not Graduate",
         "Yes",
         1875,
         1875.0,
         97,
         360,
         1,
         "Semiurban",
         "Y"
        ],
        [
         "LP001018",
         "Male",
         "Yes",
         "2",
         "Graduate",
         "No",
         4006,
         1526.0,
         168,
         360,
         1,
         "Urban",
         "Y"
        ],
        [
         "LP001267",
         "Female",
         "Yes",
         "2",
         "Graduate",
         "No",
         1378,
         1881.0,
         167,
         360,
         1,
         "Urban",
         "N"
        ],
        [
         "LP001024",
         "Male",
         "Yes",
         "2",
         "Graduate",
         "No",
         3200,
         700.0,
         70,
         360,
         1,
         "Urban",
         "Y"
        ],
        [
         "LP001318",
         "Male",
         "Yes",
         "2",
         "Graduate",
         "No",
         6250,
         5654.0,
         188,
         180,
         1,
         "Semiurban",
         "Y"
        ],
        [
         "LP001030",
         "Male",
         "Yes",
         "2",
         "Graduate",
         "No",
         1299,
         1086.0,
         17,
         120,
         1,
         "Urban",
         "Y"
        ],
        [
         "LP001319",
         "Male",
         "Yes",
         "2",
         "Not Graduate",
         "No",
         3273,
         1820.0,
         81,
         360,
         1,
         "Urban",
         "Y"
        ],
        [
         "LP001179",
         "Male",
         "Yes",
         "2",
         "Graduate",
         "No",
         4616,
         0.0,
         134,
         360,
         1,
         "Urban",
         "N"
        ]
       ],
       "datasetInfos": [],
       "dbfsResultPath": null,
       "isJsonSchema": true,
       "metadata": {},
       "overflow": false,
       "plotOptions": {
        "customPlotOptions": {},
        "displayType": "table",
        "pivotAggregation": null,
        "pivotColumns": null,
        "xColumns": null,
        "yColumns": null
       },
       "removedWidgets": [],
       "schema": [
        {
         "metadata": "{}",
         "name": "Loan_ID",
         "type": "\"string\""
        },
        {
         "metadata": "{}",
         "name": "Gender",
         "type": "\"string\""
        },
        {
         "metadata": "{}",
         "name": "Married",
         "type": "\"string\""
        },
        {
         "metadata": "{}",
         "name": "Dependents",
         "type": "\"string\""
        },
        {
         "metadata": "{}",
         "name": "Education",
         "type": "\"string\""
        },
        {
         "metadata": "{}",
         "name": "Self_Employed",
         "type": "\"string\""
        },
        {
         "metadata": "{}",
         "name": "ApplicantIncome",
         "type": "\"integer\""
        },
        {
         "metadata": "{}",
         "name": "CoapplicantIncome",
         "type": "\"double\""
        },
        {
         "metadata": "{}",
         "name": "LoanAmount",
         "type": "\"integer\""
        },
        {
         "metadata": "{}",
         "name": "Loan_Amount_Term",
         "type": "\"integer\""
        },
        {
         "metadata": "{}",
         "name": "Credit_History",
         "type": "\"integer\""
        },
        {
         "metadata": "{}",
         "name": "Property_Area",
         "type": "\"string\""
        },
        {
         "metadata": "{}",
         "name": "Loan_Status",
         "type": "\"string\""
        }
       ],
       "type": "table"
      }
     },
     "output_type": "display_data"
    }
   ],
   "source": [
    "spark.sql(\"\"\"select * FROM loan WHERE Dependents in ('3+','2')order by Dependents \"\"\").limit(10).display()"
   ]
  },
  {
   "cell_type": "markdown",
   "metadata": {
    "application/vnd.databricks.v1+cell": {
     "cellMetadata": {},
     "inputWidgets": {},
     "nuid": "a917d8e8-c5ea-4421-ac21-cc2753f8745a",
     "showTitle": false,
     "tableResultSettingsMap": {},
     "title": ""
    }
   },
   "source": [
    "### group by"
   ]
  },
  {
   "cell_type": "code",
   "execution_count": 0,
   "metadata": {
    "application/vnd.databricks.v1+cell": {
     "cellMetadata": {
      "byteLimit": 2048000,
      "rowLimit": 10000
     },
     "inputWidgets": {},
     "nuid": "8d97eee1-dd4d-4540-8f4d-7c972ef7cdc2",
     "showTitle": false,
     "tableResultSettingsMap": {},
     "title": ""
    }
   },
   "outputs": [
    {
     "output_type": "stream",
     "name": "stdout",
     "output_type": "stream",
     "text": [
      "+----------------+-----+\n|Loan_Amount_Term|count|\n+----------------+-----+\n|             300|    9|\n|             360|  411|\n|             120|    3|\n|              84|    3|\n|             240|    2|\n|             480|   12|\n|              60|    2|\n|             180|   36|\n|              36|    2|\n+----------------+-----+\n\n"
     ]
    }
   ],
   "source": [
    "spark.sql(\"\"\"SELECT Loan_Amount_Term,count(*) as count FROM loan GROUP BY Loan_Amount_Term\"\"\").show()"
   ]
  }
 ],
 "metadata": {
  "application/vnd.databricks.v1+notebook": {
   "dashboards": [],
   "environmentMetadata": null,
   "language": "python",
   "notebookMetadata": {
    "pythonIndentUnit": 4
   },
   "notebookName": "pyspark03_updated",
   "widgets": {}
  }
 },
 "nbformat": 4,
 "nbformat_minor": 0
}
