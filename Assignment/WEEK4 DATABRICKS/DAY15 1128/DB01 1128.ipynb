{
 "cells": [
  {
   "cell_type": "markdown",
   "metadata": {
    "application/vnd.databricks.v1+cell": {
     "cellMetadata": {},
     "inputWidgets": {},
     "nuid": "6577416f-88a6-4ee2-927a-2a89dab91275",
     "showTitle": false,
     "tableResultSettingsMap": {},
     "title": ""
    }
   },
   "source": [
    "# Databricks Day02 - `Sivaprakash V`"
   ]
  },
  {
   "cell_type": "markdown",
   "metadata": {
    "application/vnd.databricks.v1+cell": {
     "cellMetadata": {},
     "inputWidgets": {},
     "nuid": "7220a284-d000-4853-a884-0bc22463f152",
     "showTitle": false,
     "tableResultSettingsMap": {},
     "title": ""
    }
   },
   "source": [
    "## Initiate session"
   ]
  },
  {
   "cell_type": "code",
   "execution_count": 0,
   "metadata": {
    "application/vnd.databricks.v1+cell": {
     "cellMetadata": {
      "byteLimit": 2048000,
      "rowLimit": 10000
     },
     "inputWidgets": {},
     "nuid": "8993373a-7d58-41f4-950d-2a206b7cb3c0",
     "showTitle": false,
     "tableResultSettingsMap": {},
     "title": ""
    }
   },
   "outputs": [],
   "source": [
    "# initialize the session\n",
    "from pyspark import SparkContext\n",
    "from pyspark.sql import SparkSession\n",
    "\n",
    "sc = SparkContext.getOrCreate()\n",
    "spark = SparkSession.builder.appName('Databricks first program').getOrCreate()"
   ]
  },
  {
   "cell_type": "markdown",
   "metadata": {
    "application/vnd.databricks.v1+cell": {
     "cellMetadata": {},
     "inputWidgets": {},
     "nuid": "d15a3a62-f42b-4c10-88fe-f25131b31298",
     "showTitle": false,
     "tableResultSettingsMap": {},
     "title": ""
    }
   },
   "source": [
    "## Sample programs"
   ]
  },
  {
   "cell_type": "code",
   "execution_count": 0,
   "metadata": {
    "application/vnd.databricks.v1+cell": {
     "cellMetadata": {
      "byteLimit": 2048000,
      "rowLimit": 10000
     },
     "inputWidgets": {},
     "nuid": "797cce84-84a2-4bdd-8fe4-5ed975d13a9b",
     "showTitle": false,
     "tableResultSettingsMap": {},
     "title": ""
    }
   },
   "outputs": [],
   "source": [
    "# create rdd\n",
    "rdd = sc.parallelize([('C',85,76,87,91), ('B',85,76,87,91), (\"A\", 85,78,96,92), (\"A\", 92,76,89,96)],4)\n",
    "print(type(rdd))\n",
    "\n",
    "sub = ['Division','English','Maths','Physics','Chemistry']\n",
    "marks_df = spark.createDataFrame(rdd,schema=sub)\n",
    "print(type(marks_df))\n",
    "print(rdd)\n",
    "marks_df.show()\n",
    "marks_df.printSchema()"
   ]
  },
  {
   "cell_type": "code",
   "execution_count": 0,
   "metadata": {
    "application/vnd.databricks.v1+cell": {
     "cellMetadata": {
      "byteLimit": 2048000,
      "rowLimit": 10000
     },
     "inputWidgets": {},
     "nuid": "0b44dc3c-17a5-4d2c-b583-e4a0b1d8aa72",
     "showTitle": false,
     "tableResultSettingsMap": {},
     "title": ""
    }
   },
   "outputs": [],
   "source": [
    "data = [('James', 'Smith', 'M', 3000),\n",
    "('Anna', 'Rose', 'F', 4100),\n",
    "('Robert', 'Williams', 'M', 6200),\n",
    "]\n",
    "\n",
    "columns = [\"firstname\", \"lastname\", \"gender\", \"salary\"]\n",
    "df=spark.createDataFrame(data=data, schema = columns)\n",
    "df.show()"
   ]
  },
  {
   "cell_type": "code",
   "execution_count": 0,
   "metadata": {
    "application/vnd.databricks.v1+cell": {
     "cellMetadata": {
      "byteLimit": 2048000,
      "rowLimit": 10000
     },
     "inputWidgets": {},
     "nuid": "7fb2acb9-246f-4f28-98ea-0a27579d43db",
     "showTitle": false,
     "tableResultSettingsMap": {},
     "title": ""
    }
   },
   "outputs": [],
   "source": [
    "from pyspark.sql import SparkSession\n",
    "\n",
    "# Initialize Spark session\n",
    "spark = SparkSession.builder \\\n",
    "    .appName(\"Create DataFrame from Dictionary\") \\\n",
    "    .getOrCreate()\n",
    "\n",
    "# JSON-like dictionary data\n",
    "student_data = [\n",
    "    {\"id\": 1, \"name\": \"Alice Johnson\", \"age\": 20, \"major\": \"Computer Science\", \"gpa\": 3.8},\n",
    "    {\"id\": 2, \"name\": \"Bob Smith\", \"age\": 22, \"major\": \"Mechanical Engineering\", \"gpa\": 3.5},\n",
    "    {\"id\": 3, \"name\": \"Charlie Brown\", \"age\": 21, \"major\": \"Biology\", \"gpa\": 3.7}\n",
    "]\n",
    "\n",
    "# Create DataFrame from the dictionary data\n",
    "student_df = spark.createDataFrame(student_data)\n",
    "\n",
    "# Show the DataFrame content\n",
    "student_df.show()\n",
    "\n",
    "# Print the schema of the DataFrame\n",
    "student_df.printSchema()\n"
   ]
  },
  {
   "cell_type": "markdown",
   "metadata": {
    "application/vnd.databricks.v1+cell": {
     "cellMetadata": {},
     "inputWidgets": {},
     "nuid": "aef89594-fc28-4daa-831a-904f933ac5b3",
     "showTitle": false,
     "tableResultSettingsMap": {},
     "title": ""
    }
   },
   "source": [
    "## Working with Export dataset"
   ]
  },
  {
   "cell_type": "code",
   "execution_count": 0,
   "metadata": {
    "application/vnd.databricks.v1+cell": {
     "cellMetadata": {
      "byteLimit": 2048000,
      "rowLimit": 10000
     },
     "inputWidgets": {},
     "nuid": "6fa42fed-e70b-4223-b0b3-31a34f4808a5",
     "showTitle": false,
     "tableResultSettingsMap": {},
     "title": ""
    }
   },
   "outputs": [],
   "source": [
    "df = spark.read.format(\"delta\").load(\"dbfs:/user/hive/warehouse/export\")\n"
   ]
  },
  {
   "cell_type": "code",
   "execution_count": 0,
   "metadata": {
    "application/vnd.databricks.v1+cell": {
     "cellMetadata": {
      "byteLimit": 2048000,
      "rowLimit": 10000
     },
     "inputWidgets": {},
     "nuid": "4c77d6b8-685c-4599-ac42-9381426190c1",
     "showTitle": false,
     "tableResultSettingsMap": {},
     "title": ""
    }
   },
   "outputs": [
    {
     "output_type": "display_data",
     "data": {
      "text/html": [
       "<style scoped>\n",
       "  .table-result-container {\n",
       "    max-height: 300px;\n",
       "    overflow: auto;\n",
       "  }\n",
       "  table, th, td {\n",
       "    border: 1px solid black;\n",
       "    border-collapse: collapse;\n",
       "  }\n",
       "  th, td {\n",
       "    padding: 5px;\n",
       "  }\n",
       "  th {\n",
       "    text-align: left;\n",
       "  }\n",
       "</style><div class='table-result-container'><table class='table-result'><thead style='background-color: white'><tr><th>id</th><th>firstName</th><th>middleName</th><th>lastName</th><th>gender</th><th>birthDate</th><th>ssn</th><th>salary</th></tr></thead><tbody><tr><td>1</td><td>Pennie</td><td>Carry</td><td>Hirschmann</td><td>F</td><td>1955-07-02T04:00:00Z</td><td>981-43-9345</td><td>56172</td></tr><tr><td>2</td><td>An</td><td>Amira</td><td>Cowper</td><td>F</td><td>1992-02-08T05:00:00Z</td><td>978-97-8086</td><td>40203</td></tr><tr><td>3</td><td>Quyen</td><td>Marlen</td><td>Dome</td><td>F</td><td>1970-10-11T04:00:00Z</td><td>957-57-8246</td><td>53417</td></tr><tr><td>4</td><td>Coralie</td><td>Antonina</td><td>Marshal</td><td>F</td><td>1990-04-11T04:00:00Z</td><td>963-39-4885</td><td>94727</td></tr><tr><td>5</td><td>Terrie</td><td>Wava</td><td>Bonar</td><td>F</td><td>1980-01-16T05:00:00Z</td><td>964-49-8051</td><td>79908</td></tr><tr><td>6</td><td>Chassidy</td><td>Concepcion</td><td>Bourthouloume</td><td>F</td><td>1990-11-24T05:00:00Z</td><td>954-59-9172</td><td>64652</td></tr><tr><td>7</td><td>Geri</td><td>Tambra</td><td>Mosby</td><td>F</td><td>1970-12-19T05:00:00Z</td><td>968-16-4020</td><td>38195</td></tr><tr><td>8</td><td>Patria</td><td>Nancy</td><td>Arstall</td><td>F</td><td>1985-01-02T05:00:00Z</td><td>984-76-3770</td><td>102053</td></tr><tr><td>9</td><td>Terese</td><td>Alfredia</td><td>Tocque</td><td>F</td><td>1967-11-17T05:00:00Z</td><td>967-48-7309</td><td>91294</td></tr><tr><td>10</td><td>Wava</td><td>Lyndsey</td><td>Jeandon</td><td>F</td><td>1963-12-30T05:00:00Z</td><td>997-82-2946</td><td>56521</td></tr></tbody></table></div>"
      ]
     },
     "metadata": {
      "application/vnd.databricks.v1+output": {
       "addedWidgets": {},
       "aggData": [],
       "aggError": "",
       "aggOverflow": false,
       "aggSchema": [],
       "aggSeriesLimitReached": false,
       "aggType": "",
       "arguments": {},
       "columnCustomDisplayInfos": {},
       "data": [
        [
         1,
         "Pennie",
         "Carry",
         "Hirschmann",
         "F",
         "1955-07-02T04:00:00Z",
         "981-43-9345",
         56172
        ],
        [
         2,
         "An",
         "Amira",
         "Cowper",
         "F",
         "1992-02-08T05:00:00Z",
         "978-97-8086",
         40203
        ],
        [
         3,
         "Quyen",
         "Marlen",
         "Dome",
         "F",
         "1970-10-11T04:00:00Z",
         "957-57-8246",
         53417
        ],
        [
         4,
         "Coralie",
         "Antonina",
         "Marshal",
         "F",
         "1990-04-11T04:00:00Z",
         "963-39-4885",
         94727
        ],
        [
         5,
         "Terrie",
         "Wava",
         "Bonar",
         "F",
         "1980-01-16T05:00:00Z",
         "964-49-8051",
         79908
        ],
        [
         6,
         "Chassidy",
         "Concepcion",
         "Bourthouloume",
         "F",
         "1990-11-24T05:00:00Z",
         "954-59-9172",
         64652
        ],
        [
         7,
         "Geri",
         "Tambra",
         "Mosby",
         "F",
         "1970-12-19T05:00:00Z",
         "968-16-4020",
         38195
        ],
        [
         8,
         "Patria",
         "Nancy",
         "Arstall",
         "F",
         "1985-01-02T05:00:00Z",
         "984-76-3770",
         102053
        ],
        [
         9,
         "Terese",
         "Alfredia",
         "Tocque",
         "F",
         "1967-11-17T05:00:00Z",
         "967-48-7309",
         91294
        ],
        [
         10,
         "Wava",
         "Lyndsey",
         "Jeandon",
         "F",
         "1963-12-30T05:00:00Z",
         "997-82-2946",
         56521
        ]
       ],
       "datasetInfos": [],
       "dbfsResultPath": null,
       "isJsonSchema": true,
       "metadata": {},
       "overflow": false,
       "plotOptions": {
        "customPlotOptions": {},
        "displayType": "table",
        "pivotAggregation": null,
        "pivotColumns": null,
        "xColumns": null,
        "yColumns": null
       },
       "removedWidgets": [],
       "schema": [
        {
         "metadata": "{}",
         "name": "id",
         "type": "\"long\""
        },
        {
         "metadata": "{}",
         "name": "firstName",
         "type": "\"string\""
        },
        {
         "metadata": "{}",
         "name": "middleName",
         "type": "\"string\""
        },
        {
         "metadata": "{}",
         "name": "lastName",
         "type": "\"string\""
        },
        {
         "metadata": "{}",
         "name": "gender",
         "type": "\"string\""
        },
        {
         "metadata": "{}",
         "name": "birthDate",
         "type": "\"timestamp\""
        },
        {
         "metadata": "{}",
         "name": "ssn",
         "type": "\"string\""
        },
        {
         "metadata": "{}",
         "name": "salary",
         "type": "\"long\""
        }
       ],
       "type": "table"
      }
     },
     "output_type": "display_data"
    }
   ],
   "source": [
    "df.limit(10).display()"
   ]
  },
  {
   "cell_type": "code",
   "execution_count": 0,
   "metadata": {
    "application/vnd.databricks.v1+cell": {
     "cellMetadata": {
      "byteLimit": 2048000,
      "rowLimit": 10000
     },
     "inputWidgets": {},
     "nuid": "5565b132-f725-4353-9b01-6eb72027f2f4",
     "showTitle": false,
     "tableResultSettingsMap": {},
     "title": ""
    }
   },
   "outputs": [],
   "source": [
    "df.write.format('delta').saveAsTable(\"mydata_delta\", mode='overwrite')\n",
    "df.write.format('delta').saveAsTable(\"mydata\")"
   ]
  },
  {
   "cell_type": "markdown",
   "metadata": {
    "application/vnd.databricks.v1+cell": {
     "cellMetadata": {},
     "inputWidgets": {},
     "nuid": "b6aad378-13c0-4f9f-9ec5-e6cad4d44972",
     "showTitle": false,
     "tableResultSettingsMap": {},
     "title": ""
    }
   },
   "source": [
    "## Exploratory Data Analysis on Export data"
   ]
  },
  {
   "cell_type": "code",
   "execution_count": 0,
   "metadata": {
    "application/vnd.databricks.v1+cell": {
     "cellMetadata": {
      "byteLimit": 2048000,
      "rowLimit": 10000
     },
     "inputWidgets": {},
     "nuid": "fb89aef2-b693-4f9f-b9a9-6dcaf7c935af",
     "showTitle": false,
     "tableResultSettingsMap": {},
     "title": ""
    }
   },
   "outputs": [],
   "source": []
  }
 ],
 "metadata": {
  "application/vnd.databricks.v1+notebook": {
   "dashboards": [],
   "environmentMetadata": {
    "base_environment": "",
    "client": "1"
   },
   "language": "python",
   "notebookMetadata": {
    "pythonIndentUnit": 4
   },
   "notebookName": "DB01 1128",
   "widgets": {}
  },
  "language_info": {
   "name": "python"
  }
 },
 "nbformat": 4,
 "nbformat_minor": 0
}