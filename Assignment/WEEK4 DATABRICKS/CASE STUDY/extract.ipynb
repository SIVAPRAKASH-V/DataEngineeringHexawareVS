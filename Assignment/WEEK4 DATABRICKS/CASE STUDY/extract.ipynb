{
 "cells": [
  {
   "cell_type": "code",
   "execution_count": 0,
   "metadata": {
    "application/vnd.databricks.v1+cell": {
     "cellMetadata": {},
     "inputWidgets": {},
     "nuid": "88fd60bd-734c-4354-9a5f-36332ee478cb",
     "showTitle": false,
     "tableResultSettingsMap": {},
     "title": ""
    }
   },
   "outputs": [],
   "source": [
    "from pyspark.sql import SparkSession\n",
    "\n",
    "# Initialize Spark Session\n",
    "spark = SparkSession.builder.appName(\"ETL pipeline\").getOrCreate()\n",
    "\n",
    "# Define the file path\n",
    "file_path = \"/FileStore/tables/Sales.csv\"\n",
    "\n",
    "# Read the CSV file\n",
    "df = spark.read.csv(file_path, header=True, inferSchema=True)\n",
    "df.createOrReplaceGlobalTempView(\"global_temp_sales_data\")\n",
    "\n"
   ]
  }
 ],
 "metadata": {
  "application/vnd.databricks.v1+notebook": {
   "dashboards": [],
   "environmentMetadata": {
    "base_environment": "",
    "client": "1"
   },
   "language": "python",
   "notebookMetadata": {
    "pythonIndentUnit": 4
   },
   "notebookName": "extract",
   "widgets": {}
  },
  "language_info": {
   "name": "python"
  }
 },
 "nbformat": 4,
 "nbformat_minor": 0
}
