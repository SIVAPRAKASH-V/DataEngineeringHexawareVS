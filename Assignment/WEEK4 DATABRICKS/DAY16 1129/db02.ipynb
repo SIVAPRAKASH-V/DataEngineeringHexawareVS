{
 "cells": [
  {
   "cell_type": "markdown",
   "metadata": {},
   "source": [
    "# Assignment on 29 NOV"
   ]
  },
  {
   "cell_type": "code",
   "execution_count": null,
   "metadata": {},
   "outputs": [],
   "source": [
    "# reading source file and writing to destination path\n",
    "spark.read.option(\"inferschema\",true).option(\"header\",true).csv(\"/FileStore/tables/sample_emp_data.txt\"). write.format(\"delta\").mode(\"overwrite\").save(\"/FileStore/tables/delta_train/\")\n",
    "#Below we are listing the data in destination path\n",
    "display(dbutils.fs.ls(\"/FileStore/tables/delta_train/\"))"
   ]
  },
  {
   "cell_type": "code",
   "execution_count": null,
   "metadata": {},
   "outputs": [],
   "source": [
    "# creation of DataBase\n",
    "spark.sql(\"create database if not exists delta_training\") #Table creation\n",
    "#scala querval \n",
    "ddl_query = \"\"\"CREATE TABLE if not exists delta_training.emp_file USING DELTA\n",
    "LOCATION '/FileStore/tables/delta_train/' \"\"\" #creation of table spark.sql(ddl_query)"
   ]
  },
  {
   "cell_type": "code",
   "execution_count": null,
   "metadata": {},
   "outputs": [],
   "source": [
    "display(spark.catalog.listTables(\"delta_training\"))"
   ]
  },
  {
   "cell_type": "code",
   "execution_count": null,
   "metadata": {},
   "outputs": [],
   "source": [
    "spark.sql(\"select * from delta_training.emp_file\").show(truncate=false)"
   ]
  },
  {
   "cell_type": "markdown",
   "metadata": {},
   "source": [
    "//reading source file and writing to destination path"
   ]
  },
  {
   "cell_type": "code",
   "execution_count": null,
   "metadata": {},
   "outputs": [],
   "source": [
    "spark.read.option(\"inferschema\",true).option(\"header\",true).csv(\"/FileStore/tables/sample_em p_data.txt\"). write.format(\"delta\").mode(\"overwrite\").save(\"/FileStore/tables/delta_train/\")  "
   ]
  },
  {
   "cell_type": "markdown",
   "metadata": {},
   "source": [
    "display(dbutils.fs.ls(\"/FileStore/tables/delta_train/\"))"
   ]
  },
  {
   "cell_type": "markdown",
   "metadata": {},
   "source": [
    "//creation of DataBase"
   ]
  },
  {
   "cell_type": "code",
   "execution_count": null,
   "metadata": {},
   "outputs": [],
   "source": [
    "spark.sql(\"create database if not exists delta_training\") //Table creation\n",
    "display(spark.catalog.listTables(\"delta_training\")) # to display list of table under database schema\n",
    "spark.sql(\"select * from delta_training.emp_file\").show(truncate=false)"
   ]
  }
 ],
 "metadata": {
  "language_info": {
   "name": "python"
  }
 },
 "nbformat": 4,
 "nbformat_minor": 2
}
