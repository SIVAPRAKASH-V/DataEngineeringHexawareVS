{
 "cells": [
  {
   "cell_type": "markdown",
   "metadata": {
    "application/vnd.databricks.v1+cell": {
     "cellMetadata": {},
     "inputWidgets": {},
     "nuid": "e7d3b670-0da7-4cc5-b22b-ee77179e7623",
     "showTitle": false,
     "tableResultSettingsMap": {},
     "title": ""
    }
   },
   "source": [
    "# **Coding Challenge -_Sivaprakash V_**"
   ]
  },
  {
   "cell_type": "markdown",
   "metadata": {
    "application/vnd.databricks.v1+cell": {
     "cellMetadata": {},
     "inputWidgets": {},
     "nuid": "d74d0b78-e395-453b-8d47-f2f36858856b",
     "showTitle": false,
     "tableResultSettingsMap": {},
     "title": ""
    }
   },
   "source": [
    "## Import libraries & Initiate session"
   ]
  },
  {
   "cell_type": "code",
   "execution_count": 0,
   "metadata": {
    "application/vnd.databricks.v1+cell": {
     "cellMetadata": {
      "byteLimit": 2048000,
      "rowLimit": 10000
     },
     "inputWidgets": {},
     "nuid": "89ac120e-5f7d-4165-ba8a-3ce285514ed4",
     "showTitle": false,
     "tableResultSettingsMap": {},
     "title": ""
    }
   },
   "outputs": [],
   "source": [
    "# initialize the session\n",
    "from pyspark import SparkContext\n",
    "from pyspark.sql import SparkSession\n",
    "\n",
    "sc = SparkContext.getOrCreate()\n",
    "spark = SparkSession.builder.appName('Coding challenge').getOrCreate()"
   ]
  },
  {
   "cell_type": "markdown",
   "metadata": {
    "application/vnd.databricks.v1+cell": {
     "cellMetadata": {},
     "inputWidgets": {},
     "nuid": "6f2b627b-06fa-4dbe-b43e-dd6a27dd1b8f",
     "showTitle": false,
     "tableResultSettingsMap": {},
     "title": ""
    }
   },
   "source": [
    "## Loading Data"
   ]
  },
  {
   "cell_type": "code",
   "execution_count": 0,
   "metadata": {
    "application/vnd.databricks.v1+cell": {
     "cellMetadata": {
      "byteLimit": 2048000,
      "rowLimit": 10000
     },
     "inputWidgets": {},
     "nuid": "559a184d-9679-451d-a3c9-a34796d281ec",
     "showTitle": false,
     "tableResultSettingsMap": {},
     "title": ""
    }
   },
   "outputs": [],
   "source": [
    "data_credit =spark.read.csv(\"/FileStore/tables/creditCard.csv\",inferSchema=True,header=True)\n",
    "df2 = spark.read.csv(\"/FileStore/tables/bankcredit.csv\",inferSchema=True,header=True)\n",
    "df1 = spark.read.csv(\"/FileStore/tables/info.csv\",inferSchema=True,header=True)"
   ]
  },
  {
   "cell_type": "markdown",
   "metadata": {
    "application/vnd.databricks.v1+cell": {
     "cellMetadata": {},
     "inputWidgets": {},
     "nuid": "e7e463dd-222b-4cc2-9958-2aefe5a40124",
     "showTitle": false,
     "tableResultSettingsMap": {},
     "title": ""
    }
   },
   "source": [
    "## Data Exploration"
   ]
  },
  {
   "cell_type": "code",
   "execution_count": 0,
   "metadata": {
    "application/vnd.databricks.v1+cell": {
     "cellMetadata": {
      "byteLimit": 2048000,
      "rowLimit": 10000
     },
     "inputWidgets": {},
     "nuid": "14c249c4-fc3a-4301-8475-a25e4d174127",
     "showTitle": false,
     "tableResultSettingsMap": {},
     "title": ""
    }
   },
   "outputs": [
    {
     "output_type": "stream",
     "name": "stdout",
     "output_type": "stream",
     "text": [
      "root\n |-- RowNumber: integer (nullable = true)\n |-- CustomerId: integer (nullable = true)\n |-- Surname: string (nullable = true)\n |-- CreditScore: integer (nullable = true)\n |-- Geography: string (nullable = true)\n |-- Gender: string (nullable = true)\n |-- Age: integer (nullable = true)\n |-- Tenure: integer (nullable = true)\n |-- Balance: double (nullable = true)\n |-- NumOfProducts: integer (nullable = true)\n |-- IsActiveMember: integer (nullable = true)\n |-- EstimatedSalary: double (nullable = true)\n |-- Exited: integer (nullable = true)\n\n"
     ]
    }
   ],
   "source": [
    "# Print Schema\n",
    "data_credit.printSchema()"
   ]
  },
  {
   "cell_type": "code",
   "execution_count": 0,
   "metadata": {
    "application/vnd.databricks.v1+cell": {
     "cellMetadata": {
      "byteLimit": 2048000,
      "rowLimit": 10000
     },
     "inputWidgets": {},
     "nuid": "d4a64f57-e84b-4133-a22e-1e6d245ddeed",
     "showTitle": false,
     "tableResultSettingsMap": {},
     "title": ""
    }
   },
   "outputs": [
    {
     "output_type": "display_data",
     "data": {
      "text/html": [
       "<style scoped>\n",
       "  .table-result-container {\n",
       "    max-height: 300px;\n",
       "    overflow: auto;\n",
       "  }\n",
       "  table, th, td {\n",
       "    border: 1px solid black;\n",
       "    border-collapse: collapse;\n",
       "  }\n",
       "  th, td {\n",
       "    padding: 5px;\n",
       "  }\n",
       "  th {\n",
       "    text-align: left;\n",
       "  }\n",
       "</style><div class='table-result-container'><table class='table-result'><thead style='background-color: white'><tr><th>RowNumber</th><th>CustomerId</th><th>Surname</th><th>CreditScore</th><th>Geography</th><th>Gender</th><th>Age</th><th>Tenure</th><th>Balance</th><th>NumOfProducts</th><th>IsActiveMember</th><th>EstimatedSalary</th><th>Exited</th></tr></thead><tbody><tr><td>1</td><td>15634602</td><td>Hargrave</td><td>619</td><td>France</td><td>Female</td><td>42</td><td>2</td><td>0.0</td><td>1</td><td>1</td><td>101348.88</td><td>1</td></tr><tr><td>2</td><td>15647311</td><td>Hill</td><td>608</td><td>Spain</td><td>Female</td><td>41</td><td>1</td><td>83807.86</td><td>1</td><td>1</td><td>112542.58</td><td>0</td></tr><tr><td>3</td><td>15619304</td><td>Onio</td><td>502</td><td>France</td><td>Female</td><td>42</td><td>8</td><td>159660.8</td><td>3</td><td>0</td><td>113931.57</td><td>1</td></tr><tr><td>4</td><td>15701354</td><td>Boni</td><td>699</td><td>France</td><td>Female</td><td>39</td><td>1</td><td>0.0</td><td>2</td><td>0</td><td>93826.63</td><td>0</td></tr><tr><td>5</td><td>15737888</td><td>Mitchell</td><td>850</td><td>Spain</td><td>Female</td><td>43</td><td>2</td><td>125510.82</td><td>1</td><td>1</td><td>79084.1</td><td>0</td></tr><tr><td>6</td><td>15574012</td><td>Chu</td><td>645</td><td>Spain</td><td>Male</td><td>44</td><td>8</td><td>113755.78</td><td>2</td><td>0</td><td>149756.71</td><td>1</td></tr><tr><td>7</td><td>15592531</td><td>Bartlett</td><td>822</td><td>France</td><td>Male</td><td>50</td><td>7</td><td>0.0</td><td>2</td><td>1</td><td>10062.8</td><td>0</td></tr><tr><td>8</td><td>15656148</td><td>Obinna</td><td>376</td><td>Germany</td><td>Female</td><td>29</td><td>4</td><td>115046.74</td><td>4</td><td>0</td><td>119346.88</td><td>1</td></tr><tr><td>9</td><td>15792365</td><td>He</td><td>501</td><td>France</td><td>Male</td><td>44</td><td>4</td><td>142051.07</td><td>2</td><td>1</td><td>74940.5</td><td>0</td></tr><tr><td>10</td><td>15592389</td><td>H?</td><td>684</td><td>France</td><td>Male</td><td>27</td><td>2</td><td>134603.88</td><td>1</td><td>1</td><td>71725.73</td><td>0</td></tr></tbody></table></div>"
      ]
     },
     "metadata": {
      "application/vnd.databricks.v1+output": {
       "addedWidgets": {},
       "aggData": [],
       "aggError": "",
       "aggOverflow": false,
       "aggSchema": [],
       "aggSeriesLimitReached": false,
       "aggType": "",
       "arguments": {},
       "columnCustomDisplayInfos": {},
       "data": [
        [
         1,
         15634602,
         "Hargrave",
         619,
         "France",
         "Female",
         42,
         2,
         0.0,
         1,
         1,
         101348.88,
         1
        ],
        [
         2,
         15647311,
         "Hill",
         608,
         "Spain",
         "Female",
         41,
         1,
         83807.86,
         1,
         1,
         112542.58,
         0
        ],
        [
         3,
         15619304,
         "Onio",
         502,
         "France",
         "Female",
         42,
         8,
         159660.8,
         3,
         0,
         113931.57,
         1
        ],
        [
         4,
         15701354,
         "Boni",
         699,
         "France",
         "Female",
         39,
         1,
         0.0,
         2,
         0,
         93826.63,
         0
        ],
        [
         5,
         15737888,
         "Mitchell",
         850,
         "Spain",
         "Female",
         43,
         2,
         125510.82,
         1,
         1,
         79084.1,
         0
        ],
        [
         6,
         15574012,
         "Chu",
         645,
         "Spain",
         "Male",
         44,
         8,
         113755.78,
         2,
         0,
         149756.71,
         1
        ],
        [
         7,
         15592531,
         "Bartlett",
         822,
         "France",
         "Male",
         50,
         7,
         0.0,
         2,
         1,
         10062.8,
         0
        ],
        [
         8,
         15656148,
         "Obinna",
         376,
         "Germany",
         "Female",
         29,
         4,
         115046.74,
         4,
         0,
         119346.88,
         1
        ],
        [
         9,
         15792365,
         "He",
         501,
         "France",
         "Male",
         44,
         4,
         142051.07,
         2,
         1,
         74940.5,
         0
        ],
        [
         10,
         15592389,
         "H?",
         684,
         "France",
         "Male",
         27,
         2,
         134603.88,
         1,
         1,
         71725.73,
         0
        ]
       ],
       "datasetInfos": [],
       "dbfsResultPath": null,
       "isJsonSchema": true,
       "metadata": {},
       "overflow": false,
       "plotOptions": {
        "customPlotOptions": {},
        "displayType": "table",
        "pivotAggregation": null,
        "pivotColumns": null,
        "xColumns": null,
        "yColumns": null
       },
       "removedWidgets": [],
       "schema": [
        {
         "metadata": "{}",
         "name": "RowNumber",
         "type": "\"integer\""
        },
        {
         "metadata": "{}",
         "name": "CustomerId",
         "type": "\"integer\""
        },
        {
         "metadata": "{}",
         "name": "Surname",
         "type": "\"string\""
        },
        {
         "metadata": "{}",
         "name": "CreditScore",
         "type": "\"integer\""
        },
        {
         "metadata": "{}",
         "name": "Geography",
         "type": "\"string\""
        },
        {
         "metadata": "{}",
         "name": "Gender",
         "type": "\"string\""
        },
        {
         "metadata": "{}",
         "name": "Age",
         "type": "\"integer\""
        },
        {
         "metadata": "{}",
         "name": "Tenure",
         "type": "\"integer\""
        },
        {
         "metadata": "{}",
         "name": "Balance",
         "type": "\"double\""
        },
        {
         "metadata": "{}",
         "name": "NumOfProducts",
         "type": "\"integer\""
        },
        {
         "metadata": "{}",
         "name": "IsActiveMember",
         "type": "\"integer\""
        },
        {
         "metadata": "{}",
         "name": "EstimatedSalary",
         "type": "\"double\""
        },
        {
         "metadata": "{}",
         "name": "Exited",
         "type": "\"integer\""
        }
       ],
       "type": "table"
      }
     },
     "output_type": "display_data"
    },
    {
     "output_type": "display_data",
     "data": {
      "text/html": [
       "<style scoped>\n",
       "  .table-result-container {\n",
       "    max-height: 300px;\n",
       "    overflow: auto;\n",
       "  }\n",
       "  table, th, td {\n",
       "    border: 1px solid black;\n",
       "    border-collapse: collapse;\n",
       "  }\n",
       "  th, td {\n",
       "    padding: 5px;\n",
       "  }\n",
       "  th {\n",
       "    text-align: left;\n",
       "  }\n",
       "</style><div class='table-result-container'><table class='table-result'><thead style='background-color: white'><tr><th>CustomerId</th><th>Surname</th><th>CreditScore</th><th>Geography</th><th>Gender</th><th>Age</th></tr></thead><tbody><tr><td>15634602</td><td>Hargrave</td><td>619</td><td>France</td><td>Female</td><td>42</td></tr><tr><td>15647311</td><td>Hill</td><td>608</td><td>null</td><td>Female</td><td>41</td></tr><tr><td>15701354</td><td>null</td><td>null</td><td>France</td><td>null</td><td>null</td></tr><tr><td>15737888</td><td>Mitchell</td><td>850</td><td>Spain</td><td>Female</td><td>null</td></tr><tr><td>15574012</td><td>null</td><td>645</td><td>null</td><td>Male</td><td>44</td></tr><tr><td>15592531</td><td>Bartlett</td><td>822</td><td>France</td><td>Male</td><td>null</td></tr><tr><td>15656148</td><td>Obinna</td><td>376</td><td>Germany</td><td>null</td><td>29</td></tr><tr><td>15792365</td><td>He</td><td>501</td><td>France</td><td>null</td><td>44</td></tr><tr><td>15592389</td><td>null</td><td>684</td><td>France</td><td>Male</td><td>27</td></tr><tr><td>15737452</td><td>null</td><td>null</td><td>Germany</td><td>Male</td><td>58</td></tr><tr><td>15788218</td><td>Henderson</td><td>549</td><td>Spain</td><td>Female</td><td>null</td></tr><tr><td>15661507</td><td>Muldrow</td><td>587</td><td>Spain</td><td>Male</td><td>45</td></tr><tr><td>15568982</td><td>Hao</td><td>726</td><td>France</td><td>Female</td><td>24</td></tr></tbody></table></div>"
      ]
     },
     "metadata": {
      "application/vnd.databricks.v1+output": {
       "addedWidgets": {},
       "aggData": [],
       "aggError": "",
       "aggOverflow": false,
       "aggSchema": [],
       "aggSeriesLimitReached": false,
       "aggType": "",
       "arguments": {},
       "columnCustomDisplayInfos": {},
       "data": [
        [
         15634602,
         "Hargrave",
         619,
         "France",
         "Female",
         42
        ],
        [
         15647311,
         "Hill",
         608,
         null,
         "Female",
         41
        ],
        [
         15701354,
         null,
         null,
         "France",
         null,
         null
        ],
        [
         15737888,
         "Mitchell",
         850,
         "Spain",
         "Female",
         null
        ],
        [
         15574012,
         null,
         645,
         null,
         "Male",
         44
        ],
        [
         15592531,
         "Bartlett",
         822,
         "France",
         "Male",
         null
        ],
        [
         15656148,
         "Obinna",
         376,
         "Germany",
         null,
         29
        ],
        [
         15792365,
         "He",
         501,
         "France",
         null,
         44
        ],
        [
         15592389,
         null,
         684,
         "France",
         "Male",
         27
        ],
        [
         15737452,
         null,
         null,
         "Germany",
         "Male",
         58
        ],
        [
         15788218,
         "Henderson",
         549,
         "Spain",
         "Female",
         null
        ],
        [
         15661507,
         "Muldrow",
         587,
         "Spain",
         "Male",
         45
        ],
        [
         15568982,
         "Hao",
         726,
         "France",
         "Female",
         24
        ]
       ],
       "datasetInfos": [],
       "dbfsResultPath": null,
       "isJsonSchema": true,
       "metadata": {},
       "overflow": false,
       "plotOptions": {
        "customPlotOptions": {},
        "displayType": "table",
        "pivotAggregation": null,
        "pivotColumns": null,
        "xColumns": null,
        "yColumns": null
       },
       "removedWidgets": [],
       "schema": [
        {
         "metadata": "{}",
         "name": "CustomerId",
         "type": "\"integer\""
        },
        {
         "metadata": "{}",
         "name": "Surname",
         "type": "\"string\""
        },
        {
         "metadata": "{}",
         "name": "CreditScore",
         "type": "\"integer\""
        },
        {
         "metadata": "{}",
         "name": "Geography",
         "type": "\"string\""
        },
        {
         "metadata": "{}",
         "name": "Gender",
         "type": "\"string\""
        },
        {
         "metadata": "{}",
         "name": "Age",
         "type": "\"integer\""
        }
       ],
       "type": "table"
      }
     },
     "output_type": "display_data"
    },
    {
     "output_type": "display_data",
     "data": {
      "text/html": [
       "<style scoped>\n",
       "  .table-result-container {\n",
       "    max-height: 300px;\n",
       "    overflow: auto;\n",
       "  }\n",
       "  table, th, td {\n",
       "    border: 1px solid black;\n",
       "    border-collapse: collapse;\n",
       "  }\n",
       "  th, td {\n",
       "    padding: 5px;\n",
       "  }\n",
       "  th {\n",
       "    text-align: left;\n",
       "  }\n",
       "</style><div class='table-result-container'><table class='table-result'><thead style='background-color: white'><tr><th>CustomerId</th><th>Tenure</th><th>Balance</th><th>NumOfProducts</th><th>IsActiveMember</th><th>EstimatedSalary</th><th>Exited</th></tr></thead><tbody><tr><td>15634602</td><td>2</td><td>null</td><td>1</td><td>1</td><td>101348.88</td><td>1</td></tr><tr><td>15647311</td><td>1</td><td>83807.86</td><td>1</td><td>1</td><td>112542.58</td><td>0</td></tr><tr><td>15619304</td><td>8</td><td>159660.8</td><td>3</td><td>0</td><td>113931.57</td><td>1</td></tr><tr><td>15701354</td><td>1</td><td>null</td><td>2</td><td>0</td><td>93826.63</td><td>0</td></tr><tr><td>15737888</td><td>2</td><td>125510.82</td><td>1</td><td>1</td><td>79084.1</td><td>null</td></tr><tr><td>15574012</td><td>8</td><td>113755.78</td><td>2</td><td>null</td><td>149756.71</td><td>1</td></tr><tr><td>15592531</td><td>7</td><td>null</td><td>2</td><td>1</td><td>10062.8</td><td>0</td></tr><tr><td>15656148</td><td>4</td><td>115046.74</td><td>4</td><td>0</td><td>119346.88</td><td>1</td></tr><tr><td>15792365</td><td>4</td><td>142051.07</td><td>2</td><td>1</td><td>74940.5</td><td>0</td></tr><tr><td>15592389</td><td>2</td><td>134603.88</td><td>1</td><td>1</td><td>71725.73</td><td>null</td></tr><tr><td>15767821</td><td>null</td><td>102016.72</td><td>2</td><td>0</td><td>80181.12</td><td>0</td></tr><tr><td>15737173</td><td>3</td><td>null</td><td>2</td><td>0</td><td>76390.01</td><td>0</td></tr><tr><td>15632264</td><td>10</td><td>null</td><td>2</td><td>null</td><td>26260.98</td><td>0</td></tr><tr><td>15691483</td><td>5</td><td>null</td><td>2</td><td>0</td><td>190857.79</td><td>null</td></tr><tr><td>15600882</td><td>7</td><td>null</td><td>2</td><td>1</td><td>65951.65</td><td>0</td></tr><tr><td>15643966</td><td>3</td><td>143129.41</td><td>2</td><td>1</td><td>64327.26</td><td>null</td></tr><tr><td>15737452</td><td>null</td><td>132602.88</td><td>1</td><td>null</td><td>5097.67</td><td>1</td></tr><tr><td>15788218</td><td>9</td><td>null</td><td>2</td><td>1</td><td>14406.41</td><td>0</td></tr><tr><td>15661507</td><td>6</td><td>null</td><td>1</td><td>0</td><td>158684.81</td><td>0</td></tr><tr><td>15568982</td><td>6</td><td>null</td><td>2</td><td>1</td><td>54724.03</td><td>0</td></tr></tbody></table></div>"
      ]
     },
     "metadata": {
      "application/vnd.databricks.v1+output": {
       "addedWidgets": {},
       "aggData": [],
       "aggError": "",
       "aggOverflow": false,
       "aggSchema": [],
       "aggSeriesLimitReached": false,
       "aggType": "",
       "arguments": {},
       "columnCustomDisplayInfos": {},
       "data": [
        [
         15634602,
         2,
         null,
         1,
         1,
         101348.88,
         1
        ],
        [
         15647311,
         1,
         83807.86,
         1,
         1,
         112542.58,
         0
        ],
        [
         15619304,
         8,
         159660.8,
         3,
         0,
         113931.57,
         1
        ],
        [
         15701354,
         1,
         null,
         2,
         0,
         93826.63,
         0
        ],
        [
         15737888,
         2,
         125510.82,
         1,
         1,
         79084.1,
         null
        ],
        [
         15574012,
         8,
         113755.78,
         2,
         null,
         149756.71,
         1
        ],
        [
         15592531,
         7,
         null,
         2,
         1,
         10062.8,
         0
        ],
        [
         15656148,
         4,
         115046.74,
         4,
         0,
         119346.88,
         1
        ],
        [
         15792365,
         4,
         142051.07,
         2,
         1,
         74940.5,
         0
        ],
        [
         15592389,
         2,
         134603.88,
         1,
         1,
         71725.73,
         null
        ],
        [
         15767821,
         null,
         102016.72,
         2,
         0,
         80181.12,
         0
        ],
        [
         15737173,
         3,
         null,
         2,
         0,
         76390.01,
         0
        ],
        [
         15632264,
         10,
         null,
         2,
         null,
         26260.98,
         0
        ],
        [
         15691483,
         5,
         null,
         2,
         0,
         190857.79,
         null
        ],
        [
         15600882,
         7,
         null,
         2,
         1,
         65951.65,
         0
        ],
        [
         15643966,
         3,
         143129.41,
         2,
         1,
         64327.26,
         null
        ],
        [
         15737452,
         null,
         132602.88,
         1,
         null,
         5097.67,
         1
        ],
        [
         15788218,
         9,
         null,
         2,
         1,
         14406.41,
         0
        ],
        [
         15661507,
         6,
         null,
         1,
         0,
         158684.81,
         0
        ],
        [
         15568982,
         6,
         null,
         2,
         1,
         54724.03,
         0
        ]
       ],
       "datasetInfos": [],
       "dbfsResultPath": null,
       "isJsonSchema": true,
       "metadata": {},
       "overflow": false,
       "plotOptions": {
        "customPlotOptions": {},
        "displayType": "table",
        "pivotAggregation": null,
        "pivotColumns": null,
        "xColumns": null,
        "yColumns": null
       },
       "removedWidgets": [],
       "schema": [
        {
         "metadata": "{}",
         "name": "CustomerId",
         "type": "\"integer\""
        },
        {
         "metadata": "{}",
         "name": "Tenure",
         "type": "\"integer\""
        },
        {
         "metadata": "{}",
         "name": "Balance",
         "type": "\"double\""
        },
        {
         "metadata": "{}",
         "name": "NumOfProducts",
         "type": "\"integer\""
        },
        {
         "metadata": "{}",
         "name": "IsActiveMember",
         "type": "\"integer\""
        },
        {
         "metadata": "{}",
         "name": "EstimatedSalary",
         "type": "\"double\""
        },
        {
         "metadata": "{}",
         "name": "Exited",
         "type": "\"integer\""
        }
       ],
       "type": "table"
      }
     },
     "output_type": "display_data"
    }
   ],
   "source": [
    "# Display data\n",
    "data_credit.limit(10).display()\n",
    "df1.display()\n",
    "df2.display()"
   ]
  },
  {
   "cell_type": "code",
   "execution_count": 0,
   "metadata": {
    "application/vnd.databricks.v1+cell": {
     "cellMetadata": {
      "byteLimit": 2048000,
      "rowLimit": 10000
     },
     "inputWidgets": {},
     "nuid": "510aa47d-6303-40b9-af22-50a333e811e1",
     "showTitle": false,
     "tableResultSettingsMap": {},
     "title": ""
    }
   },
   "outputs": [
    {
     "output_type": "stream",
     "name": "stdout",
     "output_type": "stream",
     "text": [
      "Number of rows: 10000\nNumber of columns: 13\n"
     ]
    }
   ],
   "source": [
    "# Number of rows\n",
    "num_rows3 = data_credit.count()\n",
    "# Number of columns\n",
    "num_columns3 = len(data_credit.columns)\n",
    "print(f\"Number of rows: {num_rows3}\")\n",
    "print(f\"Number of columns: {num_columns3}\")"
   ]
  },
  {
   "cell_type": "code",
   "execution_count": 0,
   "metadata": {
    "application/vnd.databricks.v1+cell": {
     "cellMetadata": {
      "byteLimit": 2048000,
      "rowLimit": 10000
     },
     "inputWidgets": {},
     "nuid": "329bd410-d505-4302-8d1d-89f4e5b71c57",
     "showTitle": false,
     "tableResultSettingsMap": {},
     "title": ""
    }
   },
   "outputs": [
    {
     "output_type": "display_data",
     "data": {
      "text/html": [
       "<style scoped>\n",
       "  .table-result-container {\n",
       "    max-height: 300px;\n",
       "    overflow: auto;\n",
       "  }\n",
       "  table, th, td {\n",
       "    border: 1px solid black;\n",
       "    border-collapse: collapse;\n",
       "  }\n",
       "  th, td {\n",
       "    padding: 5px;\n",
       "  }\n",
       "  th {\n",
       "    text-align: left;\n",
       "  }\n",
       "</style><div class='table-result-container'><table class='table-result'><thead style='background-color: white'><tr><th>summary</th><th>RowNumber</th><th>CustomerId</th><th>Surname</th><th>CreditScore</th><th>Geography</th><th>Gender</th><th>Age</th><th>Tenure</th><th>Balance</th><th>NumOfProducts</th><th>IsActiveMember</th><th>EstimatedSalary</th><th>Exited</th></tr></thead><tbody><tr><td>count</td><td>10000</td><td>10000</td><td>10000</td><td>10000</td><td>10000</td><td>10000</td><td>10000</td><td>10000</td><td>10000</td><td>10000</td><td>10000</td><td>10000</td><td>10000</td></tr><tr><td>mean</td><td>5000.5</td><td>1.56909405694E7</td><td>null</td><td>650.5288</td><td>null</td><td>null</td><td>38.9218</td><td>5.0128</td><td>76485.88928799961</td><td>1.5302</td><td>0.5151</td><td>100090.2398809998</td><td>0.2037</td></tr><tr><td>stddev</td><td>2886.8956799071675</td><td>71936.18612274907</td><td>null</td><td>96.65329873613035</td><td>null</td><td>null</td><td>10.487806451704587</td><td>2.8921743770496837</td><td>62397.40520238599</td><td>0.5816543579989917</td><td>0.49979692845891815</td><td>57510.49281769821</td><td>0.40276858399486065</td></tr><tr><td>min</td><td>1</td><td>15565701</td><td>Abazu</td><td>350</td><td>France</td><td>Female</td><td>18</td><td>0</td><td>0.0</td><td>1</td><td>0</td><td>11.58</td><td>0</td></tr><tr><td>max</td><td>10000</td><td>15815690</td><td>Zuyeva</td><td>850</td><td>Spain</td><td>Male</td><td>92</td><td>10</td><td>250898.09</td><td>4</td><td>1</td><td>199992.48</td><td>1</td></tr></tbody></table></div>"
      ]
     },
     "metadata": {
      "application/vnd.databricks.v1+output": {
       "addedWidgets": {},
       "aggData": [],
       "aggError": "",
       "aggOverflow": false,
       "aggSchema": [],
       "aggSeriesLimitReached": false,
       "aggType": "",
       "arguments": {},
       "columnCustomDisplayInfos": {},
       "data": [
        [
         "count",
         "10000",
         "10000",
         "10000",
         "10000",
         "10000",
         "10000",
         "10000",
         "10000",
         "10000",
         "10000",
         "10000",
         "10000",
         "10000"
        ],
        [
         "mean",
         "5000.5",
         "1.56909405694E7",
         null,
         "650.5288",
         null,
         null,
         "38.9218",
         "5.0128",
         "76485.88928799961",
         "1.5302",
         "0.5151",
         "100090.2398809998",
         "0.2037"
        ],
        [
         "stddev",
         "2886.8956799071675",
         "71936.18612274907",
         null,
         "96.65329873613035",
         null,
         null,
         "10.487806451704587",
         "2.8921743770496837",
         "62397.40520238599",
         "0.5816543579989917",
         "0.49979692845891815",
         "57510.49281769821",
         "0.40276858399486065"
        ],
        [
         "min",
         "1",
         "15565701",
         "Abazu",
         "350",
         "France",
         "Female",
         "18",
         "0",
         "0.0",
         "1",
         "0",
         "11.58",
         "0"
        ],
        [
         "max",
         "10000",
         "15815690",
         "Zuyeva",
         "850",
         "Spain",
         "Male",
         "92",
         "10",
         "250898.09",
         "4",
         "1",
         "199992.48",
         "1"
        ]
       ],
       "datasetInfos": [],
       "dbfsResultPath": null,
       "isJsonSchema": true,
       "metadata": {},
       "overflow": false,
       "plotOptions": {
        "customPlotOptions": {},
        "displayType": "table",
        "pivotAggregation": null,
        "pivotColumns": null,
        "xColumns": null,
        "yColumns": null
       },
       "removedWidgets": [],
       "schema": [
        {
         "metadata": "{}",
         "name": "summary",
         "type": "\"string\""
        },
        {
         "metadata": "{}",
         "name": "RowNumber",
         "type": "\"string\""
        },
        {
         "metadata": "{}",
         "name": "CustomerId",
         "type": "\"string\""
        },
        {
         "metadata": "{}",
         "name": "Surname",
         "type": "\"string\""
        },
        {
         "metadata": "{}",
         "name": "CreditScore",
         "type": "\"string\""
        },
        {
         "metadata": "{}",
         "name": "Geography",
         "type": "\"string\""
        },
        {
         "metadata": "{}",
         "name": "Gender",
         "type": "\"string\""
        },
        {
         "metadata": "{}",
         "name": "Age",
         "type": "\"string\""
        },
        {
         "metadata": "{}",
         "name": "Tenure",
         "type": "\"string\""
        },
        {
         "metadata": "{}",
         "name": "Balance",
         "type": "\"string\""
        },
        {
         "metadata": "{}",
         "name": "NumOfProducts",
         "type": "\"string\""
        },
        {
         "metadata": "{}",
         "name": "IsActiveMember",
         "type": "\"string\""
        },
        {
         "metadata": "{}",
         "name": "EstimatedSalary",
         "type": "\"string\""
        },
        {
         "metadata": "{}",
         "name": "Exited",
         "type": "\"string\""
        }
       ],
       "type": "table"
      }
     },
     "output_type": "display_data"
    }
   ],
   "source": [
    "# Data description\n",
    "display(data_credit.describe())"
   ]
  },
  {
   "cell_type": "code",
   "execution_count": 0,
   "metadata": {
    "application/vnd.databricks.v1+cell": {
     "cellMetadata": {
      "byteLimit": 2048000,
      "rowLimit": 10000
     },
     "inputWidgets": {},
     "nuid": "7dd82edb-17df-4353-943c-34d1cfe899ff",
     "showTitle": false,
     "tableResultSettingsMap": {},
     "title": ""
    }
   },
   "outputs": [
    {
     "output_type": "stream",
     "name": "stdout",
     "output_type": "stream",
     "text": [
      "+---------------+----------+\n|         Column|Null Count|\n+---------------+----------+\n|      RowNumber|         0|\n|     CustomerId|         0|\n|        Surname|         0|\n|    CreditScore|         0|\n|      Geography|         0|\n|         Gender|         0|\n|            Age|         0|\n|         Tenure|         0|\n|        Balance|         0|\n|  NumOfProducts|         0|\n| IsActiveMember|         0|\n|EstimatedSalary|         0|\n|         Exited|         0|\n+---------------+----------+\n\n"
     ]
    }
   ],
   "source": [
    "from pyspark.sql.functions import col, sum, when, lit\n",
    "# Calculate null counts\n",
    "null_counts2 = data_credit.select(\n",
    "    [sum(when(col(c).isNull(), 1).otherwise(0)).alias(c) for c in data_credit.columns]\n",
    ")\n",
    "null_counts_dict2 = null_counts2.collect()[0].asDict()\n",
    "transposed_null_counts2 = spark.createDataFrame(\n",
    "    [(key, value) for key, value in null_counts_dict2.items()],\n",
    "    schema=[\"Column\", \"Null Count\"]\n",
    ")\n",
    "# Show the transposed DataFrame\n",
    "transposed_null_counts2.show()"
   ]
  },
  {
   "cell_type": "markdown",
   "metadata": {
    "application/vnd.databricks.v1+cell": {
     "cellMetadata": {},
     "inputWidgets": {},
     "nuid": "d71227b9-533f-488c-9119-e5ecdc4e9c03",
     "showTitle": false,
     "tableResultSettingsMap": {},
     "title": ""
    }
   },
   "source": [
    "## Question & Solution"
   ]
  },
  {
   "cell_type": "markdown",
   "metadata": {
    "application/vnd.databricks.v1+cell": {
     "cellMetadata": {},
     "inputWidgets": {},
     "nuid": "206dbb89-f1cd-4bce-9b65-9de7740a25f7",
     "showTitle": false,
     "tableResultSettingsMap": {},
     "title": ""
    }
   },
   "source": [
    "### Create View"
   ]
  },
  {
   "cell_type": "code",
   "execution_count": 0,
   "metadata": {
    "application/vnd.databricks.v1+cell": {
     "cellMetadata": {
      "byteLimit": 2048000,
      "rowLimit": 10000
     },
     "inputWidgets": {},
     "nuid": "352bb038-aac0-4a50-8bd5-387681946883",
     "showTitle": false,
     "tableResultSettingsMap": {},
     "title": ""
    }
   },
   "outputs": [],
   "source": [
    "# Creating Views\n",
    "data_credit.createOrReplaceTempView('credit')"
   ]
  },
  {
   "cell_type": "markdown",
   "metadata": {
    "application/vnd.databricks.v1+cell": {
     "cellMetadata": {},
     "inputWidgets": {},
     "nuid": "2b4838e6-ac39-4e3a-88ed-da1e618f8d45",
     "showTitle": false,
     "tableResultSettingsMap": {},
     "title": ""
    }
   },
   "source": [
    "### 1. Filter out customers with a CreditScore greater than 700 and who are active members:"
   ]
  },
  {
   "cell_type": "code",
   "execution_count": 0,
   "metadata": {
    "application/vnd.databricks.v1+cell": {
     "cellMetadata": {
      "byteLimit": 2048000,
      "rowLimit": 10000
     },
     "inputWidgets": {},
     "nuid": "f8f96124-33fd-4385-8909-a2e9bec36cbb",
     "showTitle": false,
     "tableResultSettingsMap": {},
     "title": ""
    }
   },
   "outputs": [
    {
     "output_type": "stream",
     "name": "stdout",
     "output_type": "stream",
     "text": [
      "+---------+----------+---------+-----------+---------+------+---+------+---------+-------------+--------------+---------------+------+\n|RowNumber|CustomerId|  Surname|CreditScore|Geography|Gender|Age|Tenure|  Balance|NumOfProducts|IsActiveMember|EstimatedSalary|Exited|\n+---------+----------+---------+-----------+---------+------+---+------+---------+-------------+--------------+---------------+------+\n|        5|  15737888| Mitchell|        850|    Spain|Female| 43|     2|125510.82|            1|             1|        79084.1|     0|\n|        7|  15592531| Bartlett|        822|   France|  Male| 50|     7|      0.0|            2|             1|        10062.8|     0|\n|       20|  15568982|      Hao|        726|   France|Female| 24|     6|      0.0|            2|             1|       54724.03|     0|\n|       21|  15577657| McDonald|        732|   France|  Male| 41|     8|      0.0|            2|             1|      170886.17|     0|\n|       25|  15625047|      Yen|        846|   France|Female| 38|     5|      0.0|            1|             1|      187616.16|     0|\n|       27|  15736816|    Young|        756|  Germany|  Male| 36|     2|136815.64|            1|             1|      170041.95|     0|\n|       35|  15732963| Clements|        722|    Spain|Female| 29|     9|      0.0|            2|             1|      142033.07|     0|\n|       38|  15729599|  Lorenzo|        804|    Spain|  Male| 33|     7|  76548.6|            1|             1|       98453.45|     0|\n|       39|  15717426|Armstrong|        850|   France|  Male| 36|     7|      0.0|            1|             1|        40812.9|     0|\n|       46|  15754849|    Tyler|        776|  Germany|Female| 32|     4|109421.13|            2|             1|      126517.46|     0|\n|       47|  15602280|   Martin|        829|  Germany|Female| 27|     9|112045.67|            1|             1|      119708.21|     1|\n|       66|  15789484|  Hammond|        751|  Germany|Female| 36|     6|169831.46|            2|             1|       27758.36|     0|\n|       68|  15641582|  Chibugo|        735|  Germany|  Male| 43|    10|123180.01|            2|             1|      196673.28|     0|\n|       79|  15575185|  Bushell|        757|    Spain|  Male| 33|     5| 77253.22|            1|             1|      194239.63|     0|\n|       94|  15640635|    Capon|        769|   France|  Male| 29|     8|      0.0|            2|             1|      172290.61|     0|\n|       95|  15676966|    Capon|        730|    Spain|  Male| 42|     4|      0.0|            2|             1|       85982.47|     0|\n|       97|  15738721|   Graham|        773|    Spain|  Male| 41|     9|102827.44|            1|             1|       64595.25|     0|\n|       98|  15693683|   Yuille|        814|  Germany|  Male| 29|     8|  97086.4|            2|             1|      197276.13|     0|\n|      108|  15812878|  Parsons|        785|  Germany|Female| 36|     2| 99806.85|            1|             1|       36976.52|     0|\n|      115|  15609618|  Fanucci|        721|  Germany|  Male| 28|     9|154475.54|            2|             1|      101300.94|     1|\n+---------+----------+---------+-----------+---------+------+---+------+---------+-------------+--------------+---------------+------+\nonly showing top 20 rows\n\n"
     ]
    }
   ],
   "source": [
    "spark.sql(\"SELECT * FROM credit WHERE CreditScore > 700 AND IsActiveMember = 1;\").show()"
   ]
  },
  {
   "cell_type": "code",
   "execution_count": 0,
   "metadata": {
    "application/vnd.databricks.v1+cell": {
     "cellMetadata": {
      "byteLimit": 2048000,
      "rowLimit": 10000
     },
     "inputWidgets": {},
     "nuid": "984edcc3-631b-4869-a804-245fa498360c",
     "showTitle": false,
     "tableResultSettingsMap": {},
     "title": ""
    }
   },
   "outputs": [
    {
     "output_type": "stream",
     "name": "stdout",
     "output_type": "stream",
     "text": [
      "+---------+----------+---------+-----------+---------+------+---+------+---------+-------------+--------------+---------------+------+\n|RowNumber|CustomerId|  Surname|CreditScore|Geography|Gender|Age|Tenure|  Balance|NumOfProducts|IsActiveMember|EstimatedSalary|Exited|\n+---------+----------+---------+-----------+---------+------+---+------+---------+-------------+--------------+---------------+------+\n|        5|  15737888| Mitchell|        850|    Spain|Female| 43|     2|125510.82|            1|             1|        79084.1|     0|\n|        7|  15592531| Bartlett|        822|   France|  Male| 50|     7|      0.0|            2|             1|        10062.8|     0|\n|       20|  15568982|      Hao|        726|   France|Female| 24|     6|      0.0|            2|             1|       54724.03|     0|\n|       21|  15577657| McDonald|        732|   France|  Male| 41|     8|      0.0|            2|             1|      170886.17|     0|\n|       25|  15625047|      Yen|        846|   France|Female| 38|     5|      0.0|            1|             1|      187616.16|     0|\n|       27|  15736816|    Young|        756|  Germany|  Male| 36|     2|136815.64|            1|             1|      170041.95|     0|\n|       35|  15732963| Clements|        722|    Spain|Female| 29|     9|      0.0|            2|             1|      142033.07|     0|\n|       38|  15729599|  Lorenzo|        804|    Spain|  Male| 33|     7|  76548.6|            1|             1|       98453.45|     0|\n|       39|  15717426|Armstrong|        850|   France|  Male| 36|     7|      0.0|            1|             1|        40812.9|     0|\n|       46|  15754849|    Tyler|        776|  Germany|Female| 32|     4|109421.13|            2|             1|      126517.46|     0|\n|       47|  15602280|   Martin|        829|  Germany|Female| 27|     9|112045.67|            1|             1|      119708.21|     1|\n|       66|  15789484|  Hammond|        751|  Germany|Female| 36|     6|169831.46|            2|             1|       27758.36|     0|\n|       68|  15641582|  Chibugo|        735|  Germany|  Male| 43|    10|123180.01|            2|             1|      196673.28|     0|\n|       79|  15575185|  Bushell|        757|    Spain|  Male| 33|     5| 77253.22|            1|             1|      194239.63|     0|\n|       94|  15640635|    Capon|        769|   France|  Male| 29|     8|      0.0|            2|             1|      172290.61|     0|\n|       95|  15676966|    Capon|        730|    Spain|  Male| 42|     4|      0.0|            2|             1|       85982.47|     0|\n|       97|  15738721|   Graham|        773|    Spain|  Male| 41|     9|102827.44|            1|             1|       64595.25|     0|\n|       98|  15693683|   Yuille|        814|  Germany|  Male| 29|     8|  97086.4|            2|             1|      197276.13|     0|\n|      108|  15812878|  Parsons|        785|  Germany|Female| 36|     2| 99806.85|            1|             1|       36976.52|     0|\n|      115|  15609618|  Fanucci|        721|  Germany|  Male| 28|     9|154475.54|            2|             1|      101300.94|     1|\n+---------+----------+---------+-----------+---------+------+---+------+---------+-------------+--------------+---------------+------+\nonly showing top 20 rows\n\n"
     ]
    }
   ],
   "source": [
    "filtered_df = data_credit.filter((data_credit.CreditScore > 700) & (data_credit.IsActiveMember == 1))\n",
    "filtered_df.show()"
   ]
  },
  {
   "cell_type": "markdown",
   "metadata": {
    "application/vnd.databricks.v1+cell": {
     "cellMetadata": {},
     "inputWidgets": {},
     "nuid": "3b3ad79c-d303-480b-894b-ed7c2b94a54f",
     "showTitle": false,
     "tableResultSettingsMap": {},
     "title": ""
    }
   },
   "source": [
    "### 2. Calculate the average Balance, total EstimatedSalary, and count of customers:"
   ]
  },
  {
   "cell_type": "code",
   "execution_count": 0,
   "metadata": {
    "application/vnd.databricks.v1+cell": {
     "cellMetadata": {
      "byteLimit": 2048000,
      "rowLimit": 10000
     },
     "inputWidgets": {},
     "nuid": "4a628502-7ce0-497a-888a-7e3755ec1a71",
     "showTitle": false,
     "tableResultSettingsMap": {},
     "title": ""
    }
   },
   "outputs": [
    {
     "output_type": "display_data",
     "data": {
      "text/html": [
       "<style scoped>\n",
       "  .table-result-container {\n",
       "    max-height: 300px;\n",
       "    overflow: auto;\n",
       "  }\n",
       "  table, th, td {\n",
       "    border: 1px solid black;\n",
       "    border-collapse: collapse;\n",
       "  }\n",
       "  th, td {\n",
       "    padding: 5px;\n",
       "  }\n",
       "  th {\n",
       "    text-align: left;\n",
       "  }\n",
       "</style><div class='table-result-container'><table class='table-result'><thead style='background-color: white'><tr><th>AverageBalance</th><th>TotalSalary</th><th>CustomerCount</th></tr></thead><tbody><tr><td>76485.88928799961</td><td>1.0009023988099979E9</td><td>10000</td></tr></tbody></table></div>"
      ]
     },
     "metadata": {
      "application/vnd.databricks.v1+output": {
       "addedWidgets": {},
       "aggData": [],
       "aggError": "",
       "aggOverflow": false,
       "aggSchema": [],
       "aggSeriesLimitReached": false,
       "aggType": "",
       "arguments": {},
       "columnCustomDisplayInfos": {},
       "data": [
        [
         76485.88928799961,
         1.0009023988099979E9,
         10000
        ]
       ],
       "datasetInfos": [],
       "dbfsResultPath": null,
       "isJsonSchema": true,
       "metadata": {},
       "overflow": false,
       "plotOptions": {
        "customPlotOptions": {},
        "displayType": "table",
        "pivotAggregation": null,
        "pivotColumns": null,
        "xColumns": null,
        "yColumns": null
       },
       "removedWidgets": [],
       "schema": [
        {
         "metadata": "{}",
         "name": "AverageBalance",
         "type": "\"double\""
        },
        {
         "metadata": "{}",
         "name": "TotalSalary",
         "type": "\"double\""
        },
        {
         "metadata": "{}",
         "name": "CustomerCount",
         "type": "\"long\""
        }
       ],
       "type": "table"
      }
     },
     "output_type": "display_data"
    }
   ],
   "source": [
    "spark.sql(\"SELECT AVG(Balance) AS AverageBalance, SUM(EstimatedSalary) AS TotalSalary, COUNT(*) AS CustomerCount FROM credit;\").display()"
   ]
  },
  {
   "cell_type": "code",
   "execution_count": 0,
   "metadata": {
    "application/vnd.databricks.v1+cell": {
     "cellMetadata": {
      "byteLimit": 2048000,
      "rowLimit": 10000
     },
     "inputWidgets": {},
     "nuid": "97c8d0f2-60eb-484c-9d6a-85dcd655eca1",
     "showTitle": false,
     "tableResultSettingsMap": {},
     "title": ""
    }
   },
   "outputs": [
    {
     "output_type": "display_data",
     "data": {
      "text/html": [
       "<style scoped>\n",
       "  .table-result-container {\n",
       "    max-height: 300px;\n",
       "    overflow: auto;\n",
       "  }\n",
       "  table, th, td {\n",
       "    border: 1px solid black;\n",
       "    border-collapse: collapse;\n",
       "  }\n",
       "  th, td {\n",
       "    padding: 5px;\n",
       "  }\n",
       "  th {\n",
       "    text-align: left;\n",
       "  }\n",
       "</style><div class='table-result-container'><table class='table-result'><thead style='background-color: white'><tr><th>CustomerCount</th><th>AverageBalance</th><th>TotalSalary</th></tr></thead><tbody><tr><td>10000</td><td>76485.88928799961</td><td>1.0009023988099979E9</td></tr></tbody></table></div>"
      ]
     },
     "metadata": {
      "application/vnd.databricks.v1+output": {
       "addedWidgets": {},
       "aggData": [],
       "aggError": "",
       "aggOverflow": false,
       "aggSchema": [],
       "aggSeriesLimitReached": false,
       "aggType": "",
       "arguments": {},
       "columnCustomDisplayInfos": {},
       "data": [
        [
         10000,
         76485.88928799961,
         1.0009023988099979E9
        ]
       ],
       "datasetInfos": [],
       "dbfsResultPath": null,
       "isJsonSchema": true,
       "metadata": {},
       "overflow": false,
       "plotOptions": {
        "customPlotOptions": {},
        "displayType": "table",
        "pivotAggregation": null,
        "pivotColumns": null,
        "xColumns": null,
        "yColumns": null
       },
       "removedWidgets": [],
       "schema": [
        {
         "metadata": "{}",
         "name": "CustomerCount",
         "type": "\"long\""
        },
        {
         "metadata": "{}",
         "name": "AverageBalance",
         "type": "\"double\""
        },
        {
         "metadata": "{}",
         "name": "TotalSalary",
         "type": "\"double\""
        }
       ],
       "type": "table"
      }
     },
     "output_type": "display_data"
    }
   ],
   "source": [
    "aggregations = data_credit.agg(\n",
    "    {\"Balance\": \"avg\", \"EstimatedSalary\": \"sum\", \"*\": \"count\"}\n",
    ")\n",
    "aggregations.withColumnRenamed(\"avg(Balance)\", \"AverageBalance\").withColumnRenamed(\"sum(EstimatedSalary)\", \"TotalSalary\") \\\n",
    "            .withColumnRenamed(\"count(1)\", \"CustomerCount\").display()"
   ]
  },
  {
   "cell_type": "markdown",
   "metadata": {
    "application/vnd.databricks.v1+cell": {
     "cellMetadata": {},
     "inputWidgets": {},
     "nuid": "5a0062fb-4fad-454f-a965-7d80f765ac8d",
     "showTitle": false,
     "tableResultSettingsMap": {},
     "title": ""
    }
   },
   "source": [
    "### 3. Find the average CreditScore and total number of customers grouped by Geography and Gender:"
   ]
  },
  {
   "cell_type": "code",
   "execution_count": 0,
   "metadata": {
    "application/vnd.databricks.v1+cell": {
     "cellMetadata": {
      "byteLimit": 2048000,
      "rowLimit": 10000
     },
     "inputWidgets": {},
     "nuid": "d124c8b4-8496-4d5e-954e-b5c66dd5d185",
     "showTitle": false,
     "tableResultSettingsMap": {},
     "title": ""
    }
   },
   "outputs": [
    {
     "output_type": "display_data",
     "data": {
      "text/html": [
       "<style scoped>\n",
       "  .table-result-container {\n",
       "    max-height: 300px;\n",
       "    overflow: auto;\n",
       "  }\n",
       "  table, th, td {\n",
       "    border: 1px solid black;\n",
       "    border-collapse: collapse;\n",
       "  }\n",
       "  th, td {\n",
       "    padding: 5px;\n",
       "  }\n",
       "  th {\n",
       "    text-align: left;\n",
       "  }\n",
       "</style><div class='table-result-container'><table class='table-result'><thead style='background-color: white'><tr><th>Geography</th><th>Gender</th><th>AvgCreditScore</th><th>CustomerCount</th></tr></thead><tbody><tr><td>Germany</td><td>Female</td><td>653.0938809723386</td><td>1193</td></tr><tr><td>France</td><td>Male</td><td>650.0646567381038</td><td>2753</td></tr><tr><td>France</td><td>Female</td><td>649.1857585139319</td><td>2261</td></tr><tr><td>Spain</td><td>Male</td><td>650.9920749279539</td><td>1388</td></tr><tr><td>Germany</td><td>Male</td><td>649.9665653495441</td><td>1316</td></tr><tr><td>Spain</td><td>Female</td><td>651.7695133149679</td><td>1089</td></tr></tbody></table></div>"
      ]
     },
     "metadata": {
      "application/vnd.databricks.v1+output": {
       "addedWidgets": {},
       "aggData": [],
       "aggError": "",
       "aggOverflow": false,
       "aggSchema": [],
       "aggSeriesLimitReached": false,
       "aggType": "",
       "arguments": {},
       "columnCustomDisplayInfos": {},
       "data": [
        [
         "Germany",
         "Female",
         653.0938809723386,
         1193
        ],
        [
         "France",
         "Male",
         650.0646567381038,
         2753
        ],
        [
         "France",
         "Female",
         649.1857585139319,
         2261
        ],
        [
         "Spain",
         "Male",
         650.9920749279539,
         1388
        ],
        [
         "Germany",
         "Male",
         649.9665653495441,
         1316
        ],
        [
         "Spain",
         "Female",
         651.7695133149679,
         1089
        ]
       ],
       "datasetInfos": [],
       "dbfsResultPath": null,
       "isJsonSchema": true,
       "metadata": {},
       "overflow": false,
       "plotOptions": {
        "customPlotOptions": {},
        "displayType": "table",
        "pivotAggregation": null,
        "pivotColumns": null,
        "xColumns": null,
        "yColumns": null
       },
       "removedWidgets": [],
       "schema": [
        {
         "metadata": "{}",
         "name": "Geography",
         "type": "\"string\""
        },
        {
         "metadata": "{}",
         "name": "Gender",
         "type": "\"string\""
        },
        {
         "metadata": "{}",
         "name": "AvgCreditScore",
         "type": "\"double\""
        },
        {
         "metadata": "{}",
         "name": "CustomerCount",
         "type": "\"long\""
        }
       ],
       "type": "table"
      }
     },
     "output_type": "display_data"
    }
   ],
   "source": [
    "spark.sql(\"SELECT Geography, Gender, AVG(CreditScore) AS AvgCreditScore, COUNT(*) AS CustomerCount FROM credit GROUP BY Geography, Gender;\").display()"
   ]
  },
  {
   "cell_type": "code",
   "execution_count": 0,
   "metadata": {
    "application/vnd.databricks.v1+cell": {
     "cellMetadata": {
      "byteLimit": 2048000,
      "rowLimit": 10000
     },
     "inputWidgets": {},
     "nuid": "aa8e9779-09fb-4b01-93e9-4a0286b97247",
     "showTitle": false,
     "tableResultSettingsMap": {},
     "title": ""
    }
   },
   "outputs": [
    {
     "output_type": "display_data",
     "data": {
      "text/html": [
       "<style scoped>\n",
       "  .table-result-container {\n",
       "    max-height: 300px;\n",
       "    overflow: auto;\n",
       "  }\n",
       "  table, th, td {\n",
       "    border: 1px solid black;\n",
       "    border-collapse: collapse;\n",
       "  }\n",
       "  th, td {\n",
       "    padding: 5px;\n",
       "  }\n",
       "  th {\n",
       "    text-align: left;\n",
       "  }\n",
       "</style><div class='table-result-container'><table class='table-result'><thead style='background-color: white'><tr><th>Geography</th><th>Gender</th><th>CustomerCount</th><th>AvgCreditScore</th></tr></thead><tbody><tr><td>Germany</td><td>Female</td><td>1193</td><td>653.0938809723386</td></tr><tr><td>France</td><td>Male</td><td>2753</td><td>650.0646567381038</td></tr><tr><td>France</td><td>Female</td><td>2261</td><td>649.1857585139319</td></tr><tr><td>Spain</td><td>Male</td><td>1388</td><td>650.9920749279539</td></tr><tr><td>Germany</td><td>Male</td><td>1316</td><td>649.9665653495441</td></tr><tr><td>Spain</td><td>Female</td><td>1089</td><td>651.7695133149679</td></tr></tbody></table></div>"
      ]
     },
     "metadata": {
      "application/vnd.databricks.v1+output": {
       "addedWidgets": {},
       "aggData": [],
       "aggError": "",
       "aggOverflow": false,
       "aggSchema": [],
       "aggSeriesLimitReached": false,
       "aggType": "",
       "arguments": {},
       "columnCustomDisplayInfos": {},
       "data": [
        [
         "Germany",
         "Female",
         1193,
         653.0938809723386
        ],
        [
         "France",
         "Male",
         2753,
         650.0646567381038
        ],
        [
         "France",
         "Female",
         2261,
         649.1857585139319
        ],
        [
         "Spain",
         "Male",
         1388,
         650.9920749279539
        ],
        [
         "Germany",
         "Male",
         1316,
         649.9665653495441
        ],
        [
         "Spain",
         "Female",
         1089,
         651.7695133149679
        ]
       ],
       "datasetInfos": [],
       "dbfsResultPath": null,
       "isJsonSchema": true,
       "metadata": {},
       "overflow": false,
       "plotOptions": {
        "customPlotOptions": {},
        "displayType": "table",
        "pivotAggregation": null,
        "pivotColumns": null,
        "xColumns": null,
        "yColumns": null
       },
       "removedWidgets": [],
       "schema": [
        {
         "metadata": "{}",
         "name": "Geography",
         "type": "\"string\""
        },
        {
         "metadata": "{}",
         "name": "Gender",
         "type": "\"string\""
        },
        {
         "metadata": "{}",
         "name": "CustomerCount",
         "type": "\"long\""
        },
        {
         "metadata": "{}",
         "name": "AvgCreditScore",
         "type": "\"double\""
        }
       ],
       "type": "table"
      }
     },
     "output_type": "display_data"
    }
   ],
   "source": [
    "grouped_df = data_credit.groupBy(\"Geography\", \"Gender\").agg({\"CreditScore\": \"avg\", \"*\": \"count\"})\n",
    "grouped_df.withColumnRenamed(\"avg(CreditScore)\", \"AvgCreditScore\").withColumnRenamed(\"count(1)\", \"CustomerCount\").display()"
   ]
  },
  {
   "cell_type": "markdown",
   "metadata": {
    "application/vnd.databricks.v1+cell": {
     "cellMetadata": {},
     "inputWidgets": {},
     "nuid": "382af787-5f8e-4fb1-807c-b2f0736d5dbe",
     "showTitle": false,
     "tableResultSettingsMap": {},
     "title": ""
    }
   },
   "source": [
    "### 4. Joins"
   ]
  },
  {
   "cell_type": "code",
   "execution_count": 0,
   "metadata": {
    "application/vnd.databricks.v1+cell": {
     "cellMetadata": {
      "byteLimit": 2048000,
      "rowLimit": 10000
     },
     "inputWidgets": {},
     "nuid": "a6109eb6-87d9-4b67-b205-d8488fc6f9a5",
     "showTitle": false,
     "tableResultSettingsMap": {},
     "title": ""
    }
   },
   "outputs": [
    {
     "output_type": "stream",
     "name": "stdout",
     "output_type": "stream",
     "text": [
      "root\n |-- CustomerId: integer (nullable = true)\n |-- Surname: string (nullable = true)\n |-- CreditScore: integer (nullable = true)\n |-- Geography: string (nullable = true)\n |-- Gender: string (nullable = true)\n |-- Age: integer (nullable = true)\n\nroot\n |-- CustomerId: integer (nullable = true)\n |-- Tenure: integer (nullable = true)\n |-- Balance: double (nullable = true)\n |-- NumOfProducts: integer (nullable = true)\n |-- IsActiveMember: integer (nullable = true)\n |-- EstimatedSalary: double (nullable = true)\n |-- Exited: integer (nullable = true)\n\n"
     ]
    }
   ],
   "source": [
    "df1.printSchema()\n",
    "df2.printSchema()"
   ]
  },
  {
   "cell_type": "code",
   "execution_count": 0,
   "metadata": {
    "application/vnd.databricks.v1+cell": {
     "cellMetadata": {
      "byteLimit": 2048000,
      "rowLimit": 10000
     },
     "inputWidgets": {},
     "nuid": "4da2393a-aa36-4961-a20f-2952d97ca29a",
     "showTitle": false,
     "tableResultSettingsMap": {},
     "title": ""
    }
   },
   "outputs": [],
   "source": [
    "df1.createOrReplaceTempView(\"table1\")\n",
    "df2.createOrReplaceTempView(\"table2\")"
   ]
  },
  {
   "cell_type": "markdown",
   "metadata": {
    "application/vnd.databricks.v1+cell": {
     "cellMetadata": {},
     "inputWidgets": {},
     "nuid": "64d4dd47-b126-45f8-aa1a-0ad953868238",
     "showTitle": false,
     "tableResultSettingsMap": {},
     "title": ""
    }
   },
   "source": [
    "#### 4.1. Inner Join"
   ]
  },
  {
   "cell_type": "code",
   "execution_count": 0,
   "metadata": {
    "application/vnd.databricks.v1+cell": {
     "cellMetadata": {
      "byteLimit": 2048000,
      "rowLimit": 10000
     },
     "inputWidgets": {},
     "nuid": "b46834bc-08d0-4556-9237-2f408ed7bc7a",
     "showTitle": false,
     "tableResultSettingsMap": {},
     "title": ""
    }
   },
   "outputs": [
    {
     "output_type": "stream",
     "name": "stdout",
     "output_type": "stream",
     "text": [
      "+----------+---------+-----------+---------+------+----+----------+------+---------+-------------+--------------+---------------+------+\n|CustomerId|  Surname|CreditScore|Geography|Gender| Age|CustomerId|Tenure|  Balance|NumOfProducts|IsActiveMember|EstimatedSalary|Exited|\n+----------+---------+-----------+---------+------+----+----------+------+---------+-------------+--------------+---------------+------+\n|  15634602| Hargrave|        619|   France|Female|  42|  15634602|     2|     null|            1|             1|      101348.88|     1|\n|  15647311|     Hill|        608|     null|Female|  41|  15647311|     1| 83807.86|            1|             1|      112542.58|     0|\n|  15701354|     null|       null|   France|  null|null|  15701354|     1|     null|            2|             0|       93826.63|     0|\n|  15737888| Mitchell|        850|    Spain|Female|null|  15737888|     2|125510.82|            1|             1|        79084.1|  null|\n|  15574012|     null|        645|     null|  Male|  44|  15574012|     8|113755.78|            2|          null|      149756.71|     1|\n|  15592531| Bartlett|        822|   France|  Male|null|  15592531|     7|     null|            2|             1|        10062.8|     0|\n|  15656148|   Obinna|        376|  Germany|  null|  29|  15656148|     4|115046.74|            4|             0|      119346.88|     1|\n|  15792365|       He|        501|   France|  null|  44|  15792365|     4|142051.07|            2|             1|        74940.5|     0|\n|  15592389|     null|        684|   France|  Male|  27|  15592389|     2|134603.88|            1|             1|       71725.73|  null|\n|  15737452|     null|       null|  Germany|  Male|  58|  15737452|  null|132602.88|            1|          null|        5097.67|     1|\n|  15788218|Henderson|        549|    Spain|Female|null|  15788218|     9|     null|            2|             1|       14406.41|     0|\n|  15661507|  Muldrow|        587|    Spain|  Male|  45|  15661507|     6|     null|            1|             0|      158684.81|     0|\n|  15568982|      Hao|        726|   France|Female|  24|  15568982|     6|     null|            2|             1|       54724.03|     0|\n+----------+---------+-----------+---------+------+----+----------+------+---------+-------------+--------------+---------------+------+\n\n"
     ]
    }
   ],
   "source": [
    "result = spark.sql(\"SELECT * FROM table1 t1 INNER JOIN table2 t2 ON t1.CustomerId = t2.CustomerId;\")\n",
    "result.show()"
   ]
  },
  {
   "cell_type": "code",
   "execution_count": 0,
   "metadata": {
    "application/vnd.databricks.v1+cell": {
     "cellMetadata": {
      "byteLimit": 2048000,
      "rowLimit": 10000
     },
     "inputWidgets": {},
     "nuid": "76113809-15e9-45f0-936c-640be22571c6",
     "showTitle": false,
     "tableResultSettingsMap": {},
     "title": ""
    }
   },
   "outputs": [
    {
     "output_type": "stream",
     "name": "stdout",
     "output_type": "stream",
     "text": [
      "+----------+---------+-----------+---------+------+----+------+---------+-------------+--------------+---------------+------+\n|CustomerId|  Surname|CreditScore|Geography|Gender| Age|Tenure|  Balance|NumOfProducts|IsActiveMember|EstimatedSalary|Exited|\n+----------+---------+-----------+---------+------+----+------+---------+-------------+--------------+---------------+------+\n|  15634602| Hargrave|        619|   France|Female|  42|     2|     null|            1|             1|      101348.88|     1|\n|  15647311|     Hill|        608|     null|Female|  41|     1| 83807.86|            1|             1|      112542.58|     0|\n|  15701354|     null|       null|   France|  null|null|     1|     null|            2|             0|       93826.63|     0|\n|  15737888| Mitchell|        850|    Spain|Female|null|     2|125510.82|            1|             1|        79084.1|  null|\n|  15574012|     null|        645|     null|  Male|  44|     8|113755.78|            2|          null|      149756.71|     1|\n|  15592531| Bartlett|        822|   France|  Male|null|     7|     null|            2|             1|        10062.8|     0|\n|  15656148|   Obinna|        376|  Germany|  null|  29|     4|115046.74|            4|             0|      119346.88|     1|\n|  15792365|       He|        501|   France|  null|  44|     4|142051.07|            2|             1|        74940.5|     0|\n|  15592389|     null|        684|   France|  Male|  27|     2|134603.88|            1|             1|       71725.73|  null|\n|  15737452|     null|       null|  Germany|  Male|  58|  null|132602.88|            1|          null|        5097.67|     1|\n|  15788218|Henderson|        549|    Spain|Female|null|     9|     null|            2|             1|       14406.41|     0|\n|  15661507|  Muldrow|        587|    Spain|  Male|  45|     6|     null|            1|             0|      158684.81|     0|\n|  15568982|      Hao|        726|   France|Female|  24|     6|     null|            2|             1|       54724.03|     0|\n+----------+---------+-----------+---------+------+----+------+---------+-------------+--------------+---------------+------+\n\n"
     ]
    }
   ],
   "source": [
    "inner_join = df1.join(df2, on=\"CustomerId\", how=\"inner\")\n",
    "inner_join.show()"
   ]
  },
  {
   "cell_type": "markdown",
   "metadata": {
    "application/vnd.databricks.v1+cell": {
     "cellMetadata": {},
     "inputWidgets": {},
     "nuid": "da442532-1e64-49f2-9c56-77f6418bfc87",
     "showTitle": false,
     "tableResultSettingsMap": {},
     "title": ""
    }
   },
   "source": [
    "#### 4.2. Left join"
   ]
  },
  {
   "cell_type": "code",
   "execution_count": 0,
   "metadata": {
    "application/vnd.databricks.v1+cell": {
     "cellMetadata": {
      "byteLimit": 2048000,
      "rowLimit": 10000
     },
     "inputWidgets": {},
     "nuid": "9fa30735-043e-4e9c-ba9e-942b0f7e3565",
     "showTitle": false,
     "tableResultSettingsMap": {},
     "title": ""
    }
   },
   "outputs": [
    {
     "output_type": "stream",
     "name": "stdout",
     "output_type": "stream",
     "text": [
      "+----------+---------+-----------+---------+------+----+----------+------+---------+-------------+--------------+---------------+------+\n|CustomerId|  Surname|CreditScore|Geography|Gender| Age|CustomerId|Tenure|  Balance|NumOfProducts|IsActiveMember|EstimatedSalary|Exited|\n+----------+---------+-----------+---------+------+----+----------+------+---------+-------------+--------------+---------------+------+\n|  15634602| Hargrave|        619|   France|Female|  42|  15634602|     2|     null|            1|             1|      101348.88|     1|\n|  15647311|     Hill|        608|     null|Female|  41|  15647311|     1| 83807.86|            1|             1|      112542.58|     0|\n|  15701354|     null|       null|   France|  null|null|  15701354|     1|     null|            2|             0|       93826.63|     0|\n|  15737888| Mitchell|        850|    Spain|Female|null|  15737888|     2|125510.82|            1|             1|        79084.1|  null|\n|  15574012|     null|        645|     null|  Male|  44|  15574012|     8|113755.78|            2|          null|      149756.71|     1|\n|  15592531| Bartlett|        822|   France|  Male|null|  15592531|     7|     null|            2|             1|        10062.8|     0|\n|  15656148|   Obinna|        376|  Germany|  null|  29|  15656148|     4|115046.74|            4|             0|      119346.88|     1|\n|  15792365|       He|        501|   France|  null|  44|  15792365|     4|142051.07|            2|             1|        74940.5|     0|\n|  15592389|     null|        684|   France|  Male|  27|  15592389|     2|134603.88|            1|             1|       71725.73|  null|\n|  15737452|     null|       null|  Germany|  Male|  58|  15737452|  null|132602.88|            1|          null|        5097.67|     1|\n|  15788218|Henderson|        549|    Spain|Female|null|  15788218|     9|     null|            2|             1|       14406.41|     0|\n|  15661507|  Muldrow|        587|    Spain|  Male|  45|  15661507|     6|     null|            1|             0|      158684.81|     0|\n|  15568982|      Hao|        726|   France|Female|  24|  15568982|     6|     null|            2|             1|       54724.03|     0|\n+----------+---------+-----------+---------+------+----+----------+------+---------+-------------+--------------+---------------+------+\n\n"
     ]
    }
   ],
   "source": [
    "result1 = spark.sql(\"SELECT * FROM table1 t1 LEFT JOIN table2 t2 ON t1.CustomerId = t2.CustomerId;\")\n",
    "result1.show()"
   ]
  },
  {
   "cell_type": "code",
   "execution_count": 0,
   "metadata": {
    "application/vnd.databricks.v1+cell": {
     "cellMetadata": {
      "byteLimit": 2048000,
      "rowLimit": 10000
     },
     "inputWidgets": {},
     "nuid": "73c7e999-e8b1-4a94-a3e5-85fd122b5029",
     "showTitle": false,
     "tableResultSettingsMap": {},
     "title": ""
    }
   },
   "outputs": [
    {
     "output_type": "stream",
     "name": "stdout",
     "output_type": "stream",
     "text": [
      "+----------+---------+-----------+---------+------+----+------+---------+-------------+--------------+---------------+------+\n|CustomerId|  Surname|CreditScore|Geography|Gender| Age|Tenure|  Balance|NumOfProducts|IsActiveMember|EstimatedSalary|Exited|\n+----------+---------+-----------+---------+------+----+------+---------+-------------+--------------+---------------+------+\n|  15634602| Hargrave|        619|   France|Female|  42|     2|     null|            1|             1|      101348.88|     1|\n|  15647311|     Hill|        608|     null|Female|  41|     1| 83807.86|            1|             1|      112542.58|     0|\n|  15701354|     null|       null|   France|  null|null|     1|     null|            2|             0|       93826.63|     0|\n|  15737888| Mitchell|        850|    Spain|Female|null|     2|125510.82|            1|             1|        79084.1|  null|\n|  15574012|     null|        645|     null|  Male|  44|     8|113755.78|            2|          null|      149756.71|     1|\n|  15592531| Bartlett|        822|   France|  Male|null|     7|     null|            2|             1|        10062.8|     0|\n|  15656148|   Obinna|        376|  Germany|  null|  29|     4|115046.74|            4|             0|      119346.88|     1|\n|  15792365|       He|        501|   France|  null|  44|     4|142051.07|            2|             1|        74940.5|     0|\n|  15592389|     null|        684|   France|  Male|  27|     2|134603.88|            1|             1|       71725.73|  null|\n|  15737452|     null|       null|  Germany|  Male|  58|  null|132602.88|            1|          null|        5097.67|     1|\n|  15788218|Henderson|        549|    Spain|Female|null|     9|     null|            2|             1|       14406.41|     0|\n|  15661507|  Muldrow|        587|    Spain|  Male|  45|     6|     null|            1|             0|      158684.81|     0|\n|  15568982|      Hao|        726|   France|Female|  24|     6|     null|            2|             1|       54724.03|     0|\n+----------+---------+-----------+---------+------+----+------+---------+-------------+--------------+---------------+------+\n\n"
     ]
    }
   ],
   "source": [
    "left_join = df1.join(df2, on=\"CustomerId\", how=\"left\")\n",
    "left_join.show()"
   ]
  },
  {
   "cell_type": "markdown",
   "metadata": {
    "application/vnd.databricks.v1+cell": {
     "cellMetadata": {},
     "inputWidgets": {},
     "nuid": "bb4733dd-fb62-4dd9-b98d-781fb0cc7c8f",
     "showTitle": false,
     "tableResultSettingsMap": {},
     "title": ""
    }
   },
   "source": [
    "#### 4.3. Right Join"
   ]
  },
  {
   "cell_type": "code",
   "execution_count": 0,
   "metadata": {
    "application/vnd.databricks.v1+cell": {
     "cellMetadata": {
      "byteLimit": 2048000,
      "rowLimit": 10000
     },
     "inputWidgets": {},
     "nuid": "981d27c7-fe6d-4d74-a203-1adb4031e66f",
     "showTitle": false,
     "tableResultSettingsMap": {},
     "title": ""
    }
   },
   "outputs": [
    {
     "output_type": "stream",
     "name": "stdout",
     "output_type": "stream",
     "text": [
      "+----------+---------+-----------+---------+------+----+----------+------+---------+-------------+--------------+---------------+------+\n|CustomerId|  Surname|CreditScore|Geography|Gender| Age|CustomerId|Tenure|  Balance|NumOfProducts|IsActiveMember|EstimatedSalary|Exited|\n+----------+---------+-----------+---------+------+----+----------+------+---------+-------------+--------------+---------------+------+\n|  15634602| Hargrave|        619|   France|Female|  42|  15634602|     2|     null|            1|             1|      101348.88|     1|\n|  15647311|     Hill|        608|     null|Female|  41|  15647311|     1| 83807.86|            1|             1|      112542.58|     0|\n|      null|     null|       null|     null|  null|null|  15619304|     8| 159660.8|            3|             0|      113931.57|     1|\n|  15701354|     null|       null|   France|  null|null|  15701354|     1|     null|            2|             0|       93826.63|     0|\n|  15737888| Mitchell|        850|    Spain|Female|null|  15737888|     2|125510.82|            1|             1|        79084.1|  null|\n|  15574012|     null|        645|     null|  Male|  44|  15574012|     8|113755.78|            2|          null|      149756.71|     1|\n|  15592531| Bartlett|        822|   France|  Male|null|  15592531|     7|     null|            2|             1|        10062.8|     0|\n|  15656148|   Obinna|        376|  Germany|  null|  29|  15656148|     4|115046.74|            4|             0|      119346.88|     1|\n|  15792365|       He|        501|   France|  null|  44|  15792365|     4|142051.07|            2|             1|        74940.5|     0|\n|  15592389|     null|        684|   France|  Male|  27|  15592389|     2|134603.88|            1|             1|       71725.73|  null|\n|      null|     null|       null|     null|  null|null|  15767821|  null|102016.72|            2|             0|       80181.12|     0|\n|      null|     null|       null|     null|  null|null|  15737173|     3|     null|            2|             0|       76390.01|     0|\n|      null|     null|       null|     null|  null|null|  15632264|    10|     null|            2|          null|       26260.98|     0|\n|      null|     null|       null|     null|  null|null|  15691483|     5|     null|            2|             0|      190857.79|  null|\n|      null|     null|       null|     null|  null|null|  15600882|     7|     null|            2|             1|       65951.65|     0|\n|      null|     null|       null|     null|  null|null|  15643966|     3|143129.41|            2|             1|       64327.26|  null|\n|  15737452|     null|       null|  Germany|  Male|  58|  15737452|  null|132602.88|            1|          null|        5097.67|     1|\n|  15788218|Henderson|        549|    Spain|Female|null|  15788218|     9|     null|            2|             1|       14406.41|     0|\n|  15661507|  Muldrow|        587|    Spain|  Male|  45|  15661507|     6|     null|            1|             0|      158684.81|     0|\n|  15568982|      Hao|        726|   France|Female|  24|  15568982|     6|     null|            2|             1|       54724.03|     0|\n+----------+---------+-----------+---------+------+----+----------+------+---------+-------------+--------------+---------------+------+\n\n"
     ]
    }
   ],
   "source": [
    "result2 = spark.sql(\"SELECT * FROM table1 t1 RIGHT JOIN table2 t2 ON t1.CustomerId = t2.CustomerId;\")\n",
    "result2.show()"
   ]
  },
  {
   "cell_type": "code",
   "execution_count": 0,
   "metadata": {
    "application/vnd.databricks.v1+cell": {
     "cellMetadata": {
      "byteLimit": 2048000,
      "rowLimit": 10000
     },
     "inputWidgets": {},
     "nuid": "64c3d9e8-3183-4f38-adcd-c93ede916f71",
     "showTitle": false,
     "tableResultSettingsMap": {},
     "title": ""
    }
   },
   "outputs": [
    {
     "output_type": "stream",
     "name": "stdout",
     "output_type": "stream",
     "text": [
      "+----------+---------+-----------+---------+------+----+------+---------+-------------+--------------+---------------+------+\n|CustomerId|  Surname|CreditScore|Geography|Gender| Age|Tenure|  Balance|NumOfProducts|IsActiveMember|EstimatedSalary|Exited|\n+----------+---------+-----------+---------+------+----+------+---------+-------------+--------------+---------------+------+\n|  15634602| Hargrave|        619|   France|Female|  42|     2|     null|            1|             1|      101348.88|     1|\n|  15647311|     Hill|        608|     null|Female|  41|     1| 83807.86|            1|             1|      112542.58|     0|\n|  15619304|     null|       null|     null|  null|null|     8| 159660.8|            3|             0|      113931.57|     1|\n|  15701354|     null|       null|   France|  null|null|     1|     null|            2|             0|       93826.63|     0|\n|  15737888| Mitchell|        850|    Spain|Female|null|     2|125510.82|            1|             1|        79084.1|  null|\n|  15574012|     null|        645|     null|  Male|  44|     8|113755.78|            2|          null|      149756.71|     1|\n|  15592531| Bartlett|        822|   France|  Male|null|     7|     null|            2|             1|        10062.8|     0|\n|  15656148|   Obinna|        376|  Germany|  null|  29|     4|115046.74|            4|             0|      119346.88|     1|\n|  15792365|       He|        501|   France|  null|  44|     4|142051.07|            2|             1|        74940.5|     0|\n|  15592389|     null|        684|   France|  Male|  27|     2|134603.88|            1|             1|       71725.73|  null|\n|  15767821|     null|       null|     null|  null|null|  null|102016.72|            2|             0|       80181.12|     0|\n|  15737173|     null|       null|     null|  null|null|     3|     null|            2|             0|       76390.01|     0|\n|  15632264|     null|       null|     null|  null|null|    10|     null|            2|          null|       26260.98|     0|\n|  15691483|     null|       null|     null|  null|null|     5|     null|            2|             0|      190857.79|  null|\n|  15600882|     null|       null|     null|  null|null|     7|     null|            2|             1|       65951.65|     0|\n|  15643966|     null|       null|     null|  null|null|     3|143129.41|            2|             1|       64327.26|  null|\n|  15737452|     null|       null|  Germany|  Male|  58|  null|132602.88|            1|          null|        5097.67|     1|\n|  15788218|Henderson|        549|    Spain|Female|null|     9|     null|            2|             1|       14406.41|     0|\n|  15661507|  Muldrow|        587|    Spain|  Male|  45|     6|     null|            1|             0|      158684.81|     0|\n|  15568982|      Hao|        726|   France|Female|  24|     6|     null|            2|             1|       54724.03|     0|\n+----------+---------+-----------+---------+------+----+------+---------+-------------+--------------+---------------+------+\n\n"
     ]
    }
   ],
   "source": [
    "right_join = df1.join(df2, on=\"CustomerId\", how=\"right\")\n",
    "right_join.show()"
   ]
  },
  {
   "cell_type": "markdown",
   "metadata": {
    "application/vnd.databricks.v1+cell": {
     "cellMetadata": {},
     "inputWidgets": {},
     "nuid": "eee5b3d8-f677-4949-a320-690f3b475dbd",
     "showTitle": false,
     "tableResultSettingsMap": {},
     "title": ""
    }
   },
   "source": [
    "#### 4.4. Full join"
   ]
  },
  {
   "cell_type": "code",
   "execution_count": 0,
   "metadata": {
    "application/vnd.databricks.v1+cell": {
     "cellMetadata": {
      "byteLimit": 2048000,
      "rowLimit": 10000
     },
     "inputWidgets": {},
     "nuid": "38190161-41d7-43ce-b140-88c115cc2b7c",
     "showTitle": false,
     "tableResultSettingsMap": {},
     "title": ""
    }
   },
   "outputs": [
    {
     "output_type": "stream",
     "name": "stdout",
     "output_type": "stream",
     "text": [
      "+----------+---------+-----------+---------+------+----+----------+------+---------+-------------+--------------+---------------+------+\n|CustomerId|  Surname|CreditScore|Geography|Gender| Age|CustomerId|Tenure|  Balance|NumOfProducts|IsActiveMember|EstimatedSalary|Exited|\n+----------+---------+-----------+---------+------+----+----------+------+---------+-------------+--------------+---------------+------+\n|  15568982|      Hao|        726|   France|Female|  24|  15568982|     6|     null|            2|             1|       54724.03|     0|\n|  15574012|     null|        645|     null|  Male|  44|  15574012|     8|113755.78|            2|          null|      149756.71|     1|\n|  15592389|     null|        684|   France|  Male|  27|  15592389|     2|134603.88|            1|             1|       71725.73|  null|\n|  15592531| Bartlett|        822|   France|  Male|null|  15592531|     7|     null|            2|             1|        10062.8|     0|\n|      null|     null|       null|     null|  null|null|  15600882|     7|     null|            2|             1|       65951.65|     0|\n|      null|     null|       null|     null|  null|null|  15619304|     8| 159660.8|            3|             0|      113931.57|     1|\n|      null|     null|       null|     null|  null|null|  15632264|    10|     null|            2|          null|       26260.98|     0|\n|  15634602| Hargrave|        619|   France|Female|  42|  15634602|     2|     null|            1|             1|      101348.88|     1|\n|      null|     null|       null|     null|  null|null|  15643966|     3|143129.41|            2|             1|       64327.26|  null|\n|  15647311|     Hill|        608|     null|Female|  41|  15647311|     1| 83807.86|            1|             1|      112542.58|     0|\n|  15656148|   Obinna|        376|  Germany|  null|  29|  15656148|     4|115046.74|            4|             0|      119346.88|     1|\n|  15661507|  Muldrow|        587|    Spain|  Male|  45|  15661507|     6|     null|            1|             0|      158684.81|     0|\n|      null|     null|       null|     null|  null|null|  15691483|     5|     null|            2|             0|      190857.79|  null|\n|  15701354|     null|       null|   France|  null|null|  15701354|     1|     null|            2|             0|       93826.63|     0|\n|      null|     null|       null|     null|  null|null|  15737173|     3|     null|            2|             0|       76390.01|     0|\n|  15737452|     null|       null|  Germany|  Male|  58|  15737452|  null|132602.88|            1|          null|        5097.67|     1|\n|  15737888| Mitchell|        850|    Spain|Female|null|  15737888|     2|125510.82|            1|             1|        79084.1|  null|\n|      null|     null|       null|     null|  null|null|  15767821|  null|102016.72|            2|             0|       80181.12|     0|\n|  15788218|Henderson|        549|    Spain|Female|null|  15788218|     9|     null|            2|             1|       14406.41|     0|\n|  15792365|       He|        501|   France|  null|  44|  15792365|     4|142051.07|            2|             1|        74940.5|     0|\n+----------+---------+-----------+---------+------+----+----------+------+---------+-------------+--------------+---------------+------+\n\n"
     ]
    }
   ],
   "source": [
    "result3 = spark.sql(\"SELECT * FROM table1 t1 FULL OUTER JOIN table2 t2 ON t1.CustomerId = t2.CustomerId;\")\n",
    "result3.show()"
   ]
  },
  {
   "cell_type": "code",
   "execution_count": 0,
   "metadata": {
    "application/vnd.databricks.v1+cell": {
     "cellMetadata": {
      "byteLimit": 2048000,
      "rowLimit": 10000
     },
     "inputWidgets": {},
     "nuid": "d838eca5-f236-4e34-8b12-b338ab7d37dc",
     "showTitle": false,
     "tableResultSettingsMap": {},
     "title": ""
    }
   },
   "outputs": [
    {
     "output_type": "stream",
     "name": "stdout",
     "output_type": "stream",
     "text": [
      "+----------+---------+-----------+---------+------+----+------+---------+-------------+--------------+---------------+------+\n|CustomerId|  Surname|CreditScore|Geography|Gender| Age|Tenure|  Balance|NumOfProducts|IsActiveMember|EstimatedSalary|Exited|\n+----------+---------+-----------+---------+------+----+------+---------+-------------+--------------+---------------+------+\n|  15568982|      Hao|        726|   France|Female|  24|     6|     null|            2|             1|       54724.03|     0|\n|  15574012|     null|        645|     null|  Male|  44|     8|113755.78|            2|          null|      149756.71|     1|\n|  15592389|     null|        684|   France|  Male|  27|     2|134603.88|            1|             1|       71725.73|  null|\n|  15592531| Bartlett|        822|   France|  Male|null|     7|     null|            2|             1|        10062.8|     0|\n|  15600882|     null|       null|     null|  null|null|     7|     null|            2|             1|       65951.65|     0|\n|  15619304|     null|       null|     null|  null|null|     8| 159660.8|            3|             0|      113931.57|     1|\n|  15632264|     null|       null|     null|  null|null|    10|     null|            2|          null|       26260.98|     0|\n|  15634602| Hargrave|        619|   France|Female|  42|     2|     null|            1|             1|      101348.88|     1|\n|  15643966|     null|       null|     null|  null|null|     3|143129.41|            2|             1|       64327.26|  null|\n|  15647311|     Hill|        608|     null|Female|  41|     1| 83807.86|            1|             1|      112542.58|     0|\n|  15656148|   Obinna|        376|  Germany|  null|  29|     4|115046.74|            4|             0|      119346.88|     1|\n|  15661507|  Muldrow|        587|    Spain|  Male|  45|     6|     null|            1|             0|      158684.81|     0|\n|  15691483|     null|       null|     null|  null|null|     5|     null|            2|             0|      190857.79|  null|\n|  15701354|     null|       null|   France|  null|null|     1|     null|            2|             0|       93826.63|     0|\n|  15737173|     null|       null|     null|  null|null|     3|     null|            2|             0|       76390.01|     0|\n|  15737452|     null|       null|  Germany|  Male|  58|  null|132602.88|            1|          null|        5097.67|     1|\n|  15737888| Mitchell|        850|    Spain|Female|null|     2|125510.82|            1|             1|        79084.1|  null|\n|  15767821|     null|       null|     null|  null|null|  null|102016.72|            2|             0|       80181.12|     0|\n|  15788218|Henderson|        549|    Spain|Female|null|     9|     null|            2|             1|       14406.41|     0|\n|  15792365|       He|        501|   France|  null|  44|     4|142051.07|            2|             1|        74940.5|     0|\n+----------+---------+-----------+---------+------+----+------+---------+-------------+--------------+---------------+------+\n\n"
     ]
    }
   ],
   "source": [
    "full_join = df1.join(df2, on=\"CustomerId\", how=\"outer\")\n",
    "full_join.show()"
   ]
  },
  {
   "cell_type": "markdown",
   "metadata": {
    "application/vnd.databricks.v1+cell": {
     "cellMetadata": {},
     "inputWidgets": {},
     "nuid": "22a1949b-7754-4789-b733-e7c11ad6eeaa",
     "showTitle": false,
     "tableResultSettingsMap": {},
     "title": ""
    }
   },
   "source": [
    "#### 4.5. Left Semi"
   ]
  },
  {
   "cell_type": "code",
   "execution_count": 0,
   "metadata": {
    "application/vnd.databricks.v1+cell": {
     "cellMetadata": {
      "byteLimit": 2048000,
      "rowLimit": 10000
     },
     "inputWidgets": {},
     "nuid": "e89700dc-afcd-4f63-be00-dcfdcb58dbb2",
     "showTitle": false,
     "tableResultSettingsMap": {},
     "title": ""
    }
   },
   "outputs": [
    {
     "output_type": "stream",
     "name": "stdout",
     "output_type": "stream",
     "text": [
      "+----------+---------+-----------+---------+------+----+\n|CustomerId|  Surname|CreditScore|Geography|Gender| Age|\n+----------+---------+-----------+---------+------+----+\n|  15634602| Hargrave|        619|   France|Female|  42|\n|  15647311|     Hill|        608|     null|Female|  41|\n|  15701354|     null|       null|   France|  null|null|\n|  15737888| Mitchell|        850|    Spain|Female|null|\n|  15574012|     null|        645|     null|  Male|  44|\n|  15592531| Bartlett|        822|   France|  Male|null|\n|  15656148|   Obinna|        376|  Germany|  null|  29|\n|  15792365|       He|        501|   France|  null|  44|\n|  15592389|     null|        684|   France|  Male|  27|\n|  15737452|     null|       null|  Germany|  Male|  58|\n|  15788218|Henderson|        549|    Spain|Female|null|\n|  15661507|  Muldrow|        587|    Spain|  Male|  45|\n|  15568982|      Hao|        726|   France|Female|  24|\n+----------+---------+-----------+---------+------+----+\n\n"
     ]
    }
   ],
   "source": [
    "result4 = spark.sql(\"SELECT * FROM table1 t1 WHERE EXISTS ( SELECT 1 FROM table2 t2 WHERE t1.CustomerId = t2.CustomerId );\")\n",
    "result4.show()"
   ]
  },
  {
   "cell_type": "code",
   "execution_count": 0,
   "metadata": {
    "application/vnd.databricks.v1+cell": {
     "cellMetadata": {
      "byteLimit": 2048000,
      "rowLimit": 10000
     },
     "inputWidgets": {},
     "nuid": "5e99ee5c-eaa0-4837-b3b8-6b69721c90bd",
     "showTitle": false,
     "tableResultSettingsMap": {},
     "title": ""
    }
   },
   "outputs": [
    {
     "output_type": "stream",
     "name": "stdout",
     "output_type": "stream",
     "text": [
      "+----------+---------+-----------+---------+------+----+\n|CustomerId|  Surname|CreditScore|Geography|Gender| Age|\n+----------+---------+-----------+---------+------+----+\n|  15634602| Hargrave|        619|   France|Female|  42|\n|  15647311|     Hill|        608|     null|Female|  41|\n|  15701354|     null|       null|   France|  null|null|\n|  15737888| Mitchell|        850|    Spain|Female|null|\n|  15574012|     null|        645|     null|  Male|  44|\n|  15592531| Bartlett|        822|   France|  Male|null|\n|  15656148|   Obinna|        376|  Germany|  null|  29|\n|  15792365|       He|        501|   France|  null|  44|\n|  15592389|     null|        684|   France|  Male|  27|\n|  15737452|     null|       null|  Germany|  Male|  58|\n|  15788218|Henderson|        549|    Spain|Female|null|\n|  15661507|  Muldrow|        587|    Spain|  Male|  45|\n|  15568982|      Hao|        726|   France|Female|  24|\n+----------+---------+-----------+---------+------+----+\n\n"
     ]
    }
   ],
   "source": [
    "left_semi_join = df1.join(df2, on=\"CustomerId\", how=\"leftsemi\")\n",
    "left_semi_join.show()"
   ]
  },
  {
   "cell_type": "markdown",
   "metadata": {
    "application/vnd.databricks.v1+cell": {
     "cellMetadata": {},
     "inputWidgets": {},
     "nuid": "979b550d-2f64-4c24-96e0-a9ab2f6a5da2",
     "showTitle": false,
     "tableResultSettingsMap": {},
     "title": ""
    }
   },
   "source": [
    "### 5. Customers with Tenure less than 5 or CreditScore greater than 750:"
   ]
  },
  {
   "cell_type": "code",
   "execution_count": 0,
   "metadata": {
    "application/vnd.databricks.v1+cell": {
     "cellMetadata": {
      "byteLimit": 2048000,
      "rowLimit": 10000
     },
     "inputWidgets": {},
     "nuid": "d0945ee9-b67e-42f7-a4d5-cb821b128067",
     "showTitle": false,
     "tableResultSettingsMap": {},
     "title": ""
    }
   },
   "outputs": [
    {
     "output_type": "stream",
     "name": "stdout",
     "output_type": "stream",
     "text": [
      "+---------+----------+----------+-----------+---------+------+---+------+---------+-------------+--------------+---------------+------+\n|RowNumber|CustomerId|   Surname|CreditScore|Geography|Gender|Age|Tenure|  Balance|NumOfProducts|IsActiveMember|EstimatedSalary|Exited|\n+---------+----------+----------+-----------+---------+------+---+------+---------+-------------+--------------+---------------+------+\n|        1|  15634602|  Hargrave|        619|   France|Female| 42|     2|      0.0|            1|             1|      101348.88|     1|\n|        2|  15647311|      Hill|        608|    Spain|Female| 41|     1| 83807.86|            1|             1|      112542.58|     0|\n|        4|  15701354|      Boni|        699|   France|Female| 39|     1|      0.0|            2|             0|       93826.63|     0|\n|        5|  15737888|  Mitchell|        850|    Spain|Female| 43|     2|125510.82|            1|             1|        79084.1|     0|\n|        7|  15592531|  Bartlett|        822|   France|  Male| 50|     7|      0.0|            2|             1|        10062.8|     0|\n|        8|  15656148|    Obinna|        376|  Germany|Female| 29|     4|115046.74|            4|             0|      119346.88|     1|\n|        9|  15792365|        He|        501|   France|  Male| 44|     4|142051.07|            2|             1|        74940.5|     0|\n|       10|  15592389|        H?|        684|   France|  Male| 27|     2|134603.88|            1|             1|       71725.73|     0|\n|       12|  15737173|   Andrews|        497|    Spain|  Male| 24|     3|      0.0|            2|             0|       76390.01|     0|\n|       16|  15643966|   Goforth|        616|  Germany|  Male| 45|     3|143129.41|            2|             1|       64327.26|     0|\n|       17|  15737452|     Romeo|        653|  Germany|  Male| 58|     1|132602.88|            1|             0|        5097.67|     1|\n|       23|  15699309| Gerasimov|        510|    Spain|Female| 38|     4|      0.0|            1|             0|      118913.53|     1|\n|       24|  15725737|    Mosman|        669|   France|  Male| 46|     3|      0.0|            2|             1|        8487.75|     0|\n|       25|  15625047|       Yen|        846|   France|Female| 38|     5|      0.0|            1|             1|      187616.16|     0|\n|       26|  15738191|   Maclean|        577|   France|  Male| 25|     3|      0.0|            2|             1|      124508.29|     0|\n|       27|  15736816|     Young|        756|  Germany|  Male| 36|     2|136815.64|            1|             1|      170041.95|     0|\n|       29|  15728693|McWilliams|        574|  Germany|Female| 43|     3|141349.43|            1|             1|      100187.43|     0|\n|       30|  15656300|  Lucciano|        411|   France|  Male| 29|     0| 59697.17|            2|             1|       53483.21|     0|\n|       31|  15589475|   Azikiwe|        591|    Spain|Female| 39|     3|      0.0|            3|             0|      140469.38|     1|\n|       36|  15794171|  Lombardo|        475|   France|Female| 45|     0|134264.04|            1|             0|       27822.99|     1|\n+---------+----------+----------+-----------+---------+------+---+------+---------+-------------+--------------+---------------+------+\nonly showing top 20 rows\n\n"
     ]
    }
   ],
   "source": [
    "result5 = spark.sql(\"SELECT * FROM credit WHERE Tenure < 5 OR CreditScore > 750;\")\n",
    "result5.show()"
   ]
  },
  {
   "cell_type": "code",
   "execution_count": 0,
   "metadata": {
    "application/vnd.databricks.v1+cell": {
     "cellMetadata": {
      "byteLimit": 2048000,
      "rowLimit": 10000
     },
     "inputWidgets": {},
     "nuid": "a49fdea1-b89a-49be-88b1-6c1a0c500ff7",
     "showTitle": false,
     "tableResultSettingsMap": {},
     "title": ""
    }
   },
   "outputs": [
    {
     "output_type": "stream",
     "name": "stdout",
     "output_type": "stream",
     "text": [
      "+---------+----------+----------+-----------+---------+------+---+------+---------+-------------+--------------+---------------+------+\n|RowNumber|CustomerId|   Surname|CreditScore|Geography|Gender|Age|Tenure|  Balance|NumOfProducts|IsActiveMember|EstimatedSalary|Exited|\n+---------+----------+----------+-----------+---------+------+---+------+---------+-------------+--------------+---------------+------+\n|        1|  15634602|  Hargrave|        619|   France|Female| 42|     2|      0.0|            1|             1|      101348.88|     1|\n|        2|  15647311|      Hill|        608|    Spain|Female| 41|     1| 83807.86|            1|             1|      112542.58|     0|\n|        4|  15701354|      Boni|        699|   France|Female| 39|     1|      0.0|            2|             0|       93826.63|     0|\n|        5|  15737888|  Mitchell|        850|    Spain|Female| 43|     2|125510.82|            1|             1|        79084.1|     0|\n|        7|  15592531|  Bartlett|        822|   France|  Male| 50|     7|      0.0|            2|             1|        10062.8|     0|\n|        8|  15656148|    Obinna|        376|  Germany|Female| 29|     4|115046.74|            4|             0|      119346.88|     1|\n|        9|  15792365|        He|        501|   France|  Male| 44|     4|142051.07|            2|             1|        74940.5|     0|\n|       10|  15592389|        H?|        684|   France|  Male| 27|     2|134603.88|            1|             1|       71725.73|     0|\n|       12|  15737173|   Andrews|        497|    Spain|  Male| 24|     3|      0.0|            2|             0|       76390.01|     0|\n|       16|  15643966|   Goforth|        616|  Germany|  Male| 45|     3|143129.41|            2|             1|       64327.26|     0|\n|       17|  15737452|     Romeo|        653|  Germany|  Male| 58|     1|132602.88|            1|             0|        5097.67|     1|\n|       23|  15699309| Gerasimov|        510|    Spain|Female| 38|     4|      0.0|            1|             0|      118913.53|     1|\n|       24|  15725737|    Mosman|        669|   France|  Male| 46|     3|      0.0|            2|             1|        8487.75|     0|\n|       25|  15625047|       Yen|        846|   France|Female| 38|     5|      0.0|            1|             1|      187616.16|     0|\n|       26|  15738191|   Maclean|        577|   France|  Male| 25|     3|      0.0|            2|             1|      124508.29|     0|\n|       27|  15736816|     Young|        756|  Germany|  Male| 36|     2|136815.64|            1|             1|      170041.95|     0|\n|       29|  15728693|McWilliams|        574|  Germany|Female| 43|     3|141349.43|            1|             1|      100187.43|     0|\n|       30|  15656300|  Lucciano|        411|   France|  Male| 29|     0| 59697.17|            2|             1|       53483.21|     0|\n|       31|  15589475|   Azikiwe|        591|    Spain|Female| 39|     3|      0.0|            3|             0|      140469.38|     1|\n|       36|  15794171|  Lombardo|        475|   France|Female| 45|     0|134264.04|            1|             0|       27822.99|     1|\n+---------+----------+----------+-----------+---------+------+---+------+---------+-------------+--------------+---------------+------+\nonly showing top 20 rows\n\n"
     ]
    }
   ],
   "source": [
    "filter2 = data_credit.filter((data_credit.Tenure < 5) |(data_credit.CreditScore > 750))\n",
    "filter2.show()"
   ]
  },
  {
   "cell_type": "markdown",
   "metadata": {
    "application/vnd.databricks.v1+cell": {
     "cellMetadata": {},
     "inputWidgets": {},
     "nuid": "e96328b2-f8b3-4042-82c2-39e9dc54d495",
     "showTitle": false,
     "tableResultSettingsMap": {},
     "title": ""
    }
   },
   "source": [
    "### 6. Calculate the total number of active members and the average EstimatedSalary:"
   ]
  },
  {
   "cell_type": "code",
   "execution_count": 0,
   "metadata": {
    "application/vnd.databricks.v1+cell": {
     "cellMetadata": {
      "byteLimit": 2048000,
      "implicitDf": true,
      "rowLimit": 10000
     },
     "inputWidgets": {},
     "nuid": "99444c5c-a278-4b34-9af7-a8b78d463f4d",
     "showTitle": false,
     "tableResultSettingsMap": {},
     "title": ""
    }
   },
   "outputs": [
    {
     "output_type": "display_data",
     "data": {
      "text/html": [
       "<style scoped>\n",
       "  .table-result-container {\n",
       "    max-height: 300px;\n",
       "    overflow: auto;\n",
       "  }\n",
       "  table, th, td {\n",
       "    border: 1px solid black;\n",
       "    border-collapse: collapse;\n",
       "  }\n",
       "  th, td {\n",
       "    padding: 5px;\n",
       "  }\n",
       "  th {\n",
       "    text-align: left;\n",
       "  }\n",
       "</style><div class='table-result-container'><table class='table-result'><thead style='background-color: white'><tr><th>TotalActiveMembers</th><th>AvgEstimatedSalary</th></tr></thead><tbody><tr><td>5151</td><td>100090.2398809998</td></tr></tbody></table></div>"
      ]
     },
     "metadata": {
      "application/vnd.databricks.v1+output": {
       "addedWidgets": {},
       "aggData": [],
       "aggError": "",
       "aggOverflow": false,
       "aggSchema": [],
       "aggSeriesLimitReached": false,
       "aggType": "",
       "arguments": {},
       "columnCustomDisplayInfos": {},
       "data": [
        [
         5151,
         100090.2398809998
        ]
       ],
       "datasetInfos": [],
       "dbfsResultPath": null,
       "isJsonSchema": true,
       "metadata": {},
       "overflow": false,
       "plotOptions": {
        "customPlotOptions": {},
        "displayType": "table",
        "pivotAggregation": null,
        "pivotColumns": null,
        "xColumns": null,
        "yColumns": null
       },
       "removedWidgets": [],
       "schema": [
        {
         "metadata": "{}",
         "name": "TotalActiveMembers",
         "type": "\"long\""
        },
        {
         "metadata": "{}",
         "name": "AvgEstimatedSalary",
         "type": "\"double\""
        }
       ],
       "type": "table"
      }
     },
     "output_type": "display_data"
    }
   ],
   "source": [
    "%sql\n",
    "SELECT SUM(IsActiveMember) AS TotalActiveMembers, AVG(EstimatedSalary) AS AvgEstimatedSalary\n",
    "FROM credit;"
   ]
  },
  {
   "cell_type": "code",
   "execution_count": 0,
   "metadata": {
    "application/vnd.databricks.v1+cell": {
     "cellMetadata": {
      "byteLimit": 2048000,
      "rowLimit": 10000
     },
     "inputWidgets": {},
     "nuid": "252ba6da-cd45-4af1-adb9-69611a2e4bfd",
     "showTitle": false,
     "tableResultSettingsMap": {},
     "title": ""
    }
   },
   "outputs": [
    {
     "output_type": "stream",
     "name": "stdout",
     "output_type": "stream",
     "text": [
      "+------------------+------------------+\n|TotalActiveMembers|AvgEstimatedSalary|\n+------------------+------------------+\n|              5151| 100090.2398809998|\n+------------------+------------------+\n\n"
     ]
    }
   ],
   "source": [
    "agg1 = data_credit.agg({\"IsActiveMember\": \"sum\", \"EstimatedSalary\": \"avg\"}) \\\n",
    ".withColumnRenamed(\"sum(IsActiveMember)\", \"TotalActiveMembers\") \\\n",
    ".withColumnRenamed(\"avg(EstimatedSalary)\", \"AvgEstimatedSalary\")\n",
    "agg1.show()"
   ]
  }
 ],
 "metadata": {
  "application/vnd.databricks.v1+notebook": {
   "dashboards": [],
   "environmentMetadata": null,
   "language": "python",
   "notebookMetadata": {
    "mostRecentlyExecutedCommandWithImplicitDF": {
     "commandId": 3909436741869924,
     "dataframes": [
      "_sqldf"
     ]
    },
    "pythonIndentUnit": 4
   },
   "notebookName": "Coding Challenge VSP",
   "widgets": {}
  }
 },
 "nbformat": 4,
 "nbformat_minor": 0
}
